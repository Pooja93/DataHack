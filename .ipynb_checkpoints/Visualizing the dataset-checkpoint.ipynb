{
 "cells": [
  {
   "cell_type": "code",
   "execution_count": 2,
   "metadata": {
    "collapsed": false
   },
   "outputs": [],
   "source": [
    "import graphlab"
   ]
  },
  {
   "cell_type": "code",
   "execution_count": 3,
   "metadata": {
    "collapsed": false
   },
   "outputs": [
    {
     "name": "stderr",
     "output_type": "stream",
     "text": [
      "[INFO] graphlab.cython.cy_server: GraphLab Create v1.10 started. Logging: /tmp/graphlab_server_1476544535.log\n"
     ]
    },
    {
     "name": "stdout",
     "output_type": "stream",
     "text": [
      "This non-commercial license of GraphLab Create for academic use is assigned to junfuy@sfu.ca and will expire on December 06, 2016.\n"
     ]
    },
    {
     "data": {
      "text/html": [
       "<pre>Unable to parse line \"/organization/svg-onload-confirm-1-prompt-xss-source-prompt-0,\"XSS<img src=x onerror=prompt(\"\"1\"\")>\",,,,,,/organization/button-svg-onload-v-prompt-v-xss-source-v-0-button,\"><button><svg/onload=v=prompt;v(/Sexy/.source);v(0)></button>\t\tMEX\t19\tMEX - Other\tCo...\"</pre>"
      ],
      "text/plain": [
       "Unable to parse line \"/organization/svg-onload-confirm-1-prompt-xss-source-prompt-0,\"XSS<img src=x onerror=prompt(\"\"1\"\")>\",,,,,,/organization/button-svg-onload-v-prompt-v-xss-source-v-0-button,\"><button><svg/onload=v=prompt;v(/Sexy/.source);v(0)></button>\t\tMEX\t19\tMEX - Other\tCo...\""
      ]
     },
     "metadata": {},
     "output_type": "display_data"
    },
    {
     "data": {
      "text/html": [
       "<pre>Unable to parse line \"/organization/xstreet-sl\tXStreet SL\tE-Commerce\t\t\t\t\t/organization/secondlife\tLinden Lab\tGames\tUSA\tCA\tSF Bay Area\tSan Francisco\t2009-01-22 00:00:00\t2009-01\t2009-Q1\t2009\t\tUSD\"</pre>"
      ],
      "text/plain": [
       "Unable to parse line \"/organization/xstreet-sl\tXStreet SL\tE-Commerce\t\t\t\t\t/organization/secondlife\tLinden Lab\tGames\tUSA\tCA\tSF Bay Area\tSan Francisco\t2009-01-22 00:00:00\t2009-01\t2009-Q1\t2009\t\tUSD\""
      ]
     },
     "metadata": {},
     "output_type": "display_data"
    },
    {
     "data": {
      "text/html": [
       "<pre>Unable to parse line \"/organization/x-systems\tX.Systems\tSoftware\t\t\t\t\t/organization/xyenterprise\tXyEnterprise\tSoftware\t\t\t\t\t2008-05-01 00:00:00\t2008-05\t2008-Q2\t2008\t\tUSD\"</pre>"
      ],
      "text/plain": [
       "Unable to parse line \"/organization/x-systems\tX.Systems\tSoftware\t\t\t\t\t/organization/xyenterprise\tXyEnterprise\tSoftware\t\t\t\t\t2008-05-01 00:00:00\t2008-05\t2008-Q2\t2008\t\tUSD\""
      ]
     },
     "metadata": {},
     "output_type": "display_data"
    },
    {
     "data": {
      "text/html": [
       "<pre>Unable to parse line \"/organization/xtellus\tXtellus\tHardware + Software\tUSA\tNJ\tNewark\tMorris Plains\t/organization/oclaro\tOclaro\tHardware + Software\tUSA\tCA\tSF Bay Area\tSan Jose\t2009-12-18 00:00:00\t2009-12\t2009-Q4\t2009\t33000000\tUSD\"</pre>"
      ],
      "text/plain": [
       "Unable to parse line \"/organization/xtellus\tXtellus\tHardware + Software\tUSA\tNJ\tNewark\tMorris Plains\t/organization/oclaro\tOclaro\tHardware + Software\tUSA\tCA\tSF Bay Area\tSan Jose\t2009-12-18 00:00:00\t2009-12\t2009-Q4\t2009\t33000000\tUSD\""
      ]
     },
     "metadata": {},
     "output_type": "display_data"
    },
    {
     "data": {
      "text/html": [
       "<pre>Unable to parse line \"/organization/xtend-healthcare\tXtend Healthcare\t\tUSA\tTN\tNashville\tHendersonville\t/organization/navient-corporation\tNavient Corporation\tEducation\tUSA\tDE\tWilmington, Delaware\tNewark\t2015-10-22 00:00:00\t2015-10\t2015-Q4\t2015\t\tUSD\"</pre>"
      ],
      "text/plain": [
       "Unable to parse line \"/organization/xtend-healthcare\tXtend Healthcare\t\tUSA\tTN\tNashville\tHendersonville\t/organization/navient-corporation\tNavient Corporation\tEducation\tUSA\tDE\tWilmington, Delaware\tNewark\t2015-10-22 00:00:00\t2015-10\t2015-Q4\t2015\t\tUSD\""
      ]
     },
     "metadata": {},
     "output_type": "display_data"
    },
    {
     "data": {
      "text/html": [
       "<pre>Unable to parse line \"/organization/xtenterprise\tXtEnterprise\tCurated Web\t\t\t\t\t/organization/sdl-international\tSDL plc\tCloud Computing|Software\tGBR\tP9\tLondon\tMaidenhead\t2009-06-28 00:00:00\t2009-06\t2009-Q2\t2009\t14700000\tUSD\"</pre>"
      ],
      "text/plain": [
       "Unable to parse line \"/organization/xtenterprise\tXtEnterprise\tCurated Web\t\t\t\t\t/organization/sdl-international\tSDL plc\tCloud Computing|Software\tGBR\tP9\tLondon\tMaidenhead\t2009-06-28 00:00:00\t2009-06\t2009-Q2\t2009\t14700000\tUSD\""
      ]
     },
     "metadata": {},
     "output_type": "display_data"
    },
    {
     "data": {
      "text/html": [
       "<pre>Unable to parse line \"/organization/xtify\tXtify Inc.\tAndroid|App Marketing|Location Based Services|Mobile\tUSA\tNY\tNew York City\tNew York\t/organization/ibm\tIBM (International Business Machines)\tInformation Services|Information Technology|Software\tUSA\tNY\tNew York City\tArmonk\t2013-...\"</pre>"
      ],
      "text/plain": [
       "Unable to parse line \"/organization/xtify\tXtify Inc.\tAndroid|App Marketing|Location Based Services|Mobile\tUSA\tNY\tNew York City\tNew York\t/organization/ibm\tIBM (International Business Machines)\tInformation Services|Information Technology|Software\tUSA\tNY\tNew York City\tArmonk\t2013-...\""
      ]
     },
     "metadata": {},
     "output_type": "display_data"
    },
    {
     "data": {
      "text/html": [
       "<pre>Unable to parse line \"/organization/xtime\tXtime\tAnalytics|CRM|Software\tUSA\tCA\tSF Bay Area\tRedwood Shores\t/organization/cox-automotive\tCox Automotive\tAutomotive|Services\tAUS\t07\tMelbourne\tSouth Melbourne\t2014-11-11 00:00:00\t2014-11\t2014-Q4\t2014\t325000000\tUSD\"</pre>"
      ],
      "text/plain": [
       "Unable to parse line \"/organization/xtime\tXtime\tAnalytics|CRM|Software\tUSA\tCA\tSF Bay Area\tRedwood Shores\t/organization/cox-automotive\tCox Automotive\tAutomotive|Services\tAUS\t07\tMelbourne\tSouth Melbourne\t2014-11-11 00:00:00\t2014-11\t2014-Q4\t2014\t325000000\tUSD\""
      ]
     },
     "metadata": {},
     "output_type": "display_data"
    },
    {
     "data": {
      "text/html": [
       "<pre>Unable to parse line \"/organization/xtract\tXtract\tAdvertising\tFIN\t13\tHelsinki\tEspoo\t/organization/comptel\tComptel\tBig Data|Customer Service|Information Technology|Predictive Analytics\tFIN\t13\tHelsinki\tHelsinki\t2012-01-26 00:00:00\t2012-01\t2012-Q1\t2012\t3100000\tEUR\"</pre>"
      ],
      "text/plain": [
       "Unable to parse line \"/organization/xtract\tXtract\tAdvertising\tFIN\t13\tHelsinki\tEspoo\t/organization/comptel\tComptel\tBig Data|Customer Service|Information Technology|Predictive Analytics\tFIN\t13\tHelsinki\tHelsinki\t2012-01-26 00:00:00\t2012-01\t2012-Q1\t2012\t3100000\tEUR\""
      ]
     },
     "metadata": {},
     "output_type": "display_data"
    },
    {
     "data": {
      "text/html": [
       "<pre>Unable to parse line \"/organization/xtraction-solutions\tXtraction Solutions\t\tUSA\tMO\tKansas City\tKansas City\t/organization/landesk-software\tLANDesk Software\tSoftware\tUSA\tUT\tSalt Lake City\tSouth Jordan\t2015-08-31 00:00:00\t2015-08\t2015-Q3\t2015\t\tUSD\"</pre>"
      ],
      "text/plain": [
       "Unable to parse line \"/organization/xtraction-solutions\tXtraction Solutions\t\tUSA\tMO\tKansas City\tKansas City\t/organization/landesk-software\tLANDesk Software\tSoftware\tUSA\tUT\tSalt Lake City\tSouth Jordan\t2015-08-31 00:00:00\t2015-08\t2015-Q3\t2015\t\tUSD\""
      ]
     },
     "metadata": {},
     "output_type": "display_data"
    },
    {
     "data": {
      "text/html": [
       "<pre>148 lines failed to parse correctly</pre>"
      ],
      "text/plain": [
       "148 lines failed to parse correctly"
      ]
     },
     "metadata": {},
     "output_type": "display_data"
    },
    {
     "data": {
      "text/html": [
       "<pre>Finished parsing file /Users/pbhandary/Downloads/base_data/acquisitions.csv</pre>"
      ],
      "text/plain": [
       "Finished parsing file /Users/pbhandary/Downloads/base_data/acquisitions.csv"
      ]
     },
     "metadata": {},
     "output_type": "display_data"
    },
    {
     "data": {
      "text/html": [
       "<pre>Parsing completed. Parsed 100 lines in 0.097775 secs.</pre>"
      ],
      "text/plain": [
       "Parsing completed. Parsed 100 lines in 0.097775 secs."
      ]
     },
     "metadata": {},
     "output_type": "display_data"
    },
    {
     "name": "stdout",
     "output_type": "stream",
     "text": [
      "------------------------------------------------------\n",
      "Inferred types from first 100 line(s) of file as \n",
      "column_type_hints=[str,str,str,str,str,str,str,str,str,str,str,str,str,str,str,str,int,str]\n",
      "If parsing fails due to incorrect types, you can correct\n",
      "the inferred type list above and pass it to read_csv in\n",
      "the column_type_hints argument\n",
      "------------------------------------------------------\n"
     ]
    },
    {
     "data": {
      "text/html": [
       "<pre>Unable to parse line \"/organization/svg-onload-confirm-1-prompt-xss-source-prompt-0,\"XSS<img src=x onerror=prompt(\"\"1\"\")>\",,,,,,/organization/button-svg-onload-v-prompt-v-xss-source-v-0-button,\"><button><svg/onload=v=prompt;v(/Sexy/.source);v(0)></button>\t\tMEX\t19\tMEX - Other\tCo...\"</pre>"
      ],
      "text/plain": [
       "Unable to parse line \"/organization/svg-onload-confirm-1-prompt-xss-source-prompt-0,\"XSS<img src=x onerror=prompt(\"\"1\"\")>\",,,,,,/organization/button-svg-onload-v-prompt-v-xss-source-v-0-button,\"><button><svg/onload=v=prompt;v(/Sexy/.source);v(0)></button>\t\tMEX\t19\tMEX - Other\tCo...\""
      ]
     },
     "metadata": {},
     "output_type": "display_data"
    },
    {
     "data": {
      "text/html": [
       "<pre>Unable to parse line \"/organization/xstreet-sl\tXStreet SL\tE-Commerce\t\t\t\t\t/organization/secondlife\tLinden Lab\tGames\tUSA\tCA\tSF Bay Area\tSan Francisco\t2009-01-22 00:00:00\t2009-01\t2009-Q1\t2009\t\tUSD\"</pre>"
      ],
      "text/plain": [
       "Unable to parse line \"/organization/xstreet-sl\tXStreet SL\tE-Commerce\t\t\t\t\t/organization/secondlife\tLinden Lab\tGames\tUSA\tCA\tSF Bay Area\tSan Francisco\t2009-01-22 00:00:00\t2009-01\t2009-Q1\t2009\t\tUSD\""
      ]
     },
     "metadata": {},
     "output_type": "display_data"
    },
    {
     "data": {
      "text/html": [
       "<pre>Unable to parse line \"/organization/x-systems\tX.Systems\tSoftware\t\t\t\t\t/organization/xyenterprise\tXyEnterprise\tSoftware\t\t\t\t\t2008-05-01 00:00:00\t2008-05\t2008-Q2\t2008\t\tUSD\"</pre>"
      ],
      "text/plain": [
       "Unable to parse line \"/organization/x-systems\tX.Systems\tSoftware\t\t\t\t\t/organization/xyenterprise\tXyEnterprise\tSoftware\t\t\t\t\t2008-05-01 00:00:00\t2008-05\t2008-Q2\t2008\t\tUSD\""
      ]
     },
     "metadata": {},
     "output_type": "display_data"
    },
    {
     "data": {
      "text/html": [
       "<pre>Unable to parse line \"/organization/xtellus\tXtellus\tHardware + Software\tUSA\tNJ\tNewark\tMorris Plains\t/organization/oclaro\tOclaro\tHardware + Software\tUSA\tCA\tSF Bay Area\tSan Jose\t2009-12-18 00:00:00\t2009-12\t2009-Q4\t2009\t33000000\tUSD\"</pre>"
      ],
      "text/plain": [
       "Unable to parse line \"/organization/xtellus\tXtellus\tHardware + Software\tUSA\tNJ\tNewark\tMorris Plains\t/organization/oclaro\tOclaro\tHardware + Software\tUSA\tCA\tSF Bay Area\tSan Jose\t2009-12-18 00:00:00\t2009-12\t2009-Q4\t2009\t33000000\tUSD\""
      ]
     },
     "metadata": {},
     "output_type": "display_data"
    },
    {
     "data": {
      "text/html": [
       "<pre>Unable to parse line \"/organization/xtend-healthcare\tXtend Healthcare\t\tUSA\tTN\tNashville\tHendersonville\t/organization/navient-corporation\tNavient Corporation\tEducation\tUSA\tDE\tWilmington, Delaware\tNewark\t2015-10-22 00:00:00\t2015-10\t2015-Q4\t2015\t\tUSD\"</pre>"
      ],
      "text/plain": [
       "Unable to parse line \"/organization/xtend-healthcare\tXtend Healthcare\t\tUSA\tTN\tNashville\tHendersonville\t/organization/navient-corporation\tNavient Corporation\tEducation\tUSA\tDE\tWilmington, Delaware\tNewark\t2015-10-22 00:00:00\t2015-10\t2015-Q4\t2015\t\tUSD\""
      ]
     },
     "metadata": {},
     "output_type": "display_data"
    },
    {
     "data": {
      "text/html": [
       "<pre>Unable to parse line \"/organization/xtenterprise\tXtEnterprise\tCurated Web\t\t\t\t\t/organization/sdl-international\tSDL plc\tCloud Computing|Software\tGBR\tP9\tLondon\tMaidenhead\t2009-06-28 00:00:00\t2009-06\t2009-Q2\t2009\t14700000\tUSD\"</pre>"
      ],
      "text/plain": [
       "Unable to parse line \"/organization/xtenterprise\tXtEnterprise\tCurated Web\t\t\t\t\t/organization/sdl-international\tSDL plc\tCloud Computing|Software\tGBR\tP9\tLondon\tMaidenhead\t2009-06-28 00:00:00\t2009-06\t2009-Q2\t2009\t14700000\tUSD\""
      ]
     },
     "metadata": {},
     "output_type": "display_data"
    },
    {
     "data": {
      "text/html": [
       "<pre>Unable to parse line \"/organization/xtify\tXtify Inc.\tAndroid|App Marketing|Location Based Services|Mobile\tUSA\tNY\tNew York City\tNew York\t/organization/ibm\tIBM (International Business Machines)\tInformation Services|Information Technology|Software\tUSA\tNY\tNew York City\tArmonk\t2013-...\"</pre>"
      ],
      "text/plain": [
       "Unable to parse line \"/organization/xtify\tXtify Inc.\tAndroid|App Marketing|Location Based Services|Mobile\tUSA\tNY\tNew York City\tNew York\t/organization/ibm\tIBM (International Business Machines)\tInformation Services|Information Technology|Software\tUSA\tNY\tNew York City\tArmonk\t2013-...\""
      ]
     },
     "metadata": {},
     "output_type": "display_data"
    },
    {
     "data": {
      "text/html": [
       "<pre>Unable to parse line \"/organization/xtime\tXtime\tAnalytics|CRM|Software\tUSA\tCA\tSF Bay Area\tRedwood Shores\t/organization/cox-automotive\tCox Automotive\tAutomotive|Services\tAUS\t07\tMelbourne\tSouth Melbourne\t2014-11-11 00:00:00\t2014-11\t2014-Q4\t2014\t325000000\tUSD\"</pre>"
      ],
      "text/plain": [
       "Unable to parse line \"/organization/xtime\tXtime\tAnalytics|CRM|Software\tUSA\tCA\tSF Bay Area\tRedwood Shores\t/organization/cox-automotive\tCox Automotive\tAutomotive|Services\tAUS\t07\tMelbourne\tSouth Melbourne\t2014-11-11 00:00:00\t2014-11\t2014-Q4\t2014\t325000000\tUSD\""
      ]
     },
     "metadata": {},
     "output_type": "display_data"
    },
    {
     "data": {
      "text/html": [
       "<pre>Unable to parse line \"/organization/xtract\tXtract\tAdvertising\tFIN\t13\tHelsinki\tEspoo\t/organization/comptel\tComptel\tBig Data|Customer Service|Information Technology|Predictive Analytics\tFIN\t13\tHelsinki\tHelsinki\t2012-01-26 00:00:00\t2012-01\t2012-Q1\t2012\t3100000\tEUR\"</pre>"
      ],
      "text/plain": [
       "Unable to parse line \"/organization/xtract\tXtract\tAdvertising\tFIN\t13\tHelsinki\tEspoo\t/organization/comptel\tComptel\tBig Data|Customer Service|Information Technology|Predictive Analytics\tFIN\t13\tHelsinki\tHelsinki\t2012-01-26 00:00:00\t2012-01\t2012-Q1\t2012\t3100000\tEUR\""
      ]
     },
     "metadata": {},
     "output_type": "display_data"
    },
    {
     "data": {
      "text/html": [
       "<pre>Unable to parse line \"/organization/xtraction-solutions\tXtraction Solutions\t\tUSA\tMO\tKansas City\tKansas City\t/organization/landesk-software\tLANDesk Software\tSoftware\tUSA\tUT\tSalt Lake City\tSouth Jordan\t2015-08-31 00:00:00\t2015-08\t2015-Q3\t2015\t\tUSD\"</pre>"
      ],
      "text/plain": [
       "Unable to parse line \"/organization/xtraction-solutions\tXtraction Solutions\t\tUSA\tMO\tKansas City\tKansas City\t/organization/landesk-software\tLANDesk Software\tSoftware\tUSA\tUT\tSalt Lake City\tSouth Jordan\t2015-08-31 00:00:00\t2015-08\t2015-Q3\t2015\t\tUSD\""
      ]
     },
     "metadata": {},
     "output_type": "display_data"
    },
    {
     "data": {
      "text/html": [
       "<pre>148 lines failed to parse correctly</pre>"
      ],
      "text/plain": [
       "148 lines failed to parse correctly"
      ]
     },
     "metadata": {},
     "output_type": "display_data"
    },
    {
     "data": {
      "text/html": [
       "<pre>Finished parsing file /Users/pbhandary/Downloads/base_data/acquisitions.csv</pre>"
      ],
      "text/plain": [
       "Finished parsing file /Users/pbhandary/Downloads/base_data/acquisitions.csv"
      ]
     },
     "metadata": {},
     "output_type": "display_data"
    },
    {
     "data": {
      "text/html": [
       "<pre>Parsing completed. Parsed 18967 lines in 0.099665 secs.</pre>"
      ],
      "text/plain": [
       "Parsing completed. Parsed 18967 lines in 0.099665 secs."
      ]
     },
     "metadata": {},
     "output_type": "display_data"
    }
   ],
   "source": [
    "acquisitions = graphlab.SFrame('/Users/pbhandary/Downloads/base_data/acquisitions.csv')"
   ]
  },
  {
   "cell_type": "markdown",
   "metadata": {},
   "source": [
    "# Questions\n",
    "* How does location impact the success(Find the metrics of success)\n",
    "* Performance based on categories(Which factors contribute to that?)\n",
    "* Personality traits of founders and how it affects startups?\n",
    "* Correlation between acquirer and the companies"
   ]
  },
  {
   "cell_type": "code",
   "execution_count": 21,
   "metadata": {
    "collapsed": false
   },
   "outputs": [
    {
     "data": {
      "text/html": [
       "<pre>Unable to parse line \"/organization/svg-onload-confirm-1-prompt-xss-source-prompt-0,\"XSS<img src=x onerror=prompt(\"\"1\"\")>\",,,,,,/organization/button-svg-onload-v-prompt-v-xss-source-v-0-button,\"><button><svg/onload=v=prompt;v(/Sexy/.source);v(0)></button>\t\tMEX\t19\tMEX - Other\tCo...\"</pre>"
      ],
      "text/plain": [
       "Unable to parse line \"/organization/svg-onload-confirm-1-prompt-xss-source-prompt-0,\"XSS<img src=x onerror=prompt(\"\"1\"\")>\",,,,,,/organization/button-svg-onload-v-prompt-v-xss-source-v-0-button,\"><button><svg/onload=v=prompt;v(/Sexy/.source);v(0)></button>\t\tMEX\t19\tMEX - Other\tCo...\""
      ]
     },
     "metadata": {},
     "output_type": "display_data"
    },
    {
     "data": {
      "text/html": [
       "<pre>Unable to parse line \"/organization/xstreet-sl\tXStreet SL\tE-Commerce\t\t\t\t\t/organization/secondlife\tLinden Lab\tGames\tUSA\tCA\tSF Bay Area\tSan Francisco\t2009-01-22 00:00:00\t2009-01\t2009-Q1\t2009\t\tUSD\"</pre>"
      ],
      "text/plain": [
       "Unable to parse line \"/organization/xstreet-sl\tXStreet SL\tE-Commerce\t\t\t\t\t/organization/secondlife\tLinden Lab\tGames\tUSA\tCA\tSF Bay Area\tSan Francisco\t2009-01-22 00:00:00\t2009-01\t2009-Q1\t2009\t\tUSD\""
      ]
     },
     "metadata": {},
     "output_type": "display_data"
    },
    {
     "data": {
      "text/html": [
       "<pre>Unable to parse line \"/organization/x-systems\tX.Systems\tSoftware\t\t\t\t\t/organization/xyenterprise\tXyEnterprise\tSoftware\t\t\t\t\t2008-05-01 00:00:00\t2008-05\t2008-Q2\t2008\t\tUSD\"</pre>"
      ],
      "text/plain": [
       "Unable to parse line \"/organization/x-systems\tX.Systems\tSoftware\t\t\t\t\t/organization/xyenterprise\tXyEnterprise\tSoftware\t\t\t\t\t2008-05-01 00:00:00\t2008-05\t2008-Q2\t2008\t\tUSD\""
      ]
     },
     "metadata": {},
     "output_type": "display_data"
    },
    {
     "data": {
      "text/html": [
       "<pre>Unable to parse line \"/organization/xtellus\tXtellus\tHardware + Software\tUSA\tNJ\tNewark\tMorris Plains\t/organization/oclaro\tOclaro\tHardware + Software\tUSA\tCA\tSF Bay Area\tSan Jose\t2009-12-18 00:00:00\t2009-12\t2009-Q4\t2009\t33000000\tUSD\"</pre>"
      ],
      "text/plain": [
       "Unable to parse line \"/organization/xtellus\tXtellus\tHardware + Software\tUSA\tNJ\tNewark\tMorris Plains\t/organization/oclaro\tOclaro\tHardware + Software\tUSA\tCA\tSF Bay Area\tSan Jose\t2009-12-18 00:00:00\t2009-12\t2009-Q4\t2009\t33000000\tUSD\""
      ]
     },
     "metadata": {},
     "output_type": "display_data"
    },
    {
     "data": {
      "text/html": [
       "<pre>Unable to parse line \"/organization/xtend-healthcare\tXtend Healthcare\t\tUSA\tTN\tNashville\tHendersonville\t/organization/navient-corporation\tNavient Corporation\tEducation\tUSA\tDE\tWilmington, Delaware\tNewark\t2015-10-22 00:00:00\t2015-10\t2015-Q4\t2015\t\tUSD\"</pre>"
      ],
      "text/plain": [
       "Unable to parse line \"/organization/xtend-healthcare\tXtend Healthcare\t\tUSA\tTN\tNashville\tHendersonville\t/organization/navient-corporation\tNavient Corporation\tEducation\tUSA\tDE\tWilmington, Delaware\tNewark\t2015-10-22 00:00:00\t2015-10\t2015-Q4\t2015\t\tUSD\""
      ]
     },
     "metadata": {},
     "output_type": "display_data"
    },
    {
     "data": {
      "text/html": [
       "<pre>Unable to parse line \"/organization/xtenterprise\tXtEnterprise\tCurated Web\t\t\t\t\t/organization/sdl-international\tSDL plc\tCloud Computing|Software\tGBR\tP9\tLondon\tMaidenhead\t2009-06-28 00:00:00\t2009-06\t2009-Q2\t2009\t14700000\tUSD\"</pre>"
      ],
      "text/plain": [
       "Unable to parse line \"/organization/xtenterprise\tXtEnterprise\tCurated Web\t\t\t\t\t/organization/sdl-international\tSDL plc\tCloud Computing|Software\tGBR\tP9\tLondon\tMaidenhead\t2009-06-28 00:00:00\t2009-06\t2009-Q2\t2009\t14700000\tUSD\""
      ]
     },
     "metadata": {},
     "output_type": "display_data"
    },
    {
     "data": {
      "text/html": [
       "<pre>Unable to parse line \"/organization/xtify\tXtify Inc.\tAndroid|App Marketing|Location Based Services|Mobile\tUSA\tNY\tNew York City\tNew York\t/organization/ibm\tIBM (International Business Machines)\tInformation Services|Information Technology|Software\tUSA\tNY\tNew York City\tArmonk\t2013-...\"</pre>"
      ],
      "text/plain": [
       "Unable to parse line \"/organization/xtify\tXtify Inc.\tAndroid|App Marketing|Location Based Services|Mobile\tUSA\tNY\tNew York City\tNew York\t/organization/ibm\tIBM (International Business Machines)\tInformation Services|Information Technology|Software\tUSA\tNY\tNew York City\tArmonk\t2013-...\""
      ]
     },
     "metadata": {},
     "output_type": "display_data"
    },
    {
     "data": {
      "text/html": [
       "<pre>Unable to parse line \"/organization/xtime\tXtime\tAnalytics|CRM|Software\tUSA\tCA\tSF Bay Area\tRedwood Shores\t/organization/cox-automotive\tCox Automotive\tAutomotive|Services\tAUS\t07\tMelbourne\tSouth Melbourne\t2014-11-11 00:00:00\t2014-11\t2014-Q4\t2014\t325000000\tUSD\"</pre>"
      ],
      "text/plain": [
       "Unable to parse line \"/organization/xtime\tXtime\tAnalytics|CRM|Software\tUSA\tCA\tSF Bay Area\tRedwood Shores\t/organization/cox-automotive\tCox Automotive\tAutomotive|Services\tAUS\t07\tMelbourne\tSouth Melbourne\t2014-11-11 00:00:00\t2014-11\t2014-Q4\t2014\t325000000\tUSD\""
      ]
     },
     "metadata": {},
     "output_type": "display_data"
    },
    {
     "data": {
      "text/html": [
       "<pre>Unable to parse line \"/organization/xtract\tXtract\tAdvertising\tFIN\t13\tHelsinki\tEspoo\t/organization/comptel\tComptel\tBig Data|Customer Service|Information Technology|Predictive Analytics\tFIN\t13\tHelsinki\tHelsinki\t2012-01-26 00:00:00\t2012-01\t2012-Q1\t2012\t3100000\tEUR\"</pre>"
      ],
      "text/plain": [
       "Unable to parse line \"/organization/xtract\tXtract\tAdvertising\tFIN\t13\tHelsinki\tEspoo\t/organization/comptel\tComptel\tBig Data|Customer Service|Information Technology|Predictive Analytics\tFIN\t13\tHelsinki\tHelsinki\t2012-01-26 00:00:00\t2012-01\t2012-Q1\t2012\t3100000\tEUR\""
      ]
     },
     "metadata": {},
     "output_type": "display_data"
    },
    {
     "data": {
      "text/html": [
       "<pre>Unable to parse line \"/organization/xtraction-solutions\tXtraction Solutions\t\tUSA\tMO\tKansas City\tKansas City\t/organization/landesk-software\tLANDesk Software\tSoftware\tUSA\tUT\tSalt Lake City\tSouth Jordan\t2015-08-31 00:00:00\t2015-08\t2015-Q3\t2015\t\tUSD\"</pre>"
      ],
      "text/plain": [
       "Unable to parse line \"/organization/xtraction-solutions\tXtraction Solutions\t\tUSA\tMO\tKansas City\tKansas City\t/organization/landesk-software\tLANDesk Software\tSoftware\tUSA\tUT\tSalt Lake City\tSouth Jordan\t2015-08-31 00:00:00\t2015-08\t2015-Q3\t2015\t\tUSD\""
      ]
     },
     "metadata": {},
     "output_type": "display_data"
    },
    {
     "data": {
      "text/html": [
       "<pre>148 lines failed to parse correctly</pre>"
      ],
      "text/plain": [
       "148 lines failed to parse correctly"
      ]
     },
     "metadata": {},
     "output_type": "display_data"
    },
    {
     "data": {
      "text/html": [
       "<pre>Finished parsing file /Users/pbhandary/Downloads/base_data/acquisitions.csv</pre>"
      ],
      "text/plain": [
       "Finished parsing file /Users/pbhandary/Downloads/base_data/acquisitions.csv"
      ]
     },
     "metadata": {},
     "output_type": "display_data"
    },
    {
     "data": {
      "text/html": [
       "<pre>Parsing completed. Parsed 100 lines in 0.102088 secs.</pre>"
      ],
      "text/plain": [
       "Parsing completed. Parsed 100 lines in 0.102088 secs."
      ]
     },
     "metadata": {},
     "output_type": "display_data"
    },
    {
     "name": "stdout",
     "output_type": "stream",
     "text": [
      "------------------------------------------------------\n",
      "Inferred types from first 100 line(s) of file as \n",
      "column_type_hints=[str,str,str,str,str,str,str,str,str,str,str,str,str,str,str,str,int,str]\n",
      "If parsing fails due to incorrect types, you can correct\n",
      "the inferred type list above and pass it to read_csv in\n",
      "the column_type_hints argument\n",
      "------------------------------------------------------\n"
     ]
    },
    {
     "data": {
      "text/html": [
       "<pre>Unable to parse line \"/organization/svg-onload-confirm-1-prompt-xss-source-prompt-0,\"XSS<img src=x onerror=prompt(\"\"1\"\")>\",,,,,,/organization/button-svg-onload-v-prompt-v-xss-source-v-0-button,\"><button><svg/onload=v=prompt;v(/Sexy/.source);v(0)></button>\t\tMEX\t19\tMEX - Other\tCo...\"</pre>"
      ],
      "text/plain": [
       "Unable to parse line \"/organization/svg-onload-confirm-1-prompt-xss-source-prompt-0,\"XSS<img src=x onerror=prompt(\"\"1\"\")>\",,,,,,/organization/button-svg-onload-v-prompt-v-xss-source-v-0-button,\"><button><svg/onload=v=prompt;v(/Sexy/.source);v(0)></button>\t\tMEX\t19\tMEX - Other\tCo...\""
      ]
     },
     "metadata": {},
     "output_type": "display_data"
    },
    {
     "data": {
      "text/html": [
       "<pre>Unable to parse line \"/organization/xstreet-sl\tXStreet SL\tE-Commerce\t\t\t\t\t/organization/secondlife\tLinden Lab\tGames\tUSA\tCA\tSF Bay Area\tSan Francisco\t2009-01-22 00:00:00\t2009-01\t2009-Q1\t2009\t\tUSD\"</pre>"
      ],
      "text/plain": [
       "Unable to parse line \"/organization/xstreet-sl\tXStreet SL\tE-Commerce\t\t\t\t\t/organization/secondlife\tLinden Lab\tGames\tUSA\tCA\tSF Bay Area\tSan Francisco\t2009-01-22 00:00:00\t2009-01\t2009-Q1\t2009\t\tUSD\""
      ]
     },
     "metadata": {},
     "output_type": "display_data"
    },
    {
     "data": {
      "text/html": [
       "<pre>Unable to parse line \"/organization/x-systems\tX.Systems\tSoftware\t\t\t\t\t/organization/xyenterprise\tXyEnterprise\tSoftware\t\t\t\t\t2008-05-01 00:00:00\t2008-05\t2008-Q2\t2008\t\tUSD\"</pre>"
      ],
      "text/plain": [
       "Unable to parse line \"/organization/x-systems\tX.Systems\tSoftware\t\t\t\t\t/organization/xyenterprise\tXyEnterprise\tSoftware\t\t\t\t\t2008-05-01 00:00:00\t2008-05\t2008-Q2\t2008\t\tUSD\""
      ]
     },
     "metadata": {},
     "output_type": "display_data"
    },
    {
     "data": {
      "text/html": [
       "<pre>Unable to parse line \"/organization/xtellus\tXtellus\tHardware + Software\tUSA\tNJ\tNewark\tMorris Plains\t/organization/oclaro\tOclaro\tHardware + Software\tUSA\tCA\tSF Bay Area\tSan Jose\t2009-12-18 00:00:00\t2009-12\t2009-Q4\t2009\t33000000\tUSD\"</pre>"
      ],
      "text/plain": [
       "Unable to parse line \"/organization/xtellus\tXtellus\tHardware + Software\tUSA\tNJ\tNewark\tMorris Plains\t/organization/oclaro\tOclaro\tHardware + Software\tUSA\tCA\tSF Bay Area\tSan Jose\t2009-12-18 00:00:00\t2009-12\t2009-Q4\t2009\t33000000\tUSD\""
      ]
     },
     "metadata": {},
     "output_type": "display_data"
    },
    {
     "data": {
      "text/html": [
       "<pre>Unable to parse line \"/organization/xtend-healthcare\tXtend Healthcare\t\tUSA\tTN\tNashville\tHendersonville\t/organization/navient-corporation\tNavient Corporation\tEducation\tUSA\tDE\tWilmington, Delaware\tNewark\t2015-10-22 00:00:00\t2015-10\t2015-Q4\t2015\t\tUSD\"</pre>"
      ],
      "text/plain": [
       "Unable to parse line \"/organization/xtend-healthcare\tXtend Healthcare\t\tUSA\tTN\tNashville\tHendersonville\t/organization/navient-corporation\tNavient Corporation\tEducation\tUSA\tDE\tWilmington, Delaware\tNewark\t2015-10-22 00:00:00\t2015-10\t2015-Q4\t2015\t\tUSD\""
      ]
     },
     "metadata": {},
     "output_type": "display_data"
    },
    {
     "data": {
      "text/html": [
       "<pre>Unable to parse line \"/organization/xtenterprise\tXtEnterprise\tCurated Web\t\t\t\t\t/organization/sdl-international\tSDL plc\tCloud Computing|Software\tGBR\tP9\tLondon\tMaidenhead\t2009-06-28 00:00:00\t2009-06\t2009-Q2\t2009\t14700000\tUSD\"</pre>"
      ],
      "text/plain": [
       "Unable to parse line \"/organization/xtenterprise\tXtEnterprise\tCurated Web\t\t\t\t\t/organization/sdl-international\tSDL plc\tCloud Computing|Software\tGBR\tP9\tLondon\tMaidenhead\t2009-06-28 00:00:00\t2009-06\t2009-Q2\t2009\t14700000\tUSD\""
      ]
     },
     "metadata": {},
     "output_type": "display_data"
    },
    {
     "data": {
      "text/html": [
       "<pre>Unable to parse line \"/organization/xtify\tXtify Inc.\tAndroid|App Marketing|Location Based Services|Mobile\tUSA\tNY\tNew York City\tNew York\t/organization/ibm\tIBM (International Business Machines)\tInformation Services|Information Technology|Software\tUSA\tNY\tNew York City\tArmonk\t2013-...\"</pre>"
      ],
      "text/plain": [
       "Unable to parse line \"/organization/xtify\tXtify Inc.\tAndroid|App Marketing|Location Based Services|Mobile\tUSA\tNY\tNew York City\tNew York\t/organization/ibm\tIBM (International Business Machines)\tInformation Services|Information Technology|Software\tUSA\tNY\tNew York City\tArmonk\t2013-...\""
      ]
     },
     "metadata": {},
     "output_type": "display_data"
    },
    {
     "data": {
      "text/html": [
       "<pre>Unable to parse line \"/organization/xtime\tXtime\tAnalytics|CRM|Software\tUSA\tCA\tSF Bay Area\tRedwood Shores\t/organization/cox-automotive\tCox Automotive\tAutomotive|Services\tAUS\t07\tMelbourne\tSouth Melbourne\t2014-11-11 00:00:00\t2014-11\t2014-Q4\t2014\t325000000\tUSD\"</pre>"
      ],
      "text/plain": [
       "Unable to parse line \"/organization/xtime\tXtime\tAnalytics|CRM|Software\tUSA\tCA\tSF Bay Area\tRedwood Shores\t/organization/cox-automotive\tCox Automotive\tAutomotive|Services\tAUS\t07\tMelbourne\tSouth Melbourne\t2014-11-11 00:00:00\t2014-11\t2014-Q4\t2014\t325000000\tUSD\""
      ]
     },
     "metadata": {},
     "output_type": "display_data"
    },
    {
     "data": {
      "text/html": [
       "<pre>Unable to parse line \"/organization/xtract\tXtract\tAdvertising\tFIN\t13\tHelsinki\tEspoo\t/organization/comptel\tComptel\tBig Data|Customer Service|Information Technology|Predictive Analytics\tFIN\t13\tHelsinki\tHelsinki\t2012-01-26 00:00:00\t2012-01\t2012-Q1\t2012\t3100000\tEUR\"</pre>"
      ],
      "text/plain": [
       "Unable to parse line \"/organization/xtract\tXtract\tAdvertising\tFIN\t13\tHelsinki\tEspoo\t/organization/comptel\tComptel\tBig Data|Customer Service|Information Technology|Predictive Analytics\tFIN\t13\tHelsinki\tHelsinki\t2012-01-26 00:00:00\t2012-01\t2012-Q1\t2012\t3100000\tEUR\""
      ]
     },
     "metadata": {},
     "output_type": "display_data"
    },
    {
     "data": {
      "text/html": [
       "<pre>Unable to parse line \"/organization/xtraction-solutions\tXtraction Solutions\t\tUSA\tMO\tKansas City\tKansas City\t/organization/landesk-software\tLANDesk Software\tSoftware\tUSA\tUT\tSalt Lake City\tSouth Jordan\t2015-08-31 00:00:00\t2015-08\t2015-Q3\t2015\t\tUSD\"</pre>"
      ],
      "text/plain": [
       "Unable to parse line \"/organization/xtraction-solutions\tXtraction Solutions\t\tUSA\tMO\tKansas City\tKansas City\t/organization/landesk-software\tLANDesk Software\tSoftware\tUSA\tUT\tSalt Lake City\tSouth Jordan\t2015-08-31 00:00:00\t2015-08\t2015-Q3\t2015\t\tUSD\""
      ]
     },
     "metadata": {},
     "output_type": "display_data"
    },
    {
     "data": {
      "text/html": [
       "<pre>148 lines failed to parse correctly</pre>"
      ],
      "text/plain": [
       "148 lines failed to parse correctly"
      ]
     },
     "metadata": {},
     "output_type": "display_data"
    },
    {
     "data": {
      "text/html": [
       "<pre>Finished parsing file /Users/pbhandary/Downloads/base_data/acquisitions.csv</pre>"
      ],
      "text/plain": [
       "Finished parsing file /Users/pbhandary/Downloads/base_data/acquisitions.csv"
      ]
     },
     "metadata": {},
     "output_type": "display_data"
    },
    {
     "data": {
      "text/html": [
       "<pre>Parsing completed. Parsed 18967 lines in 0.099687 secs.</pre>"
      ],
      "text/plain": [
       "Parsing completed. Parsed 18967 lines in 0.099687 secs."
      ]
     },
     "metadata": {},
     "output_type": "display_data"
    }
   ],
   "source": [
    "acquisitions = graphlab.SFrame('/Users/pbhandary/Downloads/base_data/acquisitions.csv')"
   ]
  },
  {
   "cell_type": "code",
   "execution_count": 4,
   "metadata": {
    "collapsed": false
   },
   "outputs": [
    {
     "data": {
      "text/html": [
       "<pre>Finished parsing file /Users/pbhandary/Downloads/base_data/additions.csv</pre>"
      ],
      "text/plain": [
       "Finished parsing file /Users/pbhandary/Downloads/base_data/additions.csv"
      ]
     },
     "metadata": {},
     "output_type": "display_data"
    },
    {
     "data": {
      "text/html": [
       "<pre>Parsing completed. Parsed 100 lines in 0.010569 secs.</pre>"
      ],
      "text/plain": [
       "Parsing completed. Parsed 100 lines in 0.010569 secs."
      ]
     },
     "metadata": {},
     "output_type": "display_data"
    },
    {
     "name": "stdout",
     "output_type": "stream",
     "text": [
      "------------------------------------------------------\n",
      "Inferred types from first 100 line(s) of file as \n",
      "column_type_hints=[str,str,int,int]\n",
      "If parsing fails due to incorrect types, you can correct\n",
      "the inferred type list above and pass it to read_csv in\n",
      "the column_type_hints argument\n",
      "------------------------------------------------------\n"
     ]
    },
    {
     "data": {
      "text/html": [
       "<pre>Finished parsing file /Users/pbhandary/Downloads/base_data/additions.csv</pre>"
      ],
      "text/plain": [
       "Finished parsing file /Users/pbhandary/Downloads/base_data/additions.csv"
      ]
     },
     "metadata": {},
     "output_type": "display_data"
    },
    {
     "data": {
      "text/html": [
       "<pre>Parsing completed. Parsed 2213 lines in 0.008592 secs.</pre>"
      ],
      "text/plain": [
       "Parsing completed. Parsed 2213 lines in 0.008592 secs."
      ]
     },
     "metadata": {},
     "output_type": "display_data"
    }
   ],
   "source": [
    "additions = graphlab.SFrame('/Users/pbhandary/Downloads/base_data/additions.csv')"
   ]
  },
  {
   "cell_type": "code",
   "execution_count": 5,
   "metadata": {
    "collapsed": false
   },
   "outputs": [
    {
     "data": {
      "text/html": [
       "<pre>Finished parsing file /Users/pbhandary/Downloads/base_data/companies.csv</pre>"
      ],
      "text/plain": [
       "Finished parsing file /Users/pbhandary/Downloads/base_data/companies.csv"
      ]
     },
     "metadata": {},
     "output_type": "display_data"
    },
    {
     "data": {
      "text/html": [
       "<pre>Parsing completed. Parsed 100 lines in 0.210641 secs.</pre>"
      ],
      "text/plain": [
       "Parsing completed. Parsed 100 lines in 0.210641 secs."
      ]
     },
     "metadata": {},
     "output_type": "display_data"
    },
    {
     "name": "stdout",
     "output_type": "stream",
     "text": [
      "------------------------------------------------------\n",
      "Inferred types from first 100 line(s) of file as \n",
      "column_type_hints=[str,str,str,str,str,str,str,str,str,str,int,str,str,str]\n",
      "If parsing fails due to incorrect types, you can correct\n",
      "the inferred type list above and pass it to read_csv in\n",
      "the column_type_hints argument\n",
      "------------------------------------------------------\n"
     ]
    },
    {
     "data": {
      "text/html": [
       "<pre>Finished parsing file /Users/pbhandary/Downloads/base_data/companies.csv</pre>"
      ],
      "text/plain": [
       "Finished parsing file /Users/pbhandary/Downloads/base_data/companies.csv"
      ]
     },
     "metadata": {},
     "output_type": "display_data"
    },
    {
     "data": {
      "text/html": [
       "<pre>Parsing completed. Parsed 66368 lines in 0.266861 secs.</pre>"
      ],
      "text/plain": [
       "Parsing completed. Parsed 66368 lines in 0.266861 secs."
      ]
     },
     "metadata": {},
     "output_type": "display_data"
    }
   ],
   "source": [
    "companies = graphlab.SFrame('/Users/pbhandary/Downloads/base_data/companies.csv')"
   ]
  },
  {
   "cell_type": "code",
   "execution_count": 12,
   "metadata": {
    "collapsed": false
   },
   "outputs": [
    {
     "data": {
      "text/html": [
       "<pre>Finished parsing file /Users/pbhandary/Downloads/base_data/investments.csv</pre>"
      ],
      "text/plain": [
       "Finished parsing file /Users/pbhandary/Downloads/base_data/investments.csv"
      ]
     },
     "metadata": {},
     "output_type": "display_data"
    },
    {
     "data": {
      "text/html": [
       "<pre>Parsing completed. Parsed 100 lines in 0.685814 secs.</pre>"
      ],
      "text/plain": [
       "Parsing completed. Parsed 100 lines in 0.685814 secs."
      ]
     },
     "metadata": {},
     "output_type": "display_data"
    },
    {
     "name": "stdout",
     "output_type": "stream",
     "text": [
      "------------------------------------------------------\n",
      "Inferred types from first 100 line(s) of file as \n",
      "column_type_hints=[str,str,str,str,str,str,str,str,str,str,str,str,str,str,str,str,str,float]\n",
      "If parsing fails due to incorrect types, you can correct\n",
      "the inferred type list above and pass it to read_csv in\n",
      "the column_type_hints argument\n",
      "------------------------------------------------------\n"
     ]
    },
    {
     "data": {
      "text/html": [
       "<pre>Finished parsing file /Users/pbhandary/Downloads/base_data/investments.csv</pre>"
      ],
      "text/plain": [
       "Finished parsing file /Users/pbhandary/Downloads/base_data/investments.csv"
      ]
     },
     "metadata": {},
     "output_type": "display_data"
    },
    {
     "data": {
      "text/html": [
       "<pre>Parsing completed. Parsed 168647 lines in 0.916542 secs.</pre>"
      ],
      "text/plain": [
       "Parsing completed. Parsed 168647 lines in 0.916542 secs."
      ]
     },
     "metadata": {},
     "output_type": "display_data"
    }
   ],
   "source": [
    "investments = graphlab.SFrame('/Users/pbhandary/Downloads/base_data/investments.csv')"
   ]
  },
  {
   "cell_type": "code",
   "execution_count": 13,
   "metadata": {
    "collapsed": false
   },
   "outputs": [
    {
     "data": {
      "text/html": [
       "<pre>Finished parsing file /Users/pbhandary/Downloads/base_data/organizations.csv</pre>"
      ],
      "text/plain": [
       "Finished parsing file /Users/pbhandary/Downloads/base_data/organizations.csv"
      ]
     },
     "metadata": {},
     "output_type": "display_data"
    },
    {
     "data": {
      "text/html": [
       "<pre>Parsing completed. Parsed 100 lines in 0.700737 secs.</pre>"
      ],
      "text/plain": [
       "Parsing completed. Parsed 100 lines in 0.700737 secs."
      ]
     },
     "metadata": {},
     "output_type": "display_data"
    },
    {
     "name": "stdout",
     "output_type": "stream",
     "text": [
      "------------------------------------------------------\n",
      "Inferred types from first 100 line(s) of file as \n",
      "column_type_hints=[str,str,str,str,str,str,str,str,str,str,str,str,str,str,str,str]\n",
      "If parsing fails due to incorrect types, you can correct\n",
      "the inferred type list above and pass it to read_csv in\n",
      "the column_type_hints argument\n",
      "------------------------------------------------------\n"
     ]
    },
    {
     "data": {
      "text/html": [
       "<pre>Read 116245 lines. Lines per second: 113232</pre>"
      ],
      "text/plain": [
       "Read 116245 lines. Lines per second: 113232"
      ]
     },
     "metadata": {},
     "output_type": "display_data"
    },
    {
     "data": {
      "text/html": [
       "<pre>Finished parsing file /Users/pbhandary/Downloads/base_data/organizations.csv</pre>"
      ],
      "text/plain": [
       "Finished parsing file /Users/pbhandary/Downloads/base_data/organizations.csv"
      ]
     },
     "metadata": {},
     "output_type": "display_data"
    },
    {
     "data": {
      "text/html": [
       "<pre>Parsing completed. Parsed 434474 lines in 2.97847 secs.</pre>"
      ],
      "text/plain": [
       "Parsing completed. Parsed 434474 lines in 2.97847 secs."
      ]
     },
     "metadata": {},
     "output_type": "display_data"
    }
   ],
   "source": [
    "organizations = graphlab.SFrame('/Users/pbhandary/Downloads/base_data/organizations.csv')"
   ]
  },
  {
   "cell_type": "code",
   "execution_count": 14,
   "metadata": {
    "collapsed": false
   },
   "outputs": [
    {
     "data": {
      "text/html": [
       "<pre>Finished parsing file /Users/pbhandary/Downloads/base_data/people.csv</pre>"
      ],
      "text/plain": [
       "Finished parsing file /Users/pbhandary/Downloads/base_data/people.csv"
      ]
     },
     "metadata": {},
     "output_type": "display_data"
    },
    {
     "data": {
      "text/html": [
       "<pre>Parsing completed. Parsed 100 lines in 0.667938 secs.</pre>"
      ],
      "text/plain": [
       "Parsing completed. Parsed 100 lines in 0.667938 secs."
      ]
     },
     "metadata": {},
     "output_type": "display_data"
    },
    {
     "name": "stdout",
     "output_type": "stream",
     "text": [
      "------------------------------------------------------\n",
      "Inferred types from first 100 line(s) of file as \n",
      "column_type_hints=[str,str,str,str,str,str,str,str,str,str,str,str,str,str,str]\n",
      "If parsing fails due to incorrect types, you can correct\n",
      "the inferred type list above and pass it to read_csv in\n",
      "the column_type_hints argument\n",
      "------------------------------------------------------\n"
     ]
    },
    {
     "data": {
      "text/html": [
       "<pre>Read 303270 lines. Lines per second: 172003</pre>"
      ],
      "text/plain": [
       "Read 303270 lines. Lines per second: 172003"
      ]
     },
     "metadata": {},
     "output_type": "display_data"
    },
    {
     "data": {
      "text/html": [
       "<pre>Finished parsing file /Users/pbhandary/Downloads/base_data/people.csv</pre>"
      ],
      "text/plain": [
       "Finished parsing file /Users/pbhandary/Downloads/base_data/people.csv"
      ]
     },
     "metadata": {},
     "output_type": "display_data"
    },
    {
     "data": {
      "text/html": [
       "<pre>Parsing completed. Parsed 485539 lines in 2.66385 secs.</pre>"
      ],
      "text/plain": [
       "Parsing completed. Parsed 485539 lines in 2.66385 secs."
      ]
     },
     "metadata": {},
     "output_type": "display_data"
    }
   ],
   "source": [
    "people = graphlab.SFrame('/Users/pbhandary/Downloads/base_data/people.csv')"
   ]
  },
  {
   "cell_type": "code",
   "execution_count": 15,
   "metadata": {
    "collapsed": false
   },
   "outputs": [
    {
     "data": {
      "text/html": [
       "<pre>Finished parsing file /Users/pbhandary/Downloads/base_data/rounds.csv</pre>"
      ],
      "text/plain": [
       "Finished parsing file /Users/pbhandary/Downloads/base_data/rounds.csv"
      ]
     },
     "metadata": {},
     "output_type": "display_data"
    },
    {
     "data": {
      "text/html": [
       "<pre>Parsing completed. Parsed 100 lines in 0.334988 secs.</pre>"
      ],
      "text/plain": [
       "Parsing completed. Parsed 100 lines in 0.334988 secs."
      ]
     },
     "metadata": {},
     "output_type": "display_data"
    },
    {
     "name": "stdout",
     "output_type": "stream",
     "text": [
      "------------------------------------------------------\n",
      "Inferred types from first 100 line(s) of file as \n",
      "column_type_hints=[str,str,str,str,str,str,str,str,str,str,str,int]\n",
      "If parsing fails due to incorrect types, you can correct\n",
      "the inferred type list above and pass it to read_csv in\n",
      "the column_type_hints argument\n",
      "------------------------------------------------------\n"
     ]
    },
    {
     "data": {
      "text/html": [
       "<pre>Finished parsing file /Users/pbhandary/Downloads/base_data/rounds.csv</pre>"
      ],
      "text/plain": [
       "Finished parsing file /Users/pbhandary/Downloads/base_data/rounds.csv"
      ]
     },
     "metadata": {},
     "output_type": "display_data"
    },
    {
     "data": {
      "text/html": [
       "<pre>Parsing completed. Parsed 114949 lines in 0.464918 secs.</pre>"
      ],
      "text/plain": [
       "Parsing completed. Parsed 114949 lines in 0.464918 secs."
      ]
     },
     "metadata": {},
     "output_type": "display_data"
    }
   ],
   "source": [
    "rounds = graphlab.SFrame('/Users/pbhandary/Downloads/base_data/rounds.csv')"
   ]
  },
  {
   "cell_type": "code",
   "execution_count": 16,
   "metadata": {
    "collapsed": false
   },
   "outputs": [
    {
     "data": {
      "text/html": [
       "<div style=\"max-height:1000px;max-width:1500px;overflow:auto;\"><table frame=\"box\" rules=\"cols\">\n",
       "    <tr>\n",
       "        <th style=\"padding-left: 1em; padding-right: 1em; text-align: center\">permalink</th>\n",
       "        <th style=\"padding-left: 1em; padding-right: 1em; text-align: center\">name</th>\n",
       "        <th style=\"padding-left: 1em; padding-right: 1em; text-align: center\">homepage_url</th>\n",
       "        <th style=\"padding-left: 1em; padding-right: 1em; text-align: center\">category_list</th>\n",
       "        <th style=\"padding-left: 1em; padding-right: 1em; text-align: center\">funding_total_usd</th>\n",
       "    </tr>\n",
       "    <tr>\n",
       "        <td style=\"padding-left: 1em; padding-right: 1em; text-align: center; vertical-align: top\">/organization/-fame</td>\n",
       "        <td style=\"padding-left: 1em; padding-right: 1em; text-align: center; vertical-align: top\">#fame</td>\n",
       "        <td style=\"padding-left: 1em; padding-right: 1em; text-align: center; vertical-align: top\">http://livfame.com</td>\n",
       "        <td style=\"padding-left: 1em; padding-right: 1em; text-align: center; vertical-align: top\">Media</td>\n",
       "        <td style=\"padding-left: 1em; padding-right: 1em; text-align: center; vertical-align: top\">10000000</td>\n",
       "    </tr>\n",
       "    <tr>\n",
       "        <td style=\"padding-left: 1em; padding-right: 1em; text-align: center; vertical-align: top\">/organization/-qounter</td>\n",
       "        <td style=\"padding-left: 1em; padding-right: 1em; text-align: center; vertical-align: top\">:Qounter</td>\n",
       "        <td style=\"padding-left: 1em; padding-right: 1em; text-align: center; vertical-align: top\">http://www.qounter.com</td>\n",
       "        <td style=\"padding-left: 1em; padding-right: 1em; text-align: center; vertical-align: top\">Application<br>Platforms|Real ...</td>\n",
       "        <td style=\"padding-left: 1em; padding-right: 1em; text-align: center; vertical-align: top\">700000</td>\n",
       "    </tr>\n",
       "    <tr>\n",
       "        <td style=\"padding-left: 1em; padding-right: 1em; text-align: center; vertical-align: top\">/organization/-the-one-<br>of-them-inc- ...</td>\n",
       "        <td style=\"padding-left: 1em; padding-right: 1em; text-align: center; vertical-align: top\">(THE) ONE of THEM,Inc.</td>\n",
       "        <td style=\"padding-left: 1em; padding-right: 1em; text-align: center; vertical-align: top\">http://oneofthem.jp</td>\n",
       "        <td style=\"padding-left: 1em; padding-right: 1em; text-align: center; vertical-align: top\">Apps|Games|Mobile</td>\n",
       "        <td style=\"padding-left: 1em; padding-right: 1em; text-align: center; vertical-align: top\">3406878</td>\n",
       "    </tr>\n",
       "    <tr>\n",
       "        <td style=\"padding-left: 1em; padding-right: 1em; text-align: center; vertical-align: top\">/organization/0-6-com</td>\n",
       "        <td style=\"padding-left: 1em; padding-right: 1em; text-align: center; vertical-align: top\">0-6.com</td>\n",
       "        <td style=\"padding-left: 1em; padding-right: 1em; text-align: center; vertical-align: top\">http://www.0-6.com</td>\n",
       "        <td style=\"padding-left: 1em; padding-right: 1em; text-align: center; vertical-align: top\">Curated Web</td>\n",
       "        <td style=\"padding-left: 1em; padding-right: 1em; text-align: center; vertical-align: top\">2000000</td>\n",
       "    </tr>\n",
       "    <tr>\n",
       "        <td style=\"padding-left: 1em; padding-right: 1em; text-align: center; vertical-align: top\">/organization/004-technol<br>ogies ...</td>\n",
       "        <td style=\"padding-left: 1em; padding-right: 1em; text-align: center; vertical-align: top\">004 Technologies</td>\n",
       "        <td style=\"padding-left: 1em; padding-right: 1em; text-align: center; vertical-align: top\">http://004gmbh.de/en/004-<br>interact ...</td>\n",
       "        <td style=\"padding-left: 1em; padding-right: 1em; text-align: center; vertical-align: top\">Software</td>\n",
       "        <td style=\"padding-left: 1em; padding-right: 1em; text-align: center; vertical-align: top\">-</td>\n",
       "    </tr>\n",
       "    <tr>\n",
       "        <td style=\"padding-left: 1em; padding-right: 1em; text-align: center; vertical-align: top\">/organization/01games-<br>technology ...</td>\n",
       "        <td style=\"padding-left: 1em; padding-right: 1em; text-align: center; vertical-align: top\">01Games Technology</td>\n",
       "        <td style=\"padding-left: 1em; padding-right: 1em; text-align: center; vertical-align: top\">http://www.01games.hk/</td>\n",
       "        <td style=\"padding-left: 1em; padding-right: 1em; text-align: center; vertical-align: top\">Games</td>\n",
       "        <td style=\"padding-left: 1em; padding-right: 1em; text-align: center; vertical-align: top\">41250</td>\n",
       "    </tr>\n",
       "    <tr>\n",
       "        <td style=\"padding-left: 1em; padding-right: 1em; text-align: center; vertical-align: top\">/organization/0ndine-<br>biomedical-inc ...</td>\n",
       "        <td style=\"padding-left: 1em; padding-right: 1em; text-align: center; vertical-align: top\">Ondine Biomedical Inc.</td>\n",
       "        <td style=\"padding-left: 1em; padding-right: 1em; text-align: center; vertical-align: top\">http://ondinebio.com</td>\n",
       "        <td style=\"padding-left: 1em; padding-right: 1em; text-align: center; vertical-align: top\">Biotechnology</td>\n",
       "        <td style=\"padding-left: 1em; padding-right: 1em; text-align: center; vertical-align: top\">762851</td>\n",
       "    </tr>\n",
       "    <tr>\n",
       "        <td style=\"padding-left: 1em; padding-right: 1em; text-align: center; vertical-align: top\">/organization/0xdata</td>\n",
       "        <td style=\"padding-left: 1em; padding-right: 1em; text-align: center; vertical-align: top\">H2O.ai</td>\n",
       "        <td style=\"padding-left: 1em; padding-right: 1em; text-align: center; vertical-align: top\">http://h2o.ai/</td>\n",
       "        <td style=\"padding-left: 1em; padding-right: 1em; text-align: center; vertical-align: top\">Analytics</td>\n",
       "        <td style=\"padding-left: 1em; padding-right: 1em; text-align: center; vertical-align: top\">33600000</td>\n",
       "    </tr>\n",
       "    <tr>\n",
       "        <td style=\"padding-left: 1em; padding-right: 1em; text-align: center; vertical-align: top\">/organization/1</td>\n",
       "        <td style=\"padding-left: 1em; padding-right: 1em; text-align: center; vertical-align: top\">One Inc.</td>\n",
       "        <td style=\"padding-left: 1em; padding-right: 1em; text-align: center; vertical-align: top\">http://whatis1.com</td>\n",
       "        <td style=\"padding-left: 1em; padding-right: 1em; text-align: center; vertical-align: top\">Mobile</td>\n",
       "        <td style=\"padding-left: 1em; padding-right: 1em; text-align: center; vertical-align: top\">1150050</td>\n",
       "    </tr>\n",
       "    <tr>\n",
       "        <td style=\"padding-left: 1em; padding-right: 1em; text-align: center; vertical-align: top\">/organization/1-2-3-listo</td>\n",
       "        <td style=\"padding-left: 1em; padding-right: 1em; text-align: center; vertical-align: top\">1,2,3 Listo</td>\n",
       "        <td style=\"padding-left: 1em; padding-right: 1em; text-align: center; vertical-align: top\">http://www.123listo.com</td>\n",
       "        <td style=\"padding-left: 1em; padding-right: 1em; text-align: center; vertical-align: top\">E-Commerce</td>\n",
       "        <td style=\"padding-left: 1em; padding-right: 1em; text-align: center; vertical-align: top\">40000</td>\n",
       "    </tr>\n",
       "</table>\n",
       "<table frame=\"box\" rules=\"cols\">\n",
       "    <tr>\n",
       "        <th style=\"padding-left: 1em; padding-right: 1em; text-align: center\">status</th>\n",
       "        <th style=\"padding-left: 1em; padding-right: 1em; text-align: center\">country_code</th>\n",
       "        <th style=\"padding-left: 1em; padding-right: 1em; text-align: center\">state_code</th>\n",
       "        <th style=\"padding-left: 1em; padding-right: 1em; text-align: center\">region</th>\n",
       "        <th style=\"padding-left: 1em; padding-right: 1em; text-align: center\">city</th>\n",
       "        <th style=\"padding-left: 1em; padding-right: 1em; text-align: center\">funding_rounds</th>\n",
       "        <th style=\"padding-left: 1em; padding-right: 1em; text-align: center\">founded_at</th>\n",
       "    </tr>\n",
       "    <tr>\n",
       "        <td style=\"padding-left: 1em; padding-right: 1em; text-align: center; vertical-align: top\">operating</td>\n",
       "        <td style=\"padding-left: 1em; padding-right: 1em; text-align: center; vertical-align: top\">IND</td>\n",
       "        <td style=\"padding-left: 1em; padding-right: 1em; text-align: center; vertical-align: top\">16</td>\n",
       "        <td style=\"padding-left: 1em; padding-right: 1em; text-align: center; vertical-align: top\">Mumbai</td>\n",
       "        <td style=\"padding-left: 1em; padding-right: 1em; text-align: center; vertical-align: top\">Mumbai</td>\n",
       "        <td style=\"padding-left: 1em; padding-right: 1em; text-align: center; vertical-align: top\">1</td>\n",
       "        <td style=\"padding-left: 1em; padding-right: 1em; text-align: center; vertical-align: top\"></td>\n",
       "    </tr>\n",
       "    <tr>\n",
       "        <td style=\"padding-left: 1em; padding-right: 1em; text-align: center; vertical-align: top\">operating</td>\n",
       "        <td style=\"padding-left: 1em; padding-right: 1em; text-align: center; vertical-align: top\">USA</td>\n",
       "        <td style=\"padding-left: 1em; padding-right: 1em; text-align: center; vertical-align: top\">DE</td>\n",
       "        <td style=\"padding-left: 1em; padding-right: 1em; text-align: center; vertical-align: top\">DE - Other</td>\n",
       "        <td style=\"padding-left: 1em; padding-right: 1em; text-align: center; vertical-align: top\">Delaware City</td>\n",
       "        <td style=\"padding-left: 1em; padding-right: 1em; text-align: center; vertical-align: top\">2</td>\n",
       "        <td style=\"padding-left: 1em; padding-right: 1em; text-align: center; vertical-align: top\">2014-09-04</td>\n",
       "    </tr>\n",
       "    <tr>\n",
       "        <td style=\"padding-left: 1em; padding-right: 1em; text-align: center; vertical-align: top\">operating</td>\n",
       "        <td style=\"padding-left: 1em; padding-right: 1em; text-align: center; vertical-align: top\"></td>\n",
       "        <td style=\"padding-left: 1em; padding-right: 1em; text-align: center; vertical-align: top\"></td>\n",
       "        <td style=\"padding-left: 1em; padding-right: 1em; text-align: center; vertical-align: top\"></td>\n",
       "        <td style=\"padding-left: 1em; padding-right: 1em; text-align: center; vertical-align: top\"></td>\n",
       "        <td style=\"padding-left: 1em; padding-right: 1em; text-align: center; vertical-align: top\">1</td>\n",
       "        <td style=\"padding-left: 1em; padding-right: 1em; text-align: center; vertical-align: top\"></td>\n",
       "    </tr>\n",
       "    <tr>\n",
       "        <td style=\"padding-left: 1em; padding-right: 1em; text-align: center; vertical-align: top\">operating</td>\n",
       "        <td style=\"padding-left: 1em; padding-right: 1em; text-align: center; vertical-align: top\">CHN</td>\n",
       "        <td style=\"padding-left: 1em; padding-right: 1em; text-align: center; vertical-align: top\">22</td>\n",
       "        <td style=\"padding-left: 1em; padding-right: 1em; text-align: center; vertical-align: top\">Beijing</td>\n",
       "        <td style=\"padding-left: 1em; padding-right: 1em; text-align: center; vertical-align: top\">Beijing</td>\n",
       "        <td style=\"padding-left: 1em; padding-right: 1em; text-align: center; vertical-align: top\">1</td>\n",
       "        <td style=\"padding-left: 1em; padding-right: 1em; text-align: center; vertical-align: top\">2007-01-01</td>\n",
       "    </tr>\n",
       "    <tr>\n",
       "        <td style=\"padding-left: 1em; padding-right: 1em; text-align: center; vertical-align: top\">operating</td>\n",
       "        <td style=\"padding-left: 1em; padding-right: 1em; text-align: center; vertical-align: top\">USA</td>\n",
       "        <td style=\"padding-left: 1em; padding-right: 1em; text-align: center; vertical-align: top\">IL</td>\n",
       "        <td style=\"padding-left: 1em; padding-right: 1em; text-align: center; vertical-align: top\">Springfield, Illinois</td>\n",
       "        <td style=\"padding-left: 1em; padding-right: 1em; text-align: center; vertical-align: top\">Champaign</td>\n",
       "        <td style=\"padding-left: 1em; padding-right: 1em; text-align: center; vertical-align: top\">1</td>\n",
       "        <td style=\"padding-left: 1em; padding-right: 1em; text-align: center; vertical-align: top\">2010-01-01</td>\n",
       "    </tr>\n",
       "    <tr>\n",
       "        <td style=\"padding-left: 1em; padding-right: 1em; text-align: center; vertical-align: top\">operating</td>\n",
       "        <td style=\"padding-left: 1em; padding-right: 1em; text-align: center; vertical-align: top\">HKG</td>\n",
       "        <td style=\"padding-left: 1em; padding-right: 1em; text-align: center; vertical-align: top\"></td>\n",
       "        <td style=\"padding-left: 1em; padding-right: 1em; text-align: center; vertical-align: top\">Hong Kong</td>\n",
       "        <td style=\"padding-left: 1em; padding-right: 1em; text-align: center; vertical-align: top\">Hong Kong</td>\n",
       "        <td style=\"padding-left: 1em; padding-right: 1em; text-align: center; vertical-align: top\">1</td>\n",
       "        <td style=\"padding-left: 1em; padding-right: 1em; text-align: center; vertical-align: top\"></td>\n",
       "    </tr>\n",
       "    <tr>\n",
       "        <td style=\"padding-left: 1em; padding-right: 1em; text-align: center; vertical-align: top\">operating</td>\n",
       "        <td style=\"padding-left: 1em; padding-right: 1em; text-align: center; vertical-align: top\">CAN</td>\n",
       "        <td style=\"padding-left: 1em; padding-right: 1em; text-align: center; vertical-align: top\">BC</td>\n",
       "        <td style=\"padding-left: 1em; padding-right: 1em; text-align: center; vertical-align: top\">Vancouver</td>\n",
       "        <td style=\"padding-left: 1em; padding-right: 1em; text-align: center; vertical-align: top\">Vancouver</td>\n",
       "        <td style=\"padding-left: 1em; padding-right: 1em; text-align: center; vertical-align: top\">2</td>\n",
       "        <td style=\"padding-left: 1em; padding-right: 1em; text-align: center; vertical-align: top\">1997-01-01</td>\n",
       "    </tr>\n",
       "    <tr>\n",
       "        <td style=\"padding-left: 1em; padding-right: 1em; text-align: center; vertical-align: top\">operating</td>\n",
       "        <td style=\"padding-left: 1em; padding-right: 1em; text-align: center; vertical-align: top\">USA</td>\n",
       "        <td style=\"padding-left: 1em; padding-right: 1em; text-align: center; vertical-align: top\">CA</td>\n",
       "        <td style=\"padding-left: 1em; padding-right: 1em; text-align: center; vertical-align: top\">SF Bay Area</td>\n",
       "        <td style=\"padding-left: 1em; padding-right: 1em; text-align: center; vertical-align: top\">Mountain View</td>\n",
       "        <td style=\"padding-left: 1em; padding-right: 1em; text-align: center; vertical-align: top\">4</td>\n",
       "        <td style=\"padding-left: 1em; padding-right: 1em; text-align: center; vertical-align: top\">2011-01-01</td>\n",
       "    </tr>\n",
       "    <tr>\n",
       "        <td style=\"padding-left: 1em; padding-right: 1em; text-align: center; vertical-align: top\">operating</td>\n",
       "        <td style=\"padding-left: 1em; padding-right: 1em; text-align: center; vertical-align: top\">USA</td>\n",
       "        <td style=\"padding-left: 1em; padding-right: 1em; text-align: center; vertical-align: top\">CA</td>\n",
       "        <td style=\"padding-left: 1em; padding-right: 1em; text-align: center; vertical-align: top\">SF Bay Area</td>\n",
       "        <td style=\"padding-left: 1em; padding-right: 1em; text-align: center; vertical-align: top\">San Francisco</td>\n",
       "        <td style=\"padding-left: 1em; padding-right: 1em; text-align: center; vertical-align: top\">3</td>\n",
       "        <td style=\"padding-left: 1em; padding-right: 1em; text-align: center; vertical-align: top\">2011-08-01</td>\n",
       "    </tr>\n",
       "    <tr>\n",
       "        <td style=\"padding-left: 1em; padding-right: 1em; text-align: center; vertical-align: top\">operating</td>\n",
       "        <td style=\"padding-left: 1em; padding-right: 1em; text-align: center; vertical-align: top\">CHL</td>\n",
       "        <td style=\"padding-left: 1em; padding-right: 1em; text-align: center; vertical-align: top\">12</td>\n",
       "        <td style=\"padding-left: 1em; padding-right: 1em; text-align: center; vertical-align: top\">Santiago</td>\n",
       "        <td style=\"padding-left: 1em; padding-right: 1em; text-align: center; vertical-align: top\">Las Condes</td>\n",
       "        <td style=\"padding-left: 1em; padding-right: 1em; text-align: center; vertical-align: top\">1</td>\n",
       "        <td style=\"padding-left: 1em; padding-right: 1em; text-align: center; vertical-align: top\">2012-01-01</td>\n",
       "    </tr>\n",
       "</table>\n",
       "<table frame=\"box\" rules=\"cols\">\n",
       "    <tr>\n",
       "        <th style=\"padding-left: 1em; padding-right: 1em; text-align: center\">first_funding_at</th>\n",
       "        <th style=\"padding-left: 1em; padding-right: 1em; text-align: center\">last_funding_at</th>\n",
       "    </tr>\n",
       "    <tr>\n",
       "        <td style=\"padding-left: 1em; padding-right: 1em; text-align: center; vertical-align: top\">2015-01-05</td>\n",
       "        <td style=\"padding-left: 1em; padding-right: 1em; text-align: center; vertical-align: top\">2015-01-05</td>\n",
       "    </tr>\n",
       "    <tr>\n",
       "        <td style=\"padding-left: 1em; padding-right: 1em; text-align: center; vertical-align: top\">2014-03-01</td>\n",
       "        <td style=\"padding-left: 1em; padding-right: 1em; text-align: center; vertical-align: top\">2014-10-14</td>\n",
       "    </tr>\n",
       "    <tr>\n",
       "        <td style=\"padding-left: 1em; padding-right: 1em; text-align: center; vertical-align: top\">2014-01-30</td>\n",
       "        <td style=\"padding-left: 1em; padding-right: 1em; text-align: center; vertical-align: top\">2014-01-30</td>\n",
       "    </tr>\n",
       "    <tr>\n",
       "        <td style=\"padding-left: 1em; padding-right: 1em; text-align: center; vertical-align: top\">2008-03-19</td>\n",
       "        <td style=\"padding-left: 1em; padding-right: 1em; text-align: center; vertical-align: top\">2008-03-19</td>\n",
       "    </tr>\n",
       "    <tr>\n",
       "        <td style=\"padding-left: 1em; padding-right: 1em; text-align: center; vertical-align: top\">2014-07-24</td>\n",
       "        <td style=\"padding-left: 1em; padding-right: 1em; text-align: center; vertical-align: top\">2014-07-24</td>\n",
       "    </tr>\n",
       "    <tr>\n",
       "        <td style=\"padding-left: 1em; padding-right: 1em; text-align: center; vertical-align: top\">2014-07-01</td>\n",
       "        <td style=\"padding-left: 1em; padding-right: 1em; text-align: center; vertical-align: top\">2014-07-01</td>\n",
       "    </tr>\n",
       "    <tr>\n",
       "        <td style=\"padding-left: 1em; padding-right: 1em; text-align: center; vertical-align: top\">2009-09-11</td>\n",
       "        <td style=\"padding-left: 1em; padding-right: 1em; text-align: center; vertical-align: top\">2009-12-21</td>\n",
       "    </tr>\n",
       "    <tr>\n",
       "        <td style=\"padding-left: 1em; padding-right: 1em; text-align: center; vertical-align: top\">2013-01-03</td>\n",
       "        <td style=\"padding-left: 1em; padding-right: 1em; text-align: center; vertical-align: top\">2015-11-09</td>\n",
       "    </tr>\n",
       "    <tr>\n",
       "        <td style=\"padding-left: 1em; padding-right: 1em; text-align: center; vertical-align: top\">2011-07-20</td>\n",
       "        <td style=\"padding-left: 1em; padding-right: 1em; text-align: center; vertical-align: top\">2014-02-05</td>\n",
       "    </tr>\n",
       "    <tr>\n",
       "        <td style=\"padding-left: 1em; padding-right: 1em; text-align: center; vertical-align: top\">2013-02-18</td>\n",
       "        <td style=\"padding-left: 1em; padding-right: 1em; text-align: center; vertical-align: top\">2013-02-18</td>\n",
       "    </tr>\n",
       "</table>\n",
       "[10 rows x 14 columns]<br/>\n",
       "</div>"
      ],
      "text/plain": [
       "Columns:\n",
       "\tpermalink\tstr\n",
       "\tname\tstr\n",
       "\thomepage_url\tstr\n",
       "\tcategory_list\tstr\n",
       "\tfunding_total_usd\tstr\n",
       "\tstatus\tstr\n",
       "\tcountry_code\tstr\n",
       "\tstate_code\tstr\n",
       "\tregion\tstr\n",
       "\tcity\tstr\n",
       "\tfunding_rounds\tint\n",
       "\tfounded_at\tstr\n",
       "\tfirst_funding_at\tstr\n",
       "\tlast_funding_at\tstr\n",
       "\n",
       "Rows: 10\n",
       "\n",
       "Data:\n",
       "+--------------------------------+------------------------+\n",
       "|           permalink            |          name          |\n",
       "+--------------------------------+------------------------+\n",
       "|      /organization/-fame       |         #fame          |\n",
       "|     /organization/-qounter     |        :Qounter        |\n",
       "| /organization/-the-one-of-...  | (THE) ONE of THEM,Inc. |\n",
       "|     /organization/0-6-com      |        0-6.com         |\n",
       "| /organization/004-technologies |    004 Technologies    |\n",
       "| /organization/01games-tech...  |   01Games Technology   |\n",
       "| /organization/0ndine-biome...  | Ondine Biomedical Inc. |\n",
       "|      /organization/0xdata      |         H2O.ai         |\n",
       "|        /organization/1         |        One Inc.        |\n",
       "|   /organization/1-2-3-listo    |      1,2,3 Listo       |\n",
       "+--------------------------------+------------------------+\n",
       "+-------------------------------+-------------------------------+-------------------+\n",
       "|          homepage_url         |         category_list         | funding_total_usd |\n",
       "+-------------------------------+-------------------------------+-------------------+\n",
       "|       http://livfame.com      |             Media             |      10000000     |\n",
       "|     http://www.qounter.com    | Application Platforms|Real... |       700000      |\n",
       "|      http://oneofthem.jp      |       Apps|Games|Mobile       |      3406878      |\n",
       "|       http://www.0-6.com      |          Curated Web          |      2000000      |\n",
       "| http://004gmbh.de/en/004-i... |            Software           |         -         |\n",
       "|     http://www.01games.hk/    |             Games             |       41250       |\n",
       "|      http://ondinebio.com     |         Biotechnology         |       762851      |\n",
       "|         http://h2o.ai/        |           Analytics           |      33600000     |\n",
       "|       http://whatis1.com      |             Mobile            |      1150050      |\n",
       "|    http://www.123listo.com    |           E-Commerce          |       40000       |\n",
       "+-------------------------------+-------------------------------+-------------------+\n",
       "+-----------+--------------+------------+-----------------------+---------------+\n",
       "|   status  | country_code | state_code |         region        |      city     |\n",
       "+-----------+--------------+------------+-----------------------+---------------+\n",
       "| operating |     IND      |     16     |         Mumbai        |     Mumbai    |\n",
       "| operating |     USA      |     DE     |       DE - Other      | Delaware City |\n",
       "| operating |              |            |                       |               |\n",
       "| operating |     CHN      |     22     |        Beijing        |    Beijing    |\n",
       "| operating |     USA      |     IL     | Springfield, Illinois |   Champaign   |\n",
       "| operating |     HKG      |            |       Hong Kong       |   Hong Kong   |\n",
       "| operating |     CAN      |     BC     |       Vancouver       |   Vancouver   |\n",
       "| operating |     USA      |     CA     |      SF Bay Area      | Mountain View |\n",
       "| operating |     USA      |     CA     |      SF Bay Area      | San Francisco |\n",
       "| operating |     CHL      |     12     |        Santiago       |   Las Condes  |\n",
       "+-----------+--------------+------------+-----------------------+---------------+\n",
       "+----------------+------------+------------------+-----------------+\n",
       "| funding_rounds | founded_at | first_funding_at | last_funding_at |\n",
       "+----------------+------------+------------------+-----------------+\n",
       "|       1        |            |    2015-01-05    |    2015-01-05   |\n",
       "|       2        | 2014-09-04 |    2014-03-01    |    2014-10-14   |\n",
       "|       1        |            |    2014-01-30    |    2014-01-30   |\n",
       "|       1        | 2007-01-01 |    2008-03-19    |    2008-03-19   |\n",
       "|       1        | 2010-01-01 |    2014-07-24    |    2014-07-24   |\n",
       "|       1        |            |    2014-07-01    |    2014-07-01   |\n",
       "|       2        | 1997-01-01 |    2009-09-11    |    2009-12-21   |\n",
       "|       4        | 2011-01-01 |    2013-01-03    |    2015-11-09   |\n",
       "|       3        | 2011-08-01 |    2011-07-20    |    2014-02-05   |\n",
       "|       1        | 2012-01-01 |    2013-02-18    |    2013-02-18   |\n",
       "+----------------+------------+------------------+-----------------+\n",
       "[10 rows x 14 columns]"
      ]
     },
     "execution_count": 16,
     "metadata": {},
     "output_type": "execute_result"
    }
   ],
   "source": [
    "companies.head()"
   ]
  },
  {
   "cell_type": "code",
   "execution_count": 16,
   "metadata": {
    "collapsed": false
   },
   "outputs": [
    {
     "data": {
      "text/html": [
       "<div style=\"max-height:1000px;max-width:1500px;overflow:auto;\"><table frame=\"box\" rules=\"cols\">\n",
       "    <tr>\n",
       "        <th style=\"padding-left: 1em; padding-right: 1em; text-align: center\">content</th>\n",
       "        <th style=\"padding-left: 1em; padding-right: 1em; text-align: center\">month_str</th>\n",
       "        <th style=\"padding-left: 1em; padding-right: 1em; text-align: center\">year_str</th>\n",
       "        <th style=\"padding-left: 1em; padding-right: 1em; text-align: center\">value</th>\n",
       "    </tr>\n",
       "    <tr>\n",
       "        <td style=\"padding-left: 1em; padding-right: 1em; text-align: center; vertical-align: top\">Acquisitions</td>\n",
       "        <td style=\"padding-left: 1em; padding-right: 1em; text-align: center; vertical-align: top\">1960-01</td>\n",
       "        <td style=\"padding-left: 1em; padding-right: 1em; text-align: center; vertical-align: top\">1960</td>\n",
       "        <td style=\"padding-left: 1em; padding-right: 1em; text-align: center; vertical-align: top\">1</td>\n",
       "    </tr>\n",
       "    <tr>\n",
       "        <td style=\"padding-left: 1em; padding-right: 1em; text-align: center; vertical-align: top\">Acquisitions</td>\n",
       "        <td style=\"padding-left: 1em; padding-right: 1em; text-align: center; vertical-align: top\">1966-11</td>\n",
       "        <td style=\"padding-left: 1em; padding-right: 1em; text-align: center; vertical-align: top\">1966</td>\n",
       "        <td style=\"padding-left: 1em; padding-right: 1em; text-align: center; vertical-align: top\">1</td>\n",
       "    </tr>\n",
       "    <tr>\n",
       "        <td style=\"padding-left: 1em; padding-right: 1em; text-align: center; vertical-align: top\">Acquisitions</td>\n",
       "        <td style=\"padding-left: 1em; padding-right: 1em; text-align: center; vertical-align: top\">1967-04</td>\n",
       "        <td style=\"padding-left: 1em; padding-right: 1em; text-align: center; vertical-align: top\">1967</td>\n",
       "        <td style=\"padding-left: 1em; padding-right: 1em; text-align: center; vertical-align: top\">1</td>\n",
       "    </tr>\n",
       "    <tr>\n",
       "        <td style=\"padding-left: 1em; padding-right: 1em; text-align: center; vertical-align: top\">Acquisitions</td>\n",
       "        <td style=\"padding-left: 1em; padding-right: 1em; text-align: center; vertical-align: top\">1972-01</td>\n",
       "        <td style=\"padding-left: 1em; padding-right: 1em; text-align: center; vertical-align: top\">1972</td>\n",
       "        <td style=\"padding-left: 1em; padding-right: 1em; text-align: center; vertical-align: top\">1</td>\n",
       "    </tr>\n",
       "    <tr>\n",
       "        <td style=\"padding-left: 1em; padding-right: 1em; text-align: center; vertical-align: top\">Acquisitions</td>\n",
       "        <td style=\"padding-left: 1em; padding-right: 1em; text-align: center; vertical-align: top\">1973-01</td>\n",
       "        <td style=\"padding-left: 1em; padding-right: 1em; text-align: center; vertical-align: top\">1973</td>\n",
       "        <td style=\"padding-left: 1em; padding-right: 1em; text-align: center; vertical-align: top\">1</td>\n",
       "    </tr>\n",
       "    <tr>\n",
       "        <td style=\"padding-left: 1em; padding-right: 1em; text-align: center; vertical-align: top\">Acquisitions</td>\n",
       "        <td style=\"padding-left: 1em; padding-right: 1em; text-align: center; vertical-align: top\">1977-01</td>\n",
       "        <td style=\"padding-left: 1em; padding-right: 1em; text-align: center; vertical-align: top\">1977</td>\n",
       "        <td style=\"padding-left: 1em; padding-right: 1em; text-align: center; vertical-align: top\">1</td>\n",
       "    </tr>\n",
       "    <tr>\n",
       "        <td style=\"padding-left: 1em; padding-right: 1em; text-align: center; vertical-align: top\">Acquisitions</td>\n",
       "        <td style=\"padding-left: 1em; padding-right: 1em; text-align: center; vertical-align: top\">1978-01</td>\n",
       "        <td style=\"padding-left: 1em; padding-right: 1em; text-align: center; vertical-align: top\">1978</td>\n",
       "        <td style=\"padding-left: 1em; padding-right: 1em; text-align: center; vertical-align: top\">1</td>\n",
       "    </tr>\n",
       "    <tr>\n",
       "        <td style=\"padding-left: 1em; padding-right: 1em; text-align: center; vertical-align: top\">Acquisitions</td>\n",
       "        <td style=\"padding-left: 1em; padding-right: 1em; text-align: center; vertical-align: top\">1980-01</td>\n",
       "        <td style=\"padding-left: 1em; padding-right: 1em; text-align: center; vertical-align: top\">1980</td>\n",
       "        <td style=\"padding-left: 1em; padding-right: 1em; text-align: center; vertical-align: top\">1</td>\n",
       "    </tr>\n",
       "    <tr>\n",
       "        <td style=\"padding-left: 1em; padding-right: 1em; text-align: center; vertical-align: top\">Acquisitions</td>\n",
       "        <td style=\"padding-left: 1em; padding-right: 1em; text-align: center; vertical-align: top\">1981-01</td>\n",
       "        <td style=\"padding-left: 1em; padding-right: 1em; text-align: center; vertical-align: top\">1981</td>\n",
       "        <td style=\"padding-left: 1em; padding-right: 1em; text-align: center; vertical-align: top\">2</td>\n",
       "    </tr>\n",
       "    <tr>\n",
       "        <td style=\"padding-left: 1em; padding-right: 1em; text-align: center; vertical-align: top\">Acquisitions</td>\n",
       "        <td style=\"padding-left: 1em; padding-right: 1em; text-align: center; vertical-align: top\">1982-08</td>\n",
       "        <td style=\"padding-left: 1em; padding-right: 1em; text-align: center; vertical-align: top\">1982</td>\n",
       "        <td style=\"padding-left: 1em; padding-right: 1em; text-align: center; vertical-align: top\">1</td>\n",
       "    </tr>\n",
       "</table>\n",
       "[10 rows x 4 columns]<br/>\n",
       "</div>"
      ],
      "text/plain": [
       "Columns:\n",
       "\tcontent\tstr\n",
       "\tmonth_str\tstr\n",
       "\tyear_str\tint\n",
       "\tvalue\tint\n",
       "\n",
       "Rows: 10\n",
       "\n",
       "Data:\n",
       "+--------------+-----------+----------+-------+\n",
       "|   content    | month_str | year_str | value |\n",
       "+--------------+-----------+----------+-------+\n",
       "| Acquisitions |  1960-01  |   1960   |   1   |\n",
       "| Acquisitions |  1966-11  |   1966   |   1   |\n",
       "| Acquisitions |  1967-04  |   1967   |   1   |\n",
       "| Acquisitions |  1972-01  |   1972   |   1   |\n",
       "| Acquisitions |  1973-01  |   1973   |   1   |\n",
       "| Acquisitions |  1977-01  |   1977   |   1   |\n",
       "| Acquisitions |  1978-01  |   1978   |   1   |\n",
       "| Acquisitions |  1980-01  |   1980   |   1   |\n",
       "| Acquisitions |  1981-01  |   1981   |   2   |\n",
       "| Acquisitions |  1982-08  |   1982   |   1   |\n",
       "+--------------+-----------+----------+-------+\n",
       "[10 rows x 4 columns]"
      ]
     },
     "execution_count": 16,
     "metadata": {},
     "output_type": "execute_result"
    }
   ],
   "source": [
    "additions.head()"
   ]
  },
  {
   "cell_type": "code",
   "execution_count": 9,
   "metadata": {
    "collapsed": false
   },
   "outputs": [
    {
     "name": "stdout",
     "output_type": "stream",
     "text": [
      "Canvas is accessible via web browser at the URL: http://localhost:50769/index.html\n",
      "Opening Canvas in default web browser.\n"
     ]
    }
   ],
   "source": [
    "people.show()"
   ]
  },
  {
   "cell_type": "code",
   "execution_count": 20,
   "metadata": {
    "collapsed": false
   },
   "outputs": [
    {
     "name": "stdout",
     "output_type": "stream",
     "text": [
      "Canvas is updated and available in a tab in the default browser.\n"
     ]
    }
   ],
   "source": [
    "additions.show()"
   ]
  },
  {
   "cell_type": "code",
   "execution_count": null,
   "metadata": {
    "collapsed": false
   },
   "outputs": [],
   "source": []
  },
  {
   "cell_type": "code",
   "execution_count": 22,
   "metadata": {
    "collapsed": false
   },
   "outputs": [
    {
     "name": "stdout",
     "output_type": "stream",
     "text": [
      "Canvas is updated and available in a tab in the default browser.\n"
     ]
    }
   ],
   "source": [
    "acquisitions.show()"
   ]
  },
  {
   "cell_type": "code",
   "execution_count": 22,
   "metadata": {
    "collapsed": false
   },
   "outputs": [],
   "source": [
    "biotech_stratups = companies[companies['category_list']=='Biotechnology']"
   ]
  },
  {
   "cell_type": "code",
   "execution_count": 25,
   "metadata": {
    "collapsed": false
   },
   "outputs": [],
   "source": [
    "graphlab.canvas.set_target('ipynb')"
   ]
  },
  {
   "cell_type": "code",
   "execution_count": 27,
   "metadata": {
    "collapsed": false
   },
   "outputs": [
    {
     "data": {
      "text/html": [
       "<div style=\"max-height:1000px;max-width:1500px;overflow:auto;\"><table frame=\"box\" rules=\"cols\">\n",
       "    <tr>\n",
       "        <th style=\"padding-left: 1em; padding-right: 1em; text-align: center\">permalink</th>\n",
       "        <th style=\"padding-left: 1em; padding-right: 1em; text-align: center\">name</th>\n",
       "        <th style=\"padding-left: 1em; padding-right: 1em; text-align: center\">homepage_url</th>\n",
       "        <th style=\"padding-left: 1em; padding-right: 1em; text-align: center\">category_list</th>\n",
       "        <th style=\"padding-left: 1em; padding-right: 1em; text-align: center\">funding_total_usd</th>\n",
       "    </tr>\n",
       "    <tr>\n",
       "        <td style=\"padding-left: 1em; padding-right: 1em; text-align: center; vertical-align: top\">/organization/0ndine-<br>biomedical-inc ...</td>\n",
       "        <td style=\"padding-left: 1em; padding-right: 1em; text-align: center; vertical-align: top\">Ondine Biomedical Inc.</td>\n",
       "        <td style=\"padding-left: 1em; padding-right: 1em; text-align: center; vertical-align: top\">http://ondinebio.com</td>\n",
       "        <td style=\"padding-left: 1em; padding-right: 1em; text-align: center; vertical-align: top\">Biotechnology</td>\n",
       "        <td style=\"padding-left: 1em; padding-right: 1em; text-align: center; vertical-align: top\">762851</td>\n",
       "    </tr>\n",
       "    <tr>\n",
       "        <td style=\"padding-left: 1em; padding-right: 1em; text-align: center; vertical-align: top\">/organization/10x-<br>technologies ...</td>\n",
       "        <td style=\"padding-left: 1em; padding-right: 1em; text-align: center; vertical-align: top\">10X Technologies</td>\n",
       "        <td style=\"padding-left: 1em; padding-right: 1em; text-align: center; vertical-align: top\">http://10xtechnologies.co<br>m ...</td>\n",
       "        <td style=\"padding-left: 1em; padding-right: 1em; text-align: center; vertical-align: top\">Biotechnology</td>\n",
       "        <td style=\"padding-left: 1em; padding-right: 1em; text-align: center; vertical-align: top\">3550000</td>\n",
       "    </tr>\n",
       "    <tr>\n",
       "        <td style=\"padding-left: 1em; padding-right: 1em; text-align: center; vertical-align: top\">/organization/22nd-<br>century-group ...</td>\n",
       "        <td style=\"padding-left: 1em; padding-right: 1em; text-align: center; vertical-align: top\">22nd Century Group</td>\n",
       "        <td style=\"padding-left: 1em; padding-right: 1em; text-align: center; vertical-align: top\">http://www.xxiicentury.co<br>m ...</td>\n",
       "        <td style=\"padding-left: 1em; padding-right: 1em; text-align: center; vertical-align: top\">Biotechnology</td>\n",
       "        <td style=\"padding-left: 1em; padding-right: 1em; text-align: center; vertical-align: top\">15034750</td>\n",
       "    </tr>\n",
       "    <tr>\n",
       "        <td style=\"padding-left: 1em; padding-right: 1em; text-align: center; vertical-align: top\">/organization/3-v-bioscie<br>nces ...</td>\n",
       "        <td style=\"padding-left: 1em; padding-right: 1em; text-align: center; vertical-align: top\">3-V Biosciences</td>\n",
       "        <td style=\"padding-left: 1em; padding-right: 1em; text-align: center; vertical-align: top\">http://www.3vbio.com</td>\n",
       "        <td style=\"padding-left: 1em; padding-right: 1em; text-align: center; vertical-align: top\">Biotechnology</td>\n",
       "        <td style=\"padding-left: 1em; padding-right: 1em; text-align: center; vertical-align: top\">128477567</td>\n",
       "    </tr>\n",
       "    <tr>\n",
       "        <td style=\"padding-left: 1em; padding-right: 1em; text-align: center; vertical-align: top\">/organization/3ci</td>\n",
       "        <td style=\"padding-left: 1em; padding-right: 1em; text-align: center; vertical-align: top\">3CI</td>\n",
       "        <td style=\"padding-left: 1em; padding-right: 1em; text-align: center; vertical-align: top\">http://www.3ci.bz.it/en-<br>US/Products.html ...</td>\n",
       "        <td style=\"padding-left: 1em; padding-right: 1em; text-align: center; vertical-align: top\">Biotechnology</td>\n",
       "        <td style=\"padding-left: 1em; padding-right: 1em; text-align: center; vertical-align: top\">133620</td>\n",
       "    </tr>\n",
       "    <tr>\n",
       "        <td style=\"padding-left: 1em; padding-right: 1em; text-align: center; vertical-align: top\">/organization/3d-<br>biomatrix ...</td>\n",
       "        <td style=\"padding-left: 1em; padding-right: 1em; text-align: center; vertical-align: top\">3D Biomatrix</td>\n",
       "        <td style=\"padding-left: 1em; padding-right: 1em; text-align: center; vertical-align: top\">http://3dbiomatrix.com</td>\n",
       "        <td style=\"padding-left: 1em; padding-right: 1em; text-align: center; vertical-align: top\">Biotechnology</td>\n",
       "        <td style=\"padding-left: 1em; padding-right: 1em; text-align: center; vertical-align: top\">1465000</td>\n",
       "    </tr>\n",
       "    <tr>\n",
       "        <td style=\"padding-left: 1em; padding-right: 1em; text-align: center; vertical-align: top\">/organization/3dr-<br>laboratories ...</td>\n",
       "        <td style=\"padding-left: 1em; padding-right: 1em; text-align: center; vertical-align: top\">3DR Laboratories</td>\n",
       "        <td style=\"padding-left: 1em; padding-right: 1em; text-align: center; vertical-align: top\">http://www.3drinc.com</td>\n",
       "        <td style=\"padding-left: 1em; padding-right: 1em; text-align: center; vertical-align: top\">Biotechnology</td>\n",
       "        <td style=\"padding-left: 1em; padding-right: 1em; text-align: center; vertical-align: top\">7436500</td>\n",
       "    </tr>\n",
       "    <tr>\n",
       "        <td style=\"padding-left: 1em; padding-right: 1em; text-align: center; vertical-align: top\">/organization/3scan</td>\n",
       "        <td style=\"padding-left: 1em; padding-right: 1em; text-align: center; vertical-align: top\">3Scan</td>\n",
       "        <td style=\"padding-left: 1em; padding-right: 1em; text-align: center; vertical-align: top\">http://www.3scan.com</td>\n",
       "        <td style=\"padding-left: 1em; padding-right: 1em; text-align: center; vertical-align: top\">Biotechnology</td>\n",
       "        <td style=\"padding-left: 1em; padding-right: 1em; text-align: center; vertical-align: top\">7063012</td>\n",
       "    </tr>\n",
       "    <tr>\n",
       "        <td style=\"padding-left: 1em; padding-right: 1em; text-align: center; vertical-align: top\">/organization/480-biomedi<br>cal ...</td>\n",
       "        <td style=\"padding-left: 1em; padding-right: 1em; text-align: center; vertical-align: top\">480 Biomedical</td>\n",
       "        <td style=\"padding-left: 1em; padding-right: 1em; text-align: center; vertical-align: top\">http://www.480biomedical.<br>com ...</td>\n",
       "        <td style=\"padding-left: 1em; padding-right: 1em; text-align: center; vertical-align: top\">Biotechnology</td>\n",
       "        <td style=\"padding-left: 1em; padding-right: 1em; text-align: center; vertical-align: top\">49656999</td>\n",
       "    </tr>\n",
       "    <tr>\n",
       "        <td style=\"padding-left: 1em; padding-right: 1em; text-align: center; vertical-align: top\">/organization/4d-<br>molecular-therapeutics ...</td>\n",
       "        <td style=\"padding-left: 1em; padding-right: 1em; text-align: center; vertical-align: top\">4D Molecular Therapeutics</td>\n",
       "        <td style=\"padding-left: 1em; padding-right: 1em; text-align: center; vertical-align: top\">http://www.4dmolecularthe<br>rapeutics.com ...</td>\n",
       "        <td style=\"padding-left: 1em; padding-right: 1em; text-align: center; vertical-align: top\">Biotechnology</td>\n",
       "        <td style=\"padding-left: 1em; padding-right: 1em; text-align: center; vertical-align: top\">6999995</td>\n",
       "    </tr>\n",
       "</table>\n",
       "<table frame=\"box\" rules=\"cols\">\n",
       "    <tr>\n",
       "        <th style=\"padding-left: 1em; padding-right: 1em; text-align: center\">status</th>\n",
       "        <th style=\"padding-left: 1em; padding-right: 1em; text-align: center\">country_code</th>\n",
       "        <th style=\"padding-left: 1em; padding-right: 1em; text-align: center\">state_code</th>\n",
       "        <th style=\"padding-left: 1em; padding-right: 1em; text-align: center\">region</th>\n",
       "        <th style=\"padding-left: 1em; padding-right: 1em; text-align: center\">city</th>\n",
       "        <th style=\"padding-left: 1em; padding-right: 1em; text-align: center\">funding_rounds</th>\n",
       "        <th style=\"padding-left: 1em; padding-right: 1em; text-align: center\">founded_at</th>\n",
       "        <th style=\"padding-left: 1em; padding-right: 1em; text-align: center\">first_funding_at</th>\n",
       "    </tr>\n",
       "    <tr>\n",
       "        <td style=\"padding-left: 1em; padding-right: 1em; text-align: center; vertical-align: top\">operating</td>\n",
       "        <td style=\"padding-left: 1em; padding-right: 1em; text-align: center; vertical-align: top\">CAN</td>\n",
       "        <td style=\"padding-left: 1em; padding-right: 1em; text-align: center; vertical-align: top\">BC</td>\n",
       "        <td style=\"padding-left: 1em; padding-right: 1em; text-align: center; vertical-align: top\">Vancouver</td>\n",
       "        <td style=\"padding-left: 1em; padding-right: 1em; text-align: center; vertical-align: top\">Vancouver</td>\n",
       "        <td style=\"padding-left: 1em; padding-right: 1em; text-align: center; vertical-align: top\">2</td>\n",
       "        <td style=\"padding-left: 1em; padding-right: 1em; text-align: center; vertical-align: top\">1997-01-01</td>\n",
       "        <td style=\"padding-left: 1em; padding-right: 1em; text-align: center; vertical-align: top\">2009-09-11</td>\n",
       "    </tr>\n",
       "    <tr>\n",
       "        <td style=\"padding-left: 1em; padding-right: 1em; text-align: center; vertical-align: top\">operating</td>\n",
       "        <td style=\"padding-left: 1em; padding-right: 1em; text-align: center; vertical-align: top\">USA</td>\n",
       "        <td style=\"padding-left: 1em; padding-right: 1em; text-align: center; vertical-align: top\">CA</td>\n",
       "        <td style=\"padding-left: 1em; padding-right: 1em; text-align: center; vertical-align: top\">SF Bay Area</td>\n",
       "        <td style=\"padding-left: 1em; padding-right: 1em; text-align: center; vertical-align: top\">Oakland</td>\n",
       "        <td style=\"padding-left: 1em; padding-right: 1em; text-align: center; vertical-align: top\">2</td>\n",
       "        <td style=\"padding-left: 1em; padding-right: 1em; text-align: center; vertical-align: top\">2012-01-01</td>\n",
       "        <td style=\"padding-left: 1em; padding-right: 1em; text-align: center; vertical-align: top\">2012-11-07</td>\n",
       "    </tr>\n",
       "    <tr>\n",
       "        <td style=\"padding-left: 1em; padding-right: 1em; text-align: center; vertical-align: top\">ipo</td>\n",
       "        <td style=\"padding-left: 1em; padding-right: 1em; text-align: center; vertical-align: top\">USA</td>\n",
       "        <td style=\"padding-left: 1em; padding-right: 1em; text-align: center; vertical-align: top\">NY</td>\n",
       "        <td style=\"padding-left: 1em; padding-right: 1em; text-align: center; vertical-align: top\">NY - Other</td>\n",
       "        <td style=\"padding-left: 1em; padding-right: 1em; text-align: center; vertical-align: top\">Clarence</td>\n",
       "        <td style=\"padding-left: 1em; padding-right: 1em; text-align: center; vertical-align: top\">6</td>\n",
       "        <td style=\"padding-left: 1em; padding-right: 1em; text-align: center; vertical-align: top\">1998-01-01</td>\n",
       "        <td style=\"padding-left: 1em; padding-right: 1em; text-align: center; vertical-align: top\">2010-12-28</td>\n",
       "    </tr>\n",
       "    <tr>\n",
       "        <td style=\"padding-left: 1em; padding-right: 1em; text-align: center; vertical-align: top\">operating</td>\n",
       "        <td style=\"padding-left: 1em; padding-right: 1em; text-align: center; vertical-align: top\">USA</td>\n",
       "        <td style=\"padding-left: 1em; padding-right: 1em; text-align: center; vertical-align: top\">CA</td>\n",
       "        <td style=\"padding-left: 1em; padding-right: 1em; text-align: center; vertical-align: top\">SF Bay Area</td>\n",
       "        <td style=\"padding-left: 1em; padding-right: 1em; text-align: center; vertical-align: top\">Menlo Park</td>\n",
       "        <td style=\"padding-left: 1em; padding-right: 1em; text-align: center; vertical-align: top\">7</td>\n",
       "        <td style=\"padding-left: 1em; padding-right: 1em; text-align: center; vertical-align: top\">2007-03-01</td>\n",
       "        <td style=\"padding-left: 1em; padding-right: 1em; text-align: center; vertical-align: top\">2007-05-22</td>\n",
       "    </tr>\n",
       "    <tr>\n",
       "        <td style=\"padding-left: 1em; padding-right: 1em; text-align: center; vertical-align: top\">operating</td>\n",
       "        <td style=\"padding-left: 1em; padding-right: 1em; text-align: center; vertical-align: top\">ITA</td>\n",
       "        <td style=\"padding-left: 1em; padding-right: 1em; text-align: center; vertical-align: top\">6</td>\n",
       "        <td style=\"padding-left: 1em; padding-right: 1em; text-align: center; vertical-align: top\">Bolzano</td>\n",
       "        <td style=\"padding-left: 1em; padding-right: 1em; text-align: center; vertical-align: top\">Bolzano</td>\n",
       "        <td style=\"padding-left: 1em; padding-right: 1em; text-align: center; vertical-align: top\">1</td>\n",
       "        <td style=\"padding-left: 1em; padding-right: 1em; text-align: center; vertical-align: top\">2008-01-01</td>\n",
       "        <td style=\"padding-left: 1em; padding-right: 1em; text-align: center; vertical-align: top\">2011-01-01</td>\n",
       "    </tr>\n",
       "    <tr>\n",
       "        <td style=\"padding-left: 1em; padding-right: 1em; text-align: center; vertical-align: top\">operating</td>\n",
       "        <td style=\"padding-left: 1em; padding-right: 1em; text-align: center; vertical-align: top\">USA</td>\n",
       "        <td style=\"padding-left: 1em; padding-right: 1em; text-align: center; vertical-align: top\">MI</td>\n",
       "        <td style=\"padding-left: 1em; padding-right: 1em; text-align: center; vertical-align: top\">Detroit</td>\n",
       "        <td style=\"padding-left: 1em; padding-right: 1em; text-align: center; vertical-align: top\">Ann Arbor</td>\n",
       "        <td style=\"padding-left: 1em; padding-right: 1em; text-align: center; vertical-align: top\">2</td>\n",
       "        <td style=\"padding-left: 1em; padding-right: 1em; text-align: center; vertical-align: top\">2010-01-01</td>\n",
       "        <td style=\"padding-left: 1em; padding-right: 1em; text-align: center; vertical-align: top\">2009-10-05</td>\n",
       "    </tr>\n",
       "    <tr>\n",
       "        <td style=\"padding-left: 1em; padding-right: 1em; text-align: center; vertical-align: top\">operating</td>\n",
       "        <td style=\"padding-left: 1em; padding-right: 1em; text-align: center; vertical-align: top\">USA</td>\n",
       "        <td style=\"padding-left: 1em; padding-right: 1em; text-align: center; vertical-align: top\">KY</td>\n",
       "        <td style=\"padding-left: 1em; padding-right: 1em; text-align: center; vertical-align: top\">Louisville</td>\n",
       "        <td style=\"padding-left: 1em; padding-right: 1em; text-align: center; vertical-align: top\">Louisville</td>\n",
       "        <td style=\"padding-left: 1em; padding-right: 1em; text-align: center; vertical-align: top\">2</td>\n",
       "        <td style=\"padding-left: 1em; padding-right: 1em; text-align: center; vertical-align: top\"></td>\n",
       "        <td style=\"padding-left: 1em; padding-right: 1em; text-align: center; vertical-align: top\">2009-05-29</td>\n",
       "    </tr>\n",
       "    <tr>\n",
       "        <td style=\"padding-left: 1em; padding-right: 1em; text-align: center; vertical-align: top\">operating</td>\n",
       "        <td style=\"padding-left: 1em; padding-right: 1em; text-align: center; vertical-align: top\">USA</td>\n",
       "        <td style=\"padding-left: 1em; padding-right: 1em; text-align: center; vertical-align: top\">CA</td>\n",
       "        <td style=\"padding-left: 1em; padding-right: 1em; text-align: center; vertical-align: top\">SF Bay Area</td>\n",
       "        <td style=\"padding-left: 1em; padding-right: 1em; text-align: center; vertical-align: top\">San Francisco</td>\n",
       "        <td style=\"padding-left: 1em; padding-right: 1em; text-align: center; vertical-align: top\">4</td>\n",
       "        <td style=\"padding-left: 1em; padding-right: 1em; text-align: center; vertical-align: top\">2011-01-01</td>\n",
       "        <td style=\"padding-left: 1em; padding-right: 1em; text-align: center; vertical-align: top\">2011-08-31</td>\n",
       "    </tr>\n",
       "    <tr>\n",
       "        <td style=\"padding-left: 1em; padding-right: 1em; text-align: center; vertical-align: top\">operating</td>\n",
       "        <td style=\"padding-left: 1em; padding-right: 1em; text-align: center; vertical-align: top\">USA</td>\n",
       "        <td style=\"padding-left: 1em; padding-right: 1em; text-align: center; vertical-align: top\">MA</td>\n",
       "        <td style=\"padding-left: 1em; padding-right: 1em; text-align: center; vertical-align: top\">Boston</td>\n",
       "        <td style=\"padding-left: 1em; padding-right: 1em; text-align: center; vertical-align: top\">Watertown</td>\n",
       "        <td style=\"padding-left: 1em; padding-right: 1em; text-align: center; vertical-align: top\">5</td>\n",
       "        <td style=\"padding-left: 1em; padding-right: 1em; text-align: center; vertical-align: top\">2011-01-01</td>\n",
       "        <td style=\"padding-left: 1em; padding-right: 1em; text-align: center; vertical-align: top\">2012-02-14</td>\n",
       "    </tr>\n",
       "    <tr>\n",
       "        <td style=\"padding-left: 1em; padding-right: 1em; text-align: center; vertical-align: top\">operating</td>\n",
       "        <td style=\"padding-left: 1em; padding-right: 1em; text-align: center; vertical-align: top\">USA</td>\n",
       "        <td style=\"padding-left: 1em; padding-right: 1em; text-align: center; vertical-align: top\">CA</td>\n",
       "        <td style=\"padding-left: 1em; padding-right: 1em; text-align: center; vertical-align: top\">SF Bay Area</td>\n",
       "        <td style=\"padding-left: 1em; padding-right: 1em; text-align: center; vertical-align: top\">Emeryville</td>\n",
       "        <td style=\"padding-left: 1em; padding-right: 1em; text-align: center; vertical-align: top\">1</td>\n",
       "        <td style=\"padding-left: 1em; padding-right: 1em; text-align: center; vertical-align: top\">2013-01-01</td>\n",
       "        <td style=\"padding-left: 1em; padding-right: 1em; text-align: center; vertical-align: top\">2015-08-13</td>\n",
       "    </tr>\n",
       "</table>\n",
       "<table frame=\"box\" rules=\"cols\">\n",
       "    <tr>\n",
       "        <th style=\"padding-left: 1em; padding-right: 1em; text-align: center\">last_funding_at</th>\n",
       "    </tr>\n",
       "    <tr>\n",
       "        <td style=\"padding-left: 1em; padding-right: 1em; text-align: center; vertical-align: top\">2009-12-21</td>\n",
       "    </tr>\n",
       "    <tr>\n",
       "        <td style=\"padding-left: 1em; padding-right: 1em; text-align: center; vertical-align: top\">2015-01-12</td>\n",
       "    </tr>\n",
       "    <tr>\n",
       "        <td style=\"padding-left: 1em; padding-right: 1em; text-align: center; vertical-align: top\">2014-09-18</td>\n",
       "    </tr>\n",
       "    <tr>\n",
       "        <td style=\"padding-left: 1em; padding-right: 1em; text-align: center; vertical-align: top\">2015-03-17</td>\n",
       "    </tr>\n",
       "    <tr>\n",
       "        <td style=\"padding-left: 1em; padding-right: 1em; text-align: center; vertical-align: top\">2011-01-01</td>\n",
       "    </tr>\n",
       "    <tr>\n",
       "        <td style=\"padding-left: 1em; padding-right: 1em; text-align: center; vertical-align: top\">2013-02-05</td>\n",
       "    </tr>\n",
       "    <tr>\n",
       "        <td style=\"padding-left: 1em; padding-right: 1em; text-align: center; vertical-align: top\">2012-08-23</td>\n",
       "    </tr>\n",
       "    <tr>\n",
       "        <td style=\"padding-left: 1em; padding-right: 1em; text-align: center; vertical-align: top\">2014-12-05</td>\n",
       "    </tr>\n",
       "    <tr>\n",
       "        <td style=\"padding-left: 1em; padding-right: 1em; text-align: center; vertical-align: top\">2015-06-19</td>\n",
       "    </tr>\n",
       "    <tr>\n",
       "        <td style=\"padding-left: 1em; padding-right: 1em; text-align: center; vertical-align: top\">2015-08-13</td>\n",
       "    </tr>\n",
       "</table>\n",
       "[10 rows x 14 columns]<br/>\n",
       "</div>"
      ],
      "text/plain": [
       "Columns:\n",
       "\tpermalink\tstr\n",
       "\tname\tstr\n",
       "\thomepage_url\tstr\n",
       "\tcategory_list\tstr\n",
       "\tfunding_total_usd\tstr\n",
       "\tstatus\tstr\n",
       "\tcountry_code\tstr\n",
       "\tstate_code\tstr\n",
       "\tregion\tstr\n",
       "\tcity\tstr\n",
       "\tfunding_rounds\tint\n",
       "\tfounded_at\tstr\n",
       "\tfirst_funding_at\tstr\n",
       "\tlast_funding_at\tstr\n",
       "\n",
       "Rows: 10\n",
       "\n",
       "Data:\n",
       "+--------------------------------+---------------------------+\n",
       "|           permalink            |            name           |\n",
       "+--------------------------------+---------------------------+\n",
       "| /organization/0ndine-biome...  |   Ondine Biomedical Inc.  |\n",
       "| /organization/10x-technologies |      10X Technologies     |\n",
       "| /organization/22nd-century...  |     22nd Century Group    |\n",
       "| /organization/3-v-biosciences  |      3-V Biosciences      |\n",
       "|       /organization/3ci        |            3CI            |\n",
       "|   /organization/3d-biomatrix   |        3D Biomatrix       |\n",
       "| /organization/3dr-laboratories |      3DR Laboratories     |\n",
       "|      /organization/3scan       |           3Scan           |\n",
       "|  /organization/480-biomedical  |       480 Biomedical      |\n",
       "| /organization/4d-molecular...  | 4D Molecular Therapeutics |\n",
       "+--------------------------------+---------------------------+\n",
       "+-------------------------------+---------------+-------------------+-----------+\n",
       "|          homepage_url         | category_list | funding_total_usd |   status  |\n",
       "+-------------------------------+---------------+-------------------+-----------+\n",
       "|      http://ondinebio.com     | Biotechnology |       762851      | operating |\n",
       "|   http://10xtechnologies.com  | Biotechnology |      3550000      | operating |\n",
       "|   http://www.xxiicentury.com  | Biotechnology |      15034750     |    ipo    |\n",
       "|      http://www.3vbio.com     | Biotechnology |     128477567     | operating |\n",
       "| http://www.3ci.bz.it/en-US... | Biotechnology |       133620      | operating |\n",
       "|     http://3dbiomatrix.com    | Biotechnology |      1465000      | operating |\n",
       "|     http://www.3drinc.com     | Biotechnology |      7436500      | operating |\n",
       "|      http://www.3scan.com     | Biotechnology |      7063012      | operating |\n",
       "|  http://www.480biomedical.com | Biotechnology |      49656999     | operating |\n",
       "| http://www.4dmolecularther... | Biotechnology |      6999995      | operating |\n",
       "+-------------------------------+---------------+-------------------+-----------+\n",
       "+--------------+------------+-------------+---------------+----------------+\n",
       "| country_code | state_code |    region   |      city     | funding_rounds |\n",
       "+--------------+------------+-------------+---------------+----------------+\n",
       "|     CAN      |     BC     |  Vancouver  |   Vancouver   |       2        |\n",
       "|     USA      |     CA     | SF Bay Area |    Oakland    |       2        |\n",
       "|     USA      |     NY     |  NY - Other |    Clarence   |       6        |\n",
       "|     USA      |     CA     | SF Bay Area |   Menlo Park  |       7        |\n",
       "|     ITA      |     6      |   Bolzano   |    Bolzano    |       1        |\n",
       "|     USA      |     MI     |   Detroit   |   Ann Arbor   |       2        |\n",
       "|     USA      |     KY     |  Louisville |   Louisville  |       2        |\n",
       "|     USA      |     CA     | SF Bay Area | San Francisco |       4        |\n",
       "|     USA      |     MA     |    Boston   |   Watertown   |       5        |\n",
       "|     USA      |     CA     | SF Bay Area |   Emeryville  |       1        |\n",
       "+--------------+------------+-------------+---------------+----------------+\n",
       "+------------+------------------+-----------------+\n",
       "| founded_at | first_funding_at | last_funding_at |\n",
       "+------------+------------------+-----------------+\n",
       "| 1997-01-01 |    2009-09-11    |    2009-12-21   |\n",
       "| 2012-01-01 |    2012-11-07    |    2015-01-12   |\n",
       "| 1998-01-01 |    2010-12-28    |    2014-09-18   |\n",
       "| 2007-03-01 |    2007-05-22    |    2015-03-17   |\n",
       "| 2008-01-01 |    2011-01-01    |    2011-01-01   |\n",
       "| 2010-01-01 |    2009-10-05    |    2013-02-05   |\n",
       "|            |    2009-05-29    |    2012-08-23   |\n",
       "| 2011-01-01 |    2011-08-31    |    2014-12-05   |\n",
       "| 2011-01-01 |    2012-02-14    |    2015-06-19   |\n",
       "| 2013-01-01 |    2015-08-13    |    2015-08-13   |\n",
       "+------------+------------------+-----------------+\n",
       "[10 rows x 14 columns]"
      ]
     },
     "execution_count": 27,
     "metadata": {},
     "output_type": "execute_result"
    }
   ],
   "source": [
    "biotech_stratups.head()"
   ]
  },
  {
   "cell_type": "code",
   "execution_count": 31,
   "metadata": {
    "collapsed": false
   },
   "outputs": [
    {
     "data": {
      "text/html": [
       "<div style=\"max-height:1000px;max-width:1500px;overflow:auto;\"><table frame=\"box\" rules=\"cols\">\n",
       "    <tr>\n",
       "        <th style=\"padding-left: 1em; padding-right: 1em; text-align: center\">permalink</th>\n",
       "        <th style=\"padding-left: 1em; padding-right: 1em; text-align: center\">name</th>\n",
       "        <th style=\"padding-left: 1em; padding-right: 1em; text-align: center\">homepage_url</th>\n",
       "        <th style=\"padding-left: 1em; padding-right: 1em; text-align: center\">category_list</th>\n",
       "        <th style=\"padding-left: 1em; padding-right: 1em; text-align: center\">funding_total_usd</th>\n",
       "    </tr>\n",
       "    <tr>\n",
       "        <td style=\"padding-left: 1em; padding-right: 1em; text-align: center; vertical-align: top\">/organization/-fame</td>\n",
       "        <td style=\"padding-left: 1em; padding-right: 1em; text-align: center; vertical-align: top\">#fame</td>\n",
       "        <td style=\"padding-left: 1em; padding-right: 1em; text-align: center; vertical-align: top\">http://livfame.com</td>\n",
       "        <td style=\"padding-left: 1em; padding-right: 1em; text-align: center; vertical-align: top\">Media</td>\n",
       "        <td style=\"padding-left: 1em; padding-right: 1em; text-align: center; vertical-align: top\">10000000</td>\n",
       "    </tr>\n",
       "    <tr>\n",
       "        <td style=\"padding-left: 1em; padding-right: 1em; text-align: center; vertical-align: top\">/organization/-qounter</td>\n",
       "        <td style=\"padding-left: 1em; padding-right: 1em; text-align: center; vertical-align: top\">:Qounter</td>\n",
       "        <td style=\"padding-left: 1em; padding-right: 1em; text-align: center; vertical-align: top\">http://www.qounter.com</td>\n",
       "        <td style=\"padding-left: 1em; padding-right: 1em; text-align: center; vertical-align: top\">Application<br>Platforms|Real ...</td>\n",
       "        <td style=\"padding-left: 1em; padding-right: 1em; text-align: center; vertical-align: top\">700000</td>\n",
       "    </tr>\n",
       "    <tr>\n",
       "        <td style=\"padding-left: 1em; padding-right: 1em; text-align: center; vertical-align: top\">/organization/-the-one-<br>of-them-inc- ...</td>\n",
       "        <td style=\"padding-left: 1em; padding-right: 1em; text-align: center; vertical-align: top\">(THE) ONE of THEM,Inc.</td>\n",
       "        <td style=\"padding-left: 1em; padding-right: 1em; text-align: center; vertical-align: top\">http://oneofthem.jp</td>\n",
       "        <td style=\"padding-left: 1em; padding-right: 1em; text-align: center; vertical-align: top\">Apps|Games|Mobile</td>\n",
       "        <td style=\"padding-left: 1em; padding-right: 1em; text-align: center; vertical-align: top\">3406878</td>\n",
       "    </tr>\n",
       "    <tr>\n",
       "        <td style=\"padding-left: 1em; padding-right: 1em; text-align: center; vertical-align: top\">/organization/0-6-com</td>\n",
       "        <td style=\"padding-left: 1em; padding-right: 1em; text-align: center; vertical-align: top\">0-6.com</td>\n",
       "        <td style=\"padding-left: 1em; padding-right: 1em; text-align: center; vertical-align: top\">http://www.0-6.com</td>\n",
       "        <td style=\"padding-left: 1em; padding-right: 1em; text-align: center; vertical-align: top\">Curated Web</td>\n",
       "        <td style=\"padding-left: 1em; padding-right: 1em; text-align: center; vertical-align: top\">2000000</td>\n",
       "    </tr>\n",
       "    <tr>\n",
       "        <td style=\"padding-left: 1em; padding-right: 1em; text-align: center; vertical-align: top\">/organization/004-technol<br>ogies ...</td>\n",
       "        <td style=\"padding-left: 1em; padding-right: 1em; text-align: center; vertical-align: top\">004 Technologies</td>\n",
       "        <td style=\"padding-left: 1em; padding-right: 1em; text-align: center; vertical-align: top\">http://004gmbh.de/en/004-<br>interact ...</td>\n",
       "        <td style=\"padding-left: 1em; padding-right: 1em; text-align: center; vertical-align: top\">Software</td>\n",
       "        <td style=\"padding-left: 1em; padding-right: 1em; text-align: center; vertical-align: top\">-</td>\n",
       "    </tr>\n",
       "    <tr>\n",
       "        <td style=\"padding-left: 1em; padding-right: 1em; text-align: center; vertical-align: top\">/organization/01games-<br>technology ...</td>\n",
       "        <td style=\"padding-left: 1em; padding-right: 1em; text-align: center; vertical-align: top\">01Games Technology</td>\n",
       "        <td style=\"padding-left: 1em; padding-right: 1em; text-align: center; vertical-align: top\">http://www.01games.hk/</td>\n",
       "        <td style=\"padding-left: 1em; padding-right: 1em; text-align: center; vertical-align: top\">Games</td>\n",
       "        <td style=\"padding-left: 1em; padding-right: 1em; text-align: center; vertical-align: top\">41250</td>\n",
       "    </tr>\n",
       "    <tr>\n",
       "        <td style=\"padding-left: 1em; padding-right: 1em; text-align: center; vertical-align: top\">/organization/0ndine-<br>biomedical-inc ...</td>\n",
       "        <td style=\"padding-left: 1em; padding-right: 1em; text-align: center; vertical-align: top\">Ondine Biomedical Inc.</td>\n",
       "        <td style=\"padding-left: 1em; padding-right: 1em; text-align: center; vertical-align: top\">http://ondinebio.com</td>\n",
       "        <td style=\"padding-left: 1em; padding-right: 1em; text-align: center; vertical-align: top\">Biotechnology</td>\n",
       "        <td style=\"padding-left: 1em; padding-right: 1em; text-align: center; vertical-align: top\">762851</td>\n",
       "    </tr>\n",
       "    <tr>\n",
       "        <td style=\"padding-left: 1em; padding-right: 1em; text-align: center; vertical-align: top\">/organization/0xdata</td>\n",
       "        <td style=\"padding-left: 1em; padding-right: 1em; text-align: center; vertical-align: top\">H2O.ai</td>\n",
       "        <td style=\"padding-left: 1em; padding-right: 1em; text-align: center; vertical-align: top\">http://h2o.ai/</td>\n",
       "        <td style=\"padding-left: 1em; padding-right: 1em; text-align: center; vertical-align: top\">Analytics</td>\n",
       "        <td style=\"padding-left: 1em; padding-right: 1em; text-align: center; vertical-align: top\">33600000</td>\n",
       "    </tr>\n",
       "    <tr>\n",
       "        <td style=\"padding-left: 1em; padding-right: 1em; text-align: center; vertical-align: top\">/organization/1</td>\n",
       "        <td style=\"padding-left: 1em; padding-right: 1em; text-align: center; vertical-align: top\">One Inc.</td>\n",
       "        <td style=\"padding-left: 1em; padding-right: 1em; text-align: center; vertical-align: top\">http://whatis1.com</td>\n",
       "        <td style=\"padding-left: 1em; padding-right: 1em; text-align: center; vertical-align: top\">Mobile</td>\n",
       "        <td style=\"padding-left: 1em; padding-right: 1em; text-align: center; vertical-align: top\">1150050</td>\n",
       "    </tr>\n",
       "    <tr>\n",
       "        <td style=\"padding-left: 1em; padding-right: 1em; text-align: center; vertical-align: top\">/organization/1-2-3-listo</td>\n",
       "        <td style=\"padding-left: 1em; padding-right: 1em; text-align: center; vertical-align: top\">1,2,3 Listo</td>\n",
       "        <td style=\"padding-left: 1em; padding-right: 1em; text-align: center; vertical-align: top\">http://www.123listo.com</td>\n",
       "        <td style=\"padding-left: 1em; padding-right: 1em; text-align: center; vertical-align: top\">E-Commerce</td>\n",
       "        <td style=\"padding-left: 1em; padding-right: 1em; text-align: center; vertical-align: top\">40000</td>\n",
       "    </tr>\n",
       "</table>\n",
       "<table frame=\"box\" rules=\"cols\">\n",
       "    <tr>\n",
       "        <th style=\"padding-left: 1em; padding-right: 1em; text-align: center\">status</th>\n",
       "        <th style=\"padding-left: 1em; padding-right: 1em; text-align: center\">country_code</th>\n",
       "        <th style=\"padding-left: 1em; padding-right: 1em; text-align: center\">state_code</th>\n",
       "        <th style=\"padding-left: 1em; padding-right: 1em; text-align: center\">region</th>\n",
       "        <th style=\"padding-left: 1em; padding-right: 1em; text-align: center\">city</th>\n",
       "        <th style=\"padding-left: 1em; padding-right: 1em; text-align: center\">funding_rounds</th>\n",
       "        <th style=\"padding-left: 1em; padding-right: 1em; text-align: center\">founded_at</th>\n",
       "    </tr>\n",
       "    <tr>\n",
       "        <td style=\"padding-left: 1em; padding-right: 1em; text-align: center; vertical-align: top\">operating</td>\n",
       "        <td style=\"padding-left: 1em; padding-right: 1em; text-align: center; vertical-align: top\">IND</td>\n",
       "        <td style=\"padding-left: 1em; padding-right: 1em; text-align: center; vertical-align: top\">16</td>\n",
       "        <td style=\"padding-left: 1em; padding-right: 1em; text-align: center; vertical-align: top\">Mumbai</td>\n",
       "        <td style=\"padding-left: 1em; padding-right: 1em; text-align: center; vertical-align: top\">Mumbai</td>\n",
       "        <td style=\"padding-left: 1em; padding-right: 1em; text-align: center; vertical-align: top\">1</td>\n",
       "        <td style=\"padding-left: 1em; padding-right: 1em; text-align: center; vertical-align: top\"></td>\n",
       "    </tr>\n",
       "    <tr>\n",
       "        <td style=\"padding-left: 1em; padding-right: 1em; text-align: center; vertical-align: top\">operating</td>\n",
       "        <td style=\"padding-left: 1em; padding-right: 1em; text-align: center; vertical-align: top\">USA</td>\n",
       "        <td style=\"padding-left: 1em; padding-right: 1em; text-align: center; vertical-align: top\">DE</td>\n",
       "        <td style=\"padding-left: 1em; padding-right: 1em; text-align: center; vertical-align: top\">DE - Other</td>\n",
       "        <td style=\"padding-left: 1em; padding-right: 1em; text-align: center; vertical-align: top\">Delaware City</td>\n",
       "        <td style=\"padding-left: 1em; padding-right: 1em; text-align: center; vertical-align: top\">2</td>\n",
       "        <td style=\"padding-left: 1em; padding-right: 1em; text-align: center; vertical-align: top\">2014-09-04</td>\n",
       "    </tr>\n",
       "    <tr>\n",
       "        <td style=\"padding-left: 1em; padding-right: 1em; text-align: center; vertical-align: top\">operating</td>\n",
       "        <td style=\"padding-left: 1em; padding-right: 1em; text-align: center; vertical-align: top\"></td>\n",
       "        <td style=\"padding-left: 1em; padding-right: 1em; text-align: center; vertical-align: top\"></td>\n",
       "        <td style=\"padding-left: 1em; padding-right: 1em; text-align: center; vertical-align: top\"></td>\n",
       "        <td style=\"padding-left: 1em; padding-right: 1em; text-align: center; vertical-align: top\"></td>\n",
       "        <td style=\"padding-left: 1em; padding-right: 1em; text-align: center; vertical-align: top\">1</td>\n",
       "        <td style=\"padding-left: 1em; padding-right: 1em; text-align: center; vertical-align: top\"></td>\n",
       "    </tr>\n",
       "    <tr>\n",
       "        <td style=\"padding-left: 1em; padding-right: 1em; text-align: center; vertical-align: top\">operating</td>\n",
       "        <td style=\"padding-left: 1em; padding-right: 1em; text-align: center; vertical-align: top\">CHN</td>\n",
       "        <td style=\"padding-left: 1em; padding-right: 1em; text-align: center; vertical-align: top\">22</td>\n",
       "        <td style=\"padding-left: 1em; padding-right: 1em; text-align: center; vertical-align: top\">Beijing</td>\n",
       "        <td style=\"padding-left: 1em; padding-right: 1em; text-align: center; vertical-align: top\">Beijing</td>\n",
       "        <td style=\"padding-left: 1em; padding-right: 1em; text-align: center; vertical-align: top\">1</td>\n",
       "        <td style=\"padding-left: 1em; padding-right: 1em; text-align: center; vertical-align: top\">2007-01-01</td>\n",
       "    </tr>\n",
       "    <tr>\n",
       "        <td style=\"padding-left: 1em; padding-right: 1em; text-align: center; vertical-align: top\">operating</td>\n",
       "        <td style=\"padding-left: 1em; padding-right: 1em; text-align: center; vertical-align: top\">USA</td>\n",
       "        <td style=\"padding-left: 1em; padding-right: 1em; text-align: center; vertical-align: top\">IL</td>\n",
       "        <td style=\"padding-left: 1em; padding-right: 1em; text-align: center; vertical-align: top\">Springfield, Illinois</td>\n",
       "        <td style=\"padding-left: 1em; padding-right: 1em; text-align: center; vertical-align: top\">Champaign</td>\n",
       "        <td style=\"padding-left: 1em; padding-right: 1em; text-align: center; vertical-align: top\">1</td>\n",
       "        <td style=\"padding-left: 1em; padding-right: 1em; text-align: center; vertical-align: top\">2010-01-01</td>\n",
       "    </tr>\n",
       "    <tr>\n",
       "        <td style=\"padding-left: 1em; padding-right: 1em; text-align: center; vertical-align: top\">operating</td>\n",
       "        <td style=\"padding-left: 1em; padding-right: 1em; text-align: center; vertical-align: top\">HKG</td>\n",
       "        <td style=\"padding-left: 1em; padding-right: 1em; text-align: center; vertical-align: top\"></td>\n",
       "        <td style=\"padding-left: 1em; padding-right: 1em; text-align: center; vertical-align: top\">Hong Kong</td>\n",
       "        <td style=\"padding-left: 1em; padding-right: 1em; text-align: center; vertical-align: top\">Hong Kong</td>\n",
       "        <td style=\"padding-left: 1em; padding-right: 1em; text-align: center; vertical-align: top\">1</td>\n",
       "        <td style=\"padding-left: 1em; padding-right: 1em; text-align: center; vertical-align: top\"></td>\n",
       "    </tr>\n",
       "    <tr>\n",
       "        <td style=\"padding-left: 1em; padding-right: 1em; text-align: center; vertical-align: top\">operating</td>\n",
       "        <td style=\"padding-left: 1em; padding-right: 1em; text-align: center; vertical-align: top\">CAN</td>\n",
       "        <td style=\"padding-left: 1em; padding-right: 1em; text-align: center; vertical-align: top\">BC</td>\n",
       "        <td style=\"padding-left: 1em; padding-right: 1em; text-align: center; vertical-align: top\">Vancouver</td>\n",
       "        <td style=\"padding-left: 1em; padding-right: 1em; text-align: center; vertical-align: top\">Vancouver</td>\n",
       "        <td style=\"padding-left: 1em; padding-right: 1em; text-align: center; vertical-align: top\">2</td>\n",
       "        <td style=\"padding-left: 1em; padding-right: 1em; text-align: center; vertical-align: top\">1997-01-01</td>\n",
       "    </tr>\n",
       "    <tr>\n",
       "        <td style=\"padding-left: 1em; padding-right: 1em; text-align: center; vertical-align: top\">operating</td>\n",
       "        <td style=\"padding-left: 1em; padding-right: 1em; text-align: center; vertical-align: top\">USA</td>\n",
       "        <td style=\"padding-left: 1em; padding-right: 1em; text-align: center; vertical-align: top\">CA</td>\n",
       "        <td style=\"padding-left: 1em; padding-right: 1em; text-align: center; vertical-align: top\">SF Bay Area</td>\n",
       "        <td style=\"padding-left: 1em; padding-right: 1em; text-align: center; vertical-align: top\">Mountain View</td>\n",
       "        <td style=\"padding-left: 1em; padding-right: 1em; text-align: center; vertical-align: top\">4</td>\n",
       "        <td style=\"padding-left: 1em; padding-right: 1em; text-align: center; vertical-align: top\">2011-01-01</td>\n",
       "    </tr>\n",
       "    <tr>\n",
       "        <td style=\"padding-left: 1em; padding-right: 1em; text-align: center; vertical-align: top\">operating</td>\n",
       "        <td style=\"padding-left: 1em; padding-right: 1em; text-align: center; vertical-align: top\">USA</td>\n",
       "        <td style=\"padding-left: 1em; padding-right: 1em; text-align: center; vertical-align: top\">CA</td>\n",
       "        <td style=\"padding-left: 1em; padding-right: 1em; text-align: center; vertical-align: top\">SF Bay Area</td>\n",
       "        <td style=\"padding-left: 1em; padding-right: 1em; text-align: center; vertical-align: top\">San Francisco</td>\n",
       "        <td style=\"padding-left: 1em; padding-right: 1em; text-align: center; vertical-align: top\">3</td>\n",
       "        <td style=\"padding-left: 1em; padding-right: 1em; text-align: center; vertical-align: top\">2011-08-01</td>\n",
       "    </tr>\n",
       "    <tr>\n",
       "        <td style=\"padding-left: 1em; padding-right: 1em; text-align: center; vertical-align: top\">operating</td>\n",
       "        <td style=\"padding-left: 1em; padding-right: 1em; text-align: center; vertical-align: top\">CHL</td>\n",
       "        <td style=\"padding-left: 1em; padding-right: 1em; text-align: center; vertical-align: top\">12</td>\n",
       "        <td style=\"padding-left: 1em; padding-right: 1em; text-align: center; vertical-align: top\">Santiago</td>\n",
       "        <td style=\"padding-left: 1em; padding-right: 1em; text-align: center; vertical-align: top\">Las Condes</td>\n",
       "        <td style=\"padding-left: 1em; padding-right: 1em; text-align: center; vertical-align: top\">1</td>\n",
       "        <td style=\"padding-left: 1em; padding-right: 1em; text-align: center; vertical-align: top\">2012-01-01</td>\n",
       "    </tr>\n",
       "</table>\n",
       "<table frame=\"box\" rules=\"cols\">\n",
       "    <tr>\n",
       "        <th style=\"padding-left: 1em; padding-right: 1em; text-align: center\">first_funding_at</th>\n",
       "        <th style=\"padding-left: 1em; padding-right: 1em; text-align: center\">last_funding_at</th>\n",
       "    </tr>\n",
       "    <tr>\n",
       "        <td style=\"padding-left: 1em; padding-right: 1em; text-align: center; vertical-align: top\">2015-01-05</td>\n",
       "        <td style=\"padding-left: 1em; padding-right: 1em; text-align: center; vertical-align: top\">2015-01-05</td>\n",
       "    </tr>\n",
       "    <tr>\n",
       "        <td style=\"padding-left: 1em; padding-right: 1em; text-align: center; vertical-align: top\">2014-03-01</td>\n",
       "        <td style=\"padding-left: 1em; padding-right: 1em; text-align: center; vertical-align: top\">2014-10-14</td>\n",
       "    </tr>\n",
       "    <tr>\n",
       "        <td style=\"padding-left: 1em; padding-right: 1em; text-align: center; vertical-align: top\">2014-01-30</td>\n",
       "        <td style=\"padding-left: 1em; padding-right: 1em; text-align: center; vertical-align: top\">2014-01-30</td>\n",
       "    </tr>\n",
       "    <tr>\n",
       "        <td style=\"padding-left: 1em; padding-right: 1em; text-align: center; vertical-align: top\">2008-03-19</td>\n",
       "        <td style=\"padding-left: 1em; padding-right: 1em; text-align: center; vertical-align: top\">2008-03-19</td>\n",
       "    </tr>\n",
       "    <tr>\n",
       "        <td style=\"padding-left: 1em; padding-right: 1em; text-align: center; vertical-align: top\">2014-07-24</td>\n",
       "        <td style=\"padding-left: 1em; padding-right: 1em; text-align: center; vertical-align: top\">2014-07-24</td>\n",
       "    </tr>\n",
       "    <tr>\n",
       "        <td style=\"padding-left: 1em; padding-right: 1em; text-align: center; vertical-align: top\">2014-07-01</td>\n",
       "        <td style=\"padding-left: 1em; padding-right: 1em; text-align: center; vertical-align: top\">2014-07-01</td>\n",
       "    </tr>\n",
       "    <tr>\n",
       "        <td style=\"padding-left: 1em; padding-right: 1em; text-align: center; vertical-align: top\">2009-09-11</td>\n",
       "        <td style=\"padding-left: 1em; padding-right: 1em; text-align: center; vertical-align: top\">2009-12-21</td>\n",
       "    </tr>\n",
       "    <tr>\n",
       "        <td style=\"padding-left: 1em; padding-right: 1em; text-align: center; vertical-align: top\">2013-01-03</td>\n",
       "        <td style=\"padding-left: 1em; padding-right: 1em; text-align: center; vertical-align: top\">2015-11-09</td>\n",
       "    </tr>\n",
       "    <tr>\n",
       "        <td style=\"padding-left: 1em; padding-right: 1em; text-align: center; vertical-align: top\">2011-07-20</td>\n",
       "        <td style=\"padding-left: 1em; padding-right: 1em; text-align: center; vertical-align: top\">2014-02-05</td>\n",
       "    </tr>\n",
       "    <tr>\n",
       "        <td style=\"padding-left: 1em; padding-right: 1em; text-align: center; vertical-align: top\">2013-02-18</td>\n",
       "        <td style=\"padding-left: 1em; padding-right: 1em; text-align: center; vertical-align: top\">2013-02-18</td>\n",
       "    </tr>\n",
       "</table>\n",
       "[10 rows x 14 columns]<br/>\n",
       "</div>"
      ],
      "text/plain": [
       "Columns:\n",
       "\tpermalink\tstr\n",
       "\tname\tstr\n",
       "\thomepage_url\tstr\n",
       "\tcategory_list\tstr\n",
       "\tfunding_total_usd\tstr\n",
       "\tstatus\tstr\n",
       "\tcountry_code\tstr\n",
       "\tstate_code\tstr\n",
       "\tregion\tstr\n",
       "\tcity\tstr\n",
       "\tfunding_rounds\tint\n",
       "\tfounded_at\tstr\n",
       "\tfirst_funding_at\tstr\n",
       "\tlast_funding_at\tstr\n",
       "\n",
       "Rows: 10\n",
       "\n",
       "Data:\n",
       "+--------------------------------+------------------------+\n",
       "|           permalink            |          name          |\n",
       "+--------------------------------+------------------------+\n",
       "|      /organization/-fame       |         #fame          |\n",
       "|     /organization/-qounter     |        :Qounter        |\n",
       "| /organization/-the-one-of-...  | (THE) ONE of THEM,Inc. |\n",
       "|     /organization/0-6-com      |        0-6.com         |\n",
       "| /organization/004-technologies |    004 Technologies    |\n",
       "| /organization/01games-tech...  |   01Games Technology   |\n",
       "| /organization/0ndine-biome...  | Ondine Biomedical Inc. |\n",
       "|      /organization/0xdata      |         H2O.ai         |\n",
       "|        /organization/1         |        One Inc.        |\n",
       "|   /organization/1-2-3-listo    |      1,2,3 Listo       |\n",
       "+--------------------------------+------------------------+\n",
       "+-------------------------------+-------------------------------+-------------------+\n",
       "|          homepage_url         |         category_list         | funding_total_usd |\n",
       "+-------------------------------+-------------------------------+-------------------+\n",
       "|       http://livfame.com      |             Media             |      10000000     |\n",
       "|     http://www.qounter.com    | Application Platforms|Real... |       700000      |\n",
       "|      http://oneofthem.jp      |       Apps|Games|Mobile       |      3406878      |\n",
       "|       http://www.0-6.com      |          Curated Web          |      2000000      |\n",
       "| http://004gmbh.de/en/004-i... |            Software           |         -         |\n",
       "|     http://www.01games.hk/    |             Games             |       41250       |\n",
       "|      http://ondinebio.com     |         Biotechnology         |       762851      |\n",
       "|         http://h2o.ai/        |           Analytics           |      33600000     |\n",
       "|       http://whatis1.com      |             Mobile            |      1150050      |\n",
       "|    http://www.123listo.com    |           E-Commerce          |       40000       |\n",
       "+-------------------------------+-------------------------------+-------------------+\n",
       "+-----------+--------------+------------+-----------------------+---------------+\n",
       "|   status  | country_code | state_code |         region        |      city     |\n",
       "+-----------+--------------+------------+-----------------------+---------------+\n",
       "| operating |     IND      |     16     |         Mumbai        |     Mumbai    |\n",
       "| operating |     USA      |     DE     |       DE - Other      | Delaware City |\n",
       "| operating |              |            |                       |               |\n",
       "| operating |     CHN      |     22     |        Beijing        |    Beijing    |\n",
       "| operating |     USA      |     IL     | Springfield, Illinois |   Champaign   |\n",
       "| operating |     HKG      |            |       Hong Kong       |   Hong Kong   |\n",
       "| operating |     CAN      |     BC     |       Vancouver       |   Vancouver   |\n",
       "| operating |     USA      |     CA     |      SF Bay Area      | Mountain View |\n",
       "| operating |     USA      |     CA     |      SF Bay Area      | San Francisco |\n",
       "| operating |     CHL      |     12     |        Santiago       |   Las Condes  |\n",
       "+-----------+--------------+------------+-----------------------+---------------+\n",
       "+----------------+------------+------------------+-----------------+\n",
       "| funding_rounds | founded_at | first_funding_at | last_funding_at |\n",
       "+----------------+------------+------------------+-----------------+\n",
       "|       1        |            |    2015-01-05    |    2015-01-05   |\n",
       "|       2        | 2014-09-04 |    2014-03-01    |    2014-10-14   |\n",
       "|       1        |            |    2014-01-30    |    2014-01-30   |\n",
       "|       1        | 2007-01-01 |    2008-03-19    |    2008-03-19   |\n",
       "|       1        | 2010-01-01 |    2014-07-24    |    2014-07-24   |\n",
       "|       1        |            |    2014-07-01    |    2014-07-01   |\n",
       "|       2        | 1997-01-01 |    2009-09-11    |    2009-12-21   |\n",
       "|       4        | 2011-01-01 |    2013-01-03    |    2015-11-09   |\n",
       "|       3        | 2011-08-01 |    2011-07-20    |    2014-02-05   |\n",
       "|       1        | 2012-01-01 |    2013-02-18    |    2013-02-18   |\n",
       "+----------------+------------+------------------+-----------------+\n",
       "[10 rows x 14 columns]"
      ]
     },
     "execution_count": 31,
     "metadata": {},
     "output_type": "execute_result"
    }
   ],
   "source": [
    "companies.head()\n"
   ]
  },
  {
   "cell_type": "code",
   "execution_count": 18,
   "metadata": {
    "collapsed": true
   },
   "outputs": [],
   "source": [
    "biotech_stratups = acquisitions[acquisitions['company_category_list']=='Biotechnology']"
   ]
  },
  {
   "cell_type": "code",
   "execution_count": 19,
   "metadata": {
    "collapsed": false
   },
   "outputs": [
    {
     "name": "stdout",
     "output_type": "stream",
     "text": [
      "Canvas is updated and available in a tab in the default browser.\n"
     ]
    }
   ],
   "source": [
    "biotech_stratups.show()\n"
   ]
  },
  {
   "cell_type": "code",
   "execution_count": 35,
   "metadata": {
    "collapsed": true
   },
   "outputs": [],
   "source": [
    "Roche_acquired = biotech_stratups[biotech_stratups['acquirer_name']=='Roche']"
   ]
  },
  {
   "cell_type": "code",
   "execution_count": 36,
   "metadata": {
    "collapsed": false
   },
   "outputs": [
    {
     "data": {
      "application/javascript": [
       "$(\"head\").append($(\"<link/>\").attr({\n",
       "  rel:  \"stylesheet\",\n",
       "  type: \"text/css\",\n",
       "  href: \"//cdnjs.cloudflare.com/ajax/libs/font-awesome/4.1.0/css/font-awesome.min.css\"\n",
       "}));\n",
       "$(\"head\").append($(\"<link/>\").attr({\n",
       "  rel:  \"stylesheet\",\n",
       "  type: \"text/css\",\n",
       "  href: \"//dato.com/files/canvas/1.10/css/canvas.css\"\n",
       "}));\n",
       "\n",
       "            (function(){\n",
       "\n",
       "                var e = null;\n",
       "                if (typeof element == 'undefined') {\n",
       "                    var scripts = document.getElementsByTagName('script');\n",
       "                    var thisScriptTag = scripts[scripts.length-1];\n",
       "                    var parentDiv = thisScriptTag.parentNode;\n",
       "                    e = document.createElement('div');\n",
       "                    parentDiv.appendChild(e);\n",
       "                } else {\n",
       "                    e = element[0];\n",
       "                }\n",
       "\n",
       "                if (typeof requirejs !== 'undefined') {\n",
       "                    // disable load timeout; ipython_app.js is large and can take a while to load.\n",
       "                    requirejs.config({waitSeconds: 0});\n",
       "                }\n",
       "\n",
       "                require(['//dato.com/files/canvas/1.10/js/ipython_app.js'], function(IPythonApp){\n",
       "                    var app = new IPythonApp();\n",
       "                    app.attachView('sframe','Summary', {\"ipython\": true, \"sketch\": {\"company_region\": {\"complete\": true, \"numeric\": false, \"num_unique\": 8, \"num_undefined\": 0, \"progress\": 1.0, \"frequent_items\": {\"Toronto\": {\"frequency\": 1, \"value\": \"Toronto\"}, \"\": {\"frequency\": 2, \"value\": \"\"}, \"Madison\": {\"frequency\": 1, \"value\": \"Madison\"}, \"Indianapolis\": {\"frequency\": 1, \"value\": \"Indianapolis\"}, \"Boston\": {\"frequency\": 1, \"value\": \"Boston\"}, \"London\": {\"frequency\": 1, \"value\": \"London\"}, \"H\\ufffd\\ufffd\\ufffd\\ufffdrsholm\": {\"frequency\": 1, \"value\": \"H\\u00c3\\u00b8rsholm\"}, \"SF Bay Area\": {\"frequency\": 5, \"value\": \"SF Bay Area\"}}, \"size\": 13}, \"acquired_month\": {\"complete\": true, \"numeric\": false, \"num_unique\": 11, \"num_undefined\": 0, \"progress\": 1.0, \"frequent_items\": {\"2014-08\": {\"frequency\": 2, \"value\": \"2014-08\"}, \"2015-01\": {\"frequency\": 1, \"value\": \"2015-01\"}, \"2014-04\": {\"frequency\": 1, \"value\": \"2014-04\"}, \"2014-06\": {\"frequency\": 1, \"value\": \"2014-06\"}, \"2008-04\": {\"frequency\": 1, \"value\": \"2008-04\"}, \"2007-04\": {\"frequency\": 1, \"value\": \"2007-04\"}, \"2015-08\": {\"frequency\": 1, \"value\": \"2015-08\"}, \"2008-07\": {\"frequency\": 2, \"value\": \"2008-07\"}, \"2009-03\": {\"frequency\": 1, \"value\": \"2009-03\"}, \"2015-10\": {\"frequency\": 1, \"value\": \"2015-10\"}, \"2010-12\": {\"frequency\": 1, \"value\": \"2010-12\"}}, \"size\": 13}, \"acquirer_permalink\": {\"complete\": true, \"numeric\": false, \"num_unique\": 1, \"num_undefined\": 0, \"progress\": 1.0, \"frequent_items\": {\"/organization/roche\": {\"frequency\": 13, \"value\": \"/organization/roch ...\"}}, \"size\": 13}, \"company_category_list\": {\"complete\": true, \"numeric\": false, \"num_unique\": 1, \"num_undefined\": 0, \"progress\": 1.0, \"frequent_items\": {\"Biotechnology\": {\"frequency\": 13, \"value\": \"Biotechnology\"}}, \"size\": 13}, \"company_city\": {\"complete\": true, \"numeric\": false, \"num_unique\": 12, \"num_undefined\": 0, \"progress\": 1.0, \"frequent_items\": {\"Toronto\": {\"frequency\": 1, \"value\": \"Toronto\"}, \"\": {\"frequency\": 2, \"value\": \"\"}, \"Madison\": {\"frequency\": 1, \"value\": \"Madison\"}, \"Los Gatos\": {\"frequency\": 1, \"value\": \"Los Gatos\"}, \"Brisbane\": {\"frequency\": 1, \"value\": \"Brisbane\"}, \"Mountain View\": {\"frequency\": 1, \"value\": \"Mountain View\"}, \"Marlborough\": {\"frequency\": 1, \"value\": \"Marlborough\"}, \"H\\ufffd\\ufffdrsholm\": {\"frequency\": 1, \"value\": \"H\\u00f8rsholm\"}, \"Slough\": {\"frequency\": 1, \"value\": \"Slough\"}, \"Berkeley\": {\"frequency\": 1, \"value\": \"Berkeley\"}, \"South San Francisco\": {\"frequency\": 1, \"value\": \"South San ...\"}, \"Carmel\": {\"frequency\": 1, \"value\": \"Carmel\"}}, \"size\": 13}, \"price_currency_code\": {\"complete\": true, \"numeric\": false, \"num_unique\": 1, \"num_undefined\": 0, \"progress\": 1.0, \"frequent_items\": {\"USD\": {\"frequency\": 13, \"value\": \"USD\"}}, \"size\": 13}, \"acquired_at\": {\"complete\": true, \"numeric\": false, \"num_unique\": 12, \"num_undefined\": 0, \"progress\": 1.0, \"frequent_items\": {\"2015-08-13\": {\"frequency\": 1, \"value\": \"2015-08-13\"}, \"2008-04-15\": {\"frequency\": 1, \"value\": \"2008-04-15\"}, \"2015-10-07\": {\"frequency\": 1, \"value\": \"2015-10-07\"}, \"2007-04-02\": {\"frequency\": 1, \"value\": \"2007-04-02\"}, \"2014-08-24\": {\"frequency\": 1, \"value\": \"2014-08-24\"}, \"2014-08-04\": {\"frequency\": 1, \"value\": \"2014-08-04\"}, \"2010-12-30\": {\"frequency\": 1, \"value\": \"2010-12-30\"}, \"2014-04-06\": {\"frequency\": 1, \"value\": \"2014-04-06\"}, \"2009-03-26\": {\"frequency\": 1, \"value\": \"2009-03-26\"}, \"2014-06-02\": {\"frequency\": 1, \"value\": \"2014-06-02\"}, \"2015-01-16\": {\"frequency\": 1, \"value\": \"2015-01-16\"}, \"2008-07-22\": {\"frequency\": 2, \"value\": \"2008-07-22\"}}, \"size\": 13}, \"acquirer_country_code\": {\"complete\": true, \"numeric\": false, \"num_unique\": 1, \"num_undefined\": 0, \"progress\": 1.0, \"frequent_items\": {\"CHE\": {\"frequency\": 13, \"value\": \"CHE\"}}, \"size\": 13}, \"price_amount\": {\"std\": 2305297291.561186, \"complete\": true, \"min\": 56500000.0, \"max\": 8300000000.0, \"quantile\": [56500000.0, 56500000.0, 56500000.0, 56500000.0, 56500000.0, 56500000.0, 56500000.0, 56500000.0, 56500000.0, 56500000.0, 125000000.0, 125000000.0, 125000000.0, 125000000.0, 125000000.0, 125000000.0, 125000000.0, 125000000.0, 125000000.0, 125000000.0, 125000000.0, 125000000.0, 125000000.0, 125000000.0, 125000000.0, 125000000.0, 125000000.0, 125000000.0, 142700000.0, 142700000.0, 142700000.0, 142700000.0, 142700000.0, 142700000.0, 142700000.0, 142700000.0, 142700000.0, 160000000.0, 160000000.0, 160000000.0, 160000000.0, 160000000.0, 160000000.0, 160000000.0, 160000000.0, 160000000.0, 425000000.0, 425000000.0, 425000000.0, 425000000.0, 425000000.0, 425000000.0, 425000000.0, 425000000.0, 425000000.0, 450000000.0, 450000000.0, 450000000.0, 450000000.0, 450000000.0, 450000000.0, 450000000.0, 450000000.0, 450000000.0, 450000000.0, 450000000.0, 450000000.0, 450000000.0, 450000000.0, 450000000.0, 450000000.0, 450000000.0, 450000000.0, 546000000.0, 546000000.0, 546000000.0, 546000000.0, 546000000.0, 546000000.0, 546000000.0, 546000000.0, 546000000.0, 580000000.0, 580000000.0, 580000000.0, 580000000.0, 580000000.0, 580000000.0, 580000000.0, 580000000.0, 580000000.0, 8300000000.0, 8300000000.0, 8300000000.0, 8300000000.0, 8300000000.0, 8300000000.0, 8300000000.0, 8300000000.0, 8300000000.0, 8300000000.0], \"median\": 425000000.0, \"numeric\": true, \"num_unique\": 9, \"num_undefined\": 2, \"var\": 5.31439560247934e+18, \"progress\": 1.0, \"size\": 13, \"frequent_items\": {\"580000000\": {\"frequency\": 1, \"value\": 580000000}, \"142700000\": {\"frequency\": 1, \"value\": 142700000}, \"160000000\": {\"frequency\": 1, \"value\": 160000000}, \"425000000\": {\"frequency\": 1, \"value\": 425000000}, \"450000000\": {\"frequency\": 2, \"value\": 450000000}, \"125000000\": {\"frequency\": 2, \"value\": 125000000}, \"546000000\": {\"frequency\": 1, \"value\": 546000000}, \"8300000000\": {\"frequency\": 1, \"value\": 8300000000}, \"56500000\": {\"frequency\": 1, \"value\": 56500000}}, \"mean\": 1032745454.5454546}, \"acquirer_state_code\": {\"complete\": true, \"numeric\": false, \"num_unique\": 1, \"num_undefined\": 0, \"progress\": 1.0, \"frequent_items\": {\"4\": {\"frequency\": 13, \"value\": \"4\"}}, \"size\": 13}, \"acquirer_name\": {\"complete\": true, \"numeric\": false, \"num_unique\": 1, \"num_undefined\": 0, \"progress\": 1.0, \"frequent_items\": {\"Roche\": {\"frequency\": 13, \"value\": \"Roche\"}}, \"size\": 13}, \"company_permalink\": {\"complete\": true, \"numeric\": false, \"num_unique\": 13, \"num_undefined\": 0, \"progress\": 1.0, \"frequent_items\": {\"/organization/genia-technologies\": {\"frequency\": 1, \"value\": \"/organization ...\"}, \"/organization/intermune\": {\"frequency\": 1, \"value\": \"/organization/inte ...\"}, \"/organization/adheron-therapeutics\": {\"frequency\": 1, \"value\": \"/organization ...\"}, \"/organization/piramed\": {\"frequency\": 1, \"value\": \"/organization/pira ...\"}, \"/organization/therapeutic-human-polyclonals\": {\"frequency\": 1, \"value\": \"/organization ...\"}, \"/organization/mirus-bio\": {\"frequency\": 1, \"value\": \"/organization ...\"}, \"/organization/marcadia-biotech\": {\"frequency\": 1, \"value\": \"/organization ...\"}, \"/organization/iquum\": {\"frequency\": 1, \"value\": \"/organization/iquu ...\"}, \"/organization/trophos\": {\"frequency\": 1, \"value\": \"/organization/trop ...\"}, \"/organization/arius-research\": {\"frequency\": 1, \"value\": \"/organization ...\"}, \"/organization/genentech\": {\"frequency\": 1, \"value\": \"/organization/gene ...\"}, \"/organization/santaris-pharma\": {\"frequency\": 1, \"value\": \"/organization ...\"}, \"/organization/geneweave-biosciences\": {\"frequency\": 1, \"value\": \"/organization ...\"}}, \"size\": 13}, \"acquirer_city\": {\"complete\": true, \"numeric\": false, \"num_unique\": 1, \"num_undefined\": 0, \"progress\": 1.0, \"frequent_items\": {\"Basel\": {\"frequency\": 13, \"value\": \"Basel\"}}, \"size\": 13}, \"company_country_code\": {\"complete\": true, \"numeric\": false, \"num_unique\": 5, \"num_undefined\": 0, \"progress\": 1.0, \"frequent_items\": {\"\": {\"frequency\": 2, \"value\": \"\"}, \"DNK\": {\"frequency\": 1, \"value\": \"DNK\"}, \"GBR\": {\"frequency\": 1, \"value\": \"GBR\"}, \"CAN\": {\"frequency\": 1, \"value\": \"CAN\"}, \"USA\": {\"frequency\": 8, \"value\": \"USA\"}}, \"size\": 13}, \"acquirer_region\": {\"complete\": true, \"numeric\": false, \"num_unique\": 1, \"num_undefined\": 0, \"progress\": 1.0, \"frequent_items\": {\"Basel\": {\"frequency\": 13, \"value\": \"Basel\"}}, \"size\": 13}, \"company_state_code\": {\"complete\": true, \"numeric\": false, \"num_unique\": 8, \"num_undefined\": 0, \"progress\": 1.0, \"frequent_items\": {\"\": {\"frequency\": 2, \"value\": \"\"}, \"ON\": {\"frequency\": 1, \"value\": \"ON\"}, \"MA\": {\"frequency\": 1, \"value\": \"MA\"}, \"17\": {\"frequency\": 1, \"value\": \"17\"}, \"CA\": {\"frequency\": 5, \"value\": \"CA\"}, \"WI\": {\"frequency\": 1, \"value\": \"WI\"}, \"IN\": {\"frequency\": 1, \"value\": \"IN\"}, \"B9\": {\"frequency\": 1, \"value\": \"B9\"}}, \"size\": 13}, \"acquirer_category_list\": {\"complete\": true, \"numeric\": false, \"num_unique\": 1, \"num_undefined\": 0, \"progress\": 1.0, \"frequent_items\": {\"Biotechnology|Health Diagnostics\": {\"frequency\": 13, \"value\": \"Biotechnology|Heal ...\"}}, \"size\": 13}, \"company_name\": {\"complete\": true, \"numeric\": false, \"num_unique\": 13, \"num_undefined\": 0, \"progress\": 1.0, \"frequent_items\": {\"Marcadia Biotech\": {\"frequency\": 1, \"value\": \"Marcadia Biotech\"}, \"Trophos\": {\"frequency\": 1, \"value\": \"Trophos\"}, \"Adheron Therapeutics\": {\"frequency\": 1, \"value\": \"Adheron ...\"}, \"Arius Research\": {\"frequency\": 1, \"value\": \"Arius Research\"}, \"Genia Technologies\": {\"frequency\": 1, \"value\": \"Genia Technologies\"}, \"Santaris Pharma\": {\"frequency\": 1, \"value\": \"Santaris Pharma\"}, \"Genentech\": {\"frequency\": 1, \"value\": \"Genentech\"}, \"IQuum\": {\"frequency\": 1, \"value\": \"IQuum\"}, \"InterMune\": {\"frequency\": 1, \"value\": \"InterMune\"}, \"Piramed\": {\"frequency\": 1, \"value\": \"Piramed\"}, \"Therapeutic Human Polyclonals\": {\"frequency\": 1, \"value\": \"Therapeutic Human ...\"}, \"Mirus Bio\": {\"frequency\": 1, \"value\": \"Mirus Bio\"}, \"GeneWEAVE\": {\"frequency\": 1, \"value\": \"GeneWEAVE\"}}, \"size\": 13}}, \"selected_variable\": {\"name\": [\"Roche_acquired\"], \"descriptives\": {\"rows\": 13, \"columns\": 18}, \"view_component\": \"Summary\", \"view_file\": \"sframe\", \"view_params\": {\"y\": null, \"x\": null, \"columns\": [\"company_permalink\", \"company_name\", \"company_category_list\", \"company_country_code\", \"company_state_code\", \"company_region\", \"company_city\", \"acquirer_permalink\", \"acquirer_name\", \"acquirer_category_list\", \"acquirer_country_code\", \"acquirer_state_code\", \"acquirer_region\", \"acquirer_city\", \"acquired_at\", \"acquired_month\", \"price_amount\", \"price_currency_code\"], \"view\": null}, \"view_components\": [\"Summary\", \"Table\", \"Bar Chart\", \"BoxWhisker Plot\", \"Line Chart\", \"Scatter Plot\", \"Heat Map\", \"Plots\"], \"type\": \"SFrame\", \"columns\": [{\"dtype\": \"str\", \"name\": \"company_permalink\"}, {\"dtype\": \"str\", \"name\": \"company_name\"}, {\"dtype\": \"str\", \"name\": \"company_category_list\"}, {\"dtype\": \"str\", \"name\": \"company_country_code\"}, {\"dtype\": \"str\", \"name\": \"company_state_code\"}, {\"dtype\": \"str\", \"name\": \"company_region\"}, {\"dtype\": \"str\", \"name\": \"company_city\"}, {\"dtype\": \"str\", \"name\": \"acquirer_permalink\"}, {\"dtype\": \"str\", \"name\": \"acquirer_name\"}, {\"dtype\": \"str\", \"name\": \"acquirer_category_list\"}, {\"dtype\": \"str\", \"name\": \"acquirer_country_code\"}, {\"dtype\": \"str\", \"name\": \"acquirer_state_code\"}, {\"dtype\": \"str\", \"name\": \"acquirer_region\"}, {\"dtype\": \"str\", \"name\": \"acquirer_city\"}, {\"dtype\": \"str\", \"name\": \"acquired_at\"}, {\"dtype\": \"str\", \"name\": \"acquired_month\"}, {\"dtype\": \"int\", \"name\": \"price_amount\"}, {\"dtype\": \"str\", \"name\": \"price_currency_code\"}], \"column_identifiers\": [\"company_region\", \"acquired_month\", \"acquirer_permalink\", \"company_category_list\", \"company_city\", \"price_currency_code\", \"acquired_at\", \"acquirer_country_code\", \"price_amount\", \"acquirer_state_code\", \"acquirer_name\", \"company_permalink\", \"acquirer_city\", \"company_country_code\", \"acquirer_region\", \"company_state_code\", \"acquirer_category_list\", \"company_name\"]}, \"columns\": [{\"dtype\": \"str\", \"name\": \"company_permalink\"}, {\"dtype\": \"str\", \"name\": \"company_name\"}, {\"dtype\": \"str\", \"name\": \"company_category_list\"}, {\"dtype\": \"str\", \"name\": \"company_country_code\"}, {\"dtype\": \"str\", \"name\": \"company_state_code\"}, {\"dtype\": \"str\", \"name\": \"company_region\"}, {\"dtype\": \"str\", \"name\": \"company_city\"}, {\"dtype\": \"str\", \"name\": \"acquirer_permalink\"}, {\"dtype\": \"str\", \"name\": \"acquirer_name\"}, {\"dtype\": \"str\", \"name\": \"acquirer_category_list\"}, {\"dtype\": \"str\", \"name\": \"acquirer_country_code\"}, {\"dtype\": \"str\", \"name\": \"acquirer_state_code\"}, {\"dtype\": \"str\", \"name\": \"acquirer_region\"}, {\"dtype\": \"str\", \"name\": \"acquirer_city\"}, {\"dtype\": \"str\", \"name\": \"acquired_at\"}, {\"dtype\": \"str\", \"name\": \"acquired_month\"}, {\"dtype\": \"int\", \"name\": \"price_amount\"}, {\"dtype\": \"str\", \"name\": \"price_currency_code\"}]}, e);\n",
       "                });\n",
       "            })();\n",
       "        "
      ]
     },
     "metadata": {},
     "output_type": "display_data"
    }
   ],
   "source": [
    "Roche_acquired.show()"
   ]
  },
  {
   "cell_type": "code",
   "execution_count": 37,
   "metadata": {
    "collapsed": true
   },
   "outputs": [],
   "source": [
    "train, test = acquisitions.random_split(0.95)"
   ]
  },
  {
   "cell_type": "code",
   "execution_count": 45,
   "metadata": {
    "collapsed": false
   },
   "outputs": [
    {
     "data": {
      "text/html": [
       "<pre>Indexing complete. Found 389 unique items.</pre>"
      ],
      "text/plain": [
       "Indexing complete. Found 389 unique items."
      ]
     },
     "metadata": {},
     "output_type": "display_data"
    },
    {
     "data": {
      "text/html": [
       "<pre>Preprocessing complete. Found 368 unique transactions.</pre>"
      ],
      "text/plain": [
       "Preprocessing complete. Found 368 unique transactions."
      ]
     },
     "metadata": {},
     "output_type": "display_data"
    },
    {
     "data": {
      "text/html": [
       "<pre>Building frequent pattern tree.</pre>"
      ],
      "text/plain": [
       "Building frequent pattern tree."
      ]
     },
     "metadata": {},
     "output_type": "display_data"
    },
    {
     "data": {
      "text/html": [
       "<pre>+-----------+----------------+------------+----------------------+------------------+</pre>"
      ],
      "text/plain": [
       "+-----------+----------------+------------+----------------------+------------------+"
      ]
     },
     "metadata": {},
     "output_type": "display_data"
    },
    {
     "data": {
      "text/html": [
       "<pre>| Iteration | Num. Patterns  | Support    | Current Min Support  | Elapsed Time     |</pre>"
      ],
      "text/plain": [
       "| Iteration | Num. Patterns  | Support    | Current Min Support  | Elapsed Time     |"
      ]
     },
     "metadata": {},
     "output_type": "display_data"
    },
    {
     "data": {
      "text/html": [
       "<pre>+-----------+----------------+------------+----------------------+------------------+</pre>"
      ],
      "text/plain": [
       "+-----------+----------------+------------+----------------------+------------------+"
      ]
     },
     "metadata": {},
     "output_type": "display_data"
    },
    {
     "data": {
      "text/html": [
       "<pre>| 0         | 0              | 13         | 1                    | 39us             |</pre>"
      ],
      "text/plain": [
       "| 0         | 0              | 13         | 1                    | 39us             |"
      ]
     },
     "metadata": {},
     "output_type": "display_data"
    },
    {
     "data": {
      "text/html": [
       "<pre>| 1         | 1              | 8          | 1                    | 53us             |</pre>"
      ],
      "text/plain": [
       "| 1         | 1              | 8          | 1                    | 53us             |"
      ]
     },
     "metadata": {},
     "output_type": "display_data"
    },
    {
     "data": {
      "text/html": [
       "<pre>| 2         | 2              | 7          | 1                    | 62us             |</pre>"
      ],
      "text/plain": [
       "| 2         | 2              | 7          | 1                    | 62us             |"
      ]
     },
     "metadata": {},
     "output_type": "display_data"
    },
    {
     "data": {
      "text/html": [
       "<pre>| 3         | 3              | 7          | 1                    | 71us             |</pre>"
      ],
      "text/plain": [
       "| 3         | 3              | 7          | 1                    | 71us             |"
      ]
     },
     "metadata": {},
     "output_type": "display_data"
    },
    {
     "data": {
      "text/html": [
       "<pre>| 4         | 4              | 6          | 1                    | 80us             |</pre>"
      ],
      "text/plain": [
       "| 4         | 4              | 6          | 1                    | 80us             |"
      ]
     },
     "metadata": {},
     "output_type": "display_data"
    },
    {
     "data": {
      "text/html": [
       "<pre>| 5         | 5              | 6          | 1                    | 89us             |</pre>"
      ],
      "text/plain": [
       "| 5         | 5              | 6          | 1                    | 89us             |"
      ]
     },
     "metadata": {},
     "output_type": "display_data"
    },
    {
     "data": {
      "text/html": [
       "<pre>| 6         | 6              | 4          | 1                    | 109us            |</pre>"
      ],
      "text/plain": [
       "| 6         | 6              | 4          | 1                    | 109us            |"
      ]
     },
     "metadata": {},
     "output_type": "display_data"
    },
    {
     "data": {
      "text/html": [
       "<pre>| 7         | 7              | 4          | 1                    | 119us            |</pre>"
      ],
      "text/plain": [
       "| 7         | 7              | 4          | 1                    | 119us            |"
      ]
     },
     "metadata": {},
     "output_type": "display_data"
    },
    {
     "data": {
      "text/html": [
       "<pre>| 8         | 9              | 4          | 1                    | 132us            |</pre>"
      ],
      "text/plain": [
       "| 8         | 9              | 4          | 1                    | 132us            |"
      ]
     },
     "metadata": {},
     "output_type": "display_data"
    },
    {
     "data": {
      "text/html": [
       "<pre>| 9         | 10             | 4          | 1                    | 141us            |</pre>"
      ],
      "text/plain": [
       "| 9         | 10             | 4          | 1                    | 141us            |"
      ]
     },
     "metadata": {},
     "output_type": "display_data"
    },
    {
     "data": {
      "text/html": [
       "<pre>| 10        | 11             | 4          | 1                    | 150us            |</pre>"
      ],
      "text/plain": [
       "| 10        | 11             | 4          | 1                    | 150us            |"
      ]
     },
     "metadata": {},
     "output_type": "display_data"
    },
    {
     "data": {
      "text/html": [
       "<pre>| 11        | 12             | 4          | 1                    | 159us            |</pre>"
      ],
      "text/plain": [
       "| 11        | 12             | 4          | 1                    | 159us            |"
      ]
     },
     "metadata": {},
     "output_type": "display_data"
    },
    {
     "data": {
      "text/html": [
       "<pre>| 12        | 13             | 4          | 1                    | 167us            |</pre>"
      ],
      "text/plain": [
       "| 12        | 13             | 4          | 1                    | 167us            |"
      ]
     },
     "metadata": {},
     "output_type": "display_data"
    },
    {
     "data": {
      "text/html": [
       "<pre>| 13        | 14             | 4          | 1                    | 175us            |</pre>"
      ],
      "text/plain": [
       "| 13        | 14             | 4          | 1                    | 175us            |"
      ]
     },
     "metadata": {},
     "output_type": "display_data"
    },
    {
     "data": {
      "text/html": [
       "<pre>| 14        | 16             | 4          | 1                    | 188us            |</pre>"
      ],
      "text/plain": [
       "| 14        | 16             | 4          | 1                    | 188us            |"
      ]
     },
     "metadata": {},
     "output_type": "display_data"
    },
    {
     "data": {
      "text/html": [
       "<pre>| 15        | 18             | 4          | 1                    | 210us            |</pre>"
      ],
      "text/plain": [
       "| 15        | 18             | 4          | 1                    | 210us            |"
      ]
     },
     "metadata": {},
     "output_type": "display_data"
    },
    {
     "data": {
      "text/html": [
       "<pre>| 16        | 19             | 3          | 1                    | 219us            |</pre>"
      ],
      "text/plain": [
       "| 16        | 19             | 3          | 1                    | 219us            |"
      ]
     },
     "metadata": {},
     "output_type": "display_data"
    },
    {
     "data": {
      "text/html": [
       "<pre>| 17        | 20             | 3          | 1                    | 246us            |</pre>"
      ],
      "text/plain": [
       "| 17        | 20             | 3          | 1                    | 246us            |"
      ]
     },
     "metadata": {},
     "output_type": "display_data"
    },
    {
     "data": {
      "text/html": [
       "<pre>| 18        | 22             | 3          | 1                    | 287us            |</pre>"
      ],
      "text/plain": [
       "| 18        | 22             | 3          | 1                    | 287us            |"
      ]
     },
     "metadata": {},
     "output_type": "display_data"
    },
    {
     "data": {
      "text/html": [
       "<pre>| 19        | 24             | 3          | 1                    | 337us            |</pre>"
      ],
      "text/plain": [
       "| 19        | 24             | 3          | 1                    | 337us            |"
      ]
     },
     "metadata": {},
     "output_type": "display_data"
    },
    {
     "data": {
      "text/html": [
       "<pre>| 20        | 25             | 3          | 1                    | 346us            |</pre>"
      ],
      "text/plain": [
       "| 20        | 25             | 3          | 1                    | 346us            |"
      ]
     },
     "metadata": {},
     "output_type": "display_data"
    },
    {
     "data": {
      "text/html": [
       "<pre>| 21        | 27             | 3          | 1                    | 358us            |</pre>"
      ],
      "text/plain": [
       "| 21        | 27             | 3          | 1                    | 358us            |"
      ]
     },
     "metadata": {},
     "output_type": "display_data"
    },
    {
     "data": {
      "text/html": [
       "<pre>| 22        | 28             | 3          | 1                    | 367us            |</pre>"
      ],
      "text/plain": [
       "| 22        | 28             | 3          | 1                    | 367us            |"
      ]
     },
     "metadata": {},
     "output_type": "display_data"
    },
    {
     "data": {
      "text/html": [
       "<pre>| 23        | 29             | 3          | 1                    | 375us            |</pre>"
      ],
      "text/plain": [
       "| 23        | 29             | 3          | 1                    | 375us            |"
      ]
     },
     "metadata": {},
     "output_type": "display_data"
    },
    {
     "data": {
      "text/html": [
       "<pre>| 24        | 30             | 3          | 1                    | 437us            |</pre>"
      ],
      "text/plain": [
       "| 24        | 30             | 3          | 1                    | 437us            |"
      ]
     },
     "metadata": {},
     "output_type": "display_data"
    },
    {
     "data": {
      "text/html": [
       "<pre>| 25        | 31             | 3          | 1                    | 520us            |</pre>"
      ],
      "text/plain": [
       "| 25        | 31             | 3          | 1                    | 520us            |"
      ]
     },
     "metadata": {},
     "output_type": "display_data"
    },
    {
     "data": {
      "text/html": [
       "<pre>| 26        | 32             | 3          | 1                    | 529us            |</pre>"
      ],
      "text/plain": [
       "| 26        | 32             | 3          | 1                    | 529us            |"
      ]
     },
     "metadata": {},
     "output_type": "display_data"
    },
    {
     "data": {
      "text/html": [
       "<pre>| 27        | 34             | 3          | 1                    | 555us            |</pre>"
      ],
      "text/plain": [
       "| 27        | 34             | 3          | 1                    | 555us            |"
      ]
     },
     "metadata": {},
     "output_type": "display_data"
    },
    {
     "data": {
      "text/html": [
       "<pre>| 28        | 35             | 3          | 1                    | 589us            |</pre>"
      ],
      "text/plain": [
       "| 28        | 35             | 3          | 1                    | 589us            |"
      ]
     },
     "metadata": {},
     "output_type": "display_data"
    },
    {
     "data": {
      "text/html": [
       "<pre>| 29        | 36             | 3          | 1                    | 598us            |</pre>"
      ],
      "text/plain": [
       "| 29        | 36             | 3          | 1                    | 598us            |"
      ]
     },
     "metadata": {},
     "output_type": "display_data"
    },
    {
     "data": {
      "text/html": [
       "<pre>| 30        | 37             | 2          | 1                    | 607us            |</pre>"
      ],
      "text/plain": [
       "| 30        | 37             | 2          | 1                    | 607us            |"
      ]
     },
     "metadata": {},
     "output_type": "display_data"
    },
    {
     "data": {
      "text/html": [
       "<pre>| 31        | 39             | 2          | 1                    | 619us            |</pre>"
      ],
      "text/plain": [
       "| 31        | 39             | 2          | 1                    | 619us            |"
      ]
     },
     "metadata": {},
     "output_type": "display_data"
    },
    {
     "data": {
      "text/html": [
       "<pre>| 32        | 40             | 2          | 1                    | 628us            |</pre>"
      ],
      "text/plain": [
       "| 32        | 40             | 2          | 1                    | 628us            |"
      ]
     },
     "metadata": {},
     "output_type": "display_data"
    },
    {
     "data": {
      "text/html": [
       "<pre>| 33        | 41             | 2          | 1                    | 637us            |</pre>"
      ],
      "text/plain": [
       "| 33        | 41             | 2          | 1                    | 637us            |"
      ]
     },
     "metadata": {},
     "output_type": "display_data"
    },
    {
     "data": {
      "text/html": [
       "<pre>| 34        | 42             | 2          | 1                    | 645us            |</pre>"
      ],
      "text/plain": [
       "| 34        | 42             | 2          | 1                    | 645us            |"
      ]
     },
     "metadata": {},
     "output_type": "display_data"
    },
    {
     "data": {
      "text/html": [
       "<pre>| 35        | 43             | 2          | 1                    | 654us            |</pre>"
      ],
      "text/plain": [
       "| 35        | 43             | 2          | 1                    | 654us            |"
      ]
     },
     "metadata": {},
     "output_type": "display_data"
    },
    {
     "data": {
      "text/html": [
       "<pre>| 36        | 44             | 2          | 1                    | 672us            |</pre>"
      ],
      "text/plain": [
       "| 36        | 44             | 2          | 1                    | 672us            |"
      ]
     },
     "metadata": {},
     "output_type": "display_data"
    },
    {
     "data": {
      "text/html": [
       "<pre>| 37        | 47             | 2          | 1                    | 689us            |</pre>"
      ],
      "text/plain": [
       "| 37        | 47             | 2          | 1                    | 689us            |"
      ]
     },
     "metadata": {},
     "output_type": "display_data"
    },
    {
     "data": {
      "text/html": [
       "<pre>| 38        | 48             | 2          | 1                    | 704us            |</pre>"
      ],
      "text/plain": [
       "| 38        | 48             | 2          | 1                    | 704us            |"
      ]
     },
     "metadata": {},
     "output_type": "display_data"
    },
    {
     "data": {
      "text/html": [
       "<pre>| 39        | 49             | 2          | 1                    | 721us            |</pre>"
      ],
      "text/plain": [
       "| 39        | 49             | 2          | 1                    | 721us            |"
      ]
     },
     "metadata": {},
     "output_type": "display_data"
    },
    {
     "data": {
      "text/html": [
       "<pre>| 40        | 50             | 2          | 1                    | 743us            |</pre>"
      ],
      "text/plain": [
       "| 40        | 50             | 2          | 1                    | 743us            |"
      ]
     },
     "metadata": {},
     "output_type": "display_data"
    },
    {
     "data": {
      "text/html": [
       "<pre>| 41        | 51             | 2          | 1                    | 793us            |</pre>"
      ],
      "text/plain": [
       "| 41        | 51             | 2          | 1                    | 793us            |"
      ]
     },
     "metadata": {},
     "output_type": "display_data"
    },
    {
     "data": {
      "text/html": [
       "<pre>| 42        | 52             | 2          | 1                    | 802us            |</pre>"
      ],
      "text/plain": [
       "| 42        | 52             | 2          | 1                    | 802us            |"
      ]
     },
     "metadata": {},
     "output_type": "display_data"
    },
    {
     "data": {
      "text/html": [
       "<pre>| 43        | 54             | 2          | 1                    | 815us            |</pre>"
      ],
      "text/plain": [
       "| 43        | 54             | 2          | 1                    | 815us            |"
      ]
     },
     "metadata": {},
     "output_type": "display_data"
    },
    {
     "data": {
      "text/html": [
       "<pre>| 44        | 55             | 2          | 1                    | 823us            |</pre>"
      ],
      "text/plain": [
       "| 44        | 55             | 2          | 1                    | 823us            |"
      ]
     },
     "metadata": {},
     "output_type": "display_data"
    },
    {
     "data": {
      "text/html": [
       "<pre>| 45        | 56             | 2          | 1                    | 884us            |</pre>"
      ],
      "text/plain": [
       "| 45        | 56             | 2          | 1                    | 884us            |"
      ]
     },
     "metadata": {},
     "output_type": "display_data"
    },
    {
     "data": {
      "text/html": [
       "<pre>| 46        | 58             | 2          | 1                    | 896us            |</pre>"
      ],
      "text/plain": [
       "| 46        | 58             | 2          | 1                    | 896us            |"
      ]
     },
     "metadata": {},
     "output_type": "display_data"
    },
    {
     "data": {
      "text/html": [
       "<pre>| 47        | 59             | 2          | 1                    | 991us            |</pre>"
      ],
      "text/plain": [
       "| 47        | 59             | 2          | 1                    | 991us            |"
      ]
     },
     "metadata": {},
     "output_type": "display_data"
    },
    {
     "data": {
      "text/html": [
       "<pre>| 48        | 60             | 2          | 1                    | 1.009ms          |</pre>"
      ],
      "text/plain": [
       "| 48        | 60             | 2          | 1                    | 1.009ms          |"
      ]
     },
     "metadata": {},
     "output_type": "display_data"
    },
    {
     "data": {
      "text/html": [
       "<pre>| 49        | 61             | 2          | 1                    | 1.019ms          |</pre>"
      ],
      "text/plain": [
       "| 49        | 61             | 2          | 1                    | 1.019ms          |"
      ]
     },
     "metadata": {},
     "output_type": "display_data"
    },
    {
     "data": {
      "text/html": [
       "<pre>| 50        | 63             | 2          | 1                    | 1.031ms          |</pre>"
      ],
      "text/plain": [
       "| 50        | 63             | 2          | 1                    | 1.031ms          |"
      ]
     },
     "metadata": {},
     "output_type": "display_data"
    },
    {
     "data": {
      "text/html": [
       "<pre>| 51        | 64             | 2          | 1                    | 1.161ms          |</pre>"
      ],
      "text/plain": [
       "| 51        | 64             | 2          | 1                    | 1.161ms          |"
      ]
     },
     "metadata": {},
     "output_type": "display_data"
    },
    {
     "data": {
      "text/html": [
       "<pre>| 52        | 65             | 2          | 1                    | 1.316ms          |</pre>"
      ],
      "text/plain": [
       "| 52        | 65             | 2          | 1                    | 1.316ms          |"
      ]
     },
     "metadata": {},
     "output_type": "display_data"
    },
    {
     "data": {
      "text/html": [
       "<pre>| 53        | 66             | 2          | 1                    | 1.328ms          |</pre>"
      ],
      "text/plain": [
       "| 53        | 66             | 2          | 1                    | 1.328ms          |"
      ]
     },
     "metadata": {},
     "output_type": "display_data"
    },
    {
     "data": {
      "text/html": [
       "<pre>| 54        | 67             | 2          | 1                    | 1.347ms          |</pre>"
      ],
      "text/plain": [
       "| 54        | 67             | 2          | 1                    | 1.347ms          |"
      ]
     },
     "metadata": {},
     "output_type": "display_data"
    },
    {
     "data": {
      "text/html": [
       "<pre>| 55        | 68             | 2          | 1                    | 1.365ms          |</pre>"
      ],
      "text/plain": [
       "| 55        | 68             | 2          | 1                    | 1.365ms          |"
      ]
     },
     "metadata": {},
     "output_type": "display_data"
    },
    {
     "data": {
      "text/html": [
       "<pre>| 56        | 69             | 2          | 1                    | 1.442ms          |</pre>"
      ],
      "text/plain": [
       "| 56        | 69             | 2          | 1                    | 1.442ms          |"
      ]
     },
     "metadata": {},
     "output_type": "display_data"
    },
    {
     "data": {
      "text/html": [
       "<pre>| 57        | 70             | 2          | 1                    | 1.451ms          |</pre>"
      ],
      "text/plain": [
       "| 57        | 70             | 2          | 1                    | 1.451ms          |"
      ]
     },
     "metadata": {},
     "output_type": "display_data"
    },
    {
     "data": {
      "text/html": [
       "<pre>| 58        | 71             | 2          | 1                    | 1.46ms           |</pre>"
      ],
      "text/plain": [
       "| 58        | 71             | 2          | 1                    | 1.46ms           |"
      ]
     },
     "metadata": {},
     "output_type": "display_data"
    },
    {
     "data": {
      "text/html": [
       "<pre>| 59        | 72             | 2          | 1                    | 1.644ms          |</pre>"
      ],
      "text/plain": [
       "| 59        | 72             | 2          | 1                    | 1.644ms          |"
      ]
     },
     "metadata": {},
     "output_type": "display_data"
    },
    {
     "data": {
      "text/html": [
       "<pre>| 60        | 73             | 2          | 1                    | 1.745ms          |</pre>"
      ],
      "text/plain": [
       "| 60        | 73             | 2          | 1                    | 1.745ms          |"
      ]
     },
     "metadata": {},
     "output_type": "display_data"
    },
    {
     "data": {
      "text/html": [
       "<pre>| 61        | 74             | 2          | 1                    | 1.761ms          |</pre>"
      ],
      "text/plain": [
       "| 61        | 74             | 2          | 1                    | 1.761ms          |"
      ]
     },
     "metadata": {},
     "output_type": "display_data"
    },
    {
     "data": {
      "text/html": [
       "<pre>| 62        | 75             | 2          | 1                    | 1.957ms          |</pre>"
      ],
      "text/plain": [
       "| 62        | 75             | 2          | 1                    | 1.957ms          |"
      ]
     },
     "metadata": {},
     "output_type": "display_data"
    },
    {
     "data": {
      "text/html": [
       "<pre>| 63        | 76             | 2          | 1                    | 1.969ms          |</pre>"
      ],
      "text/plain": [
       "| 63        | 76             | 2          | 1                    | 1.969ms          |"
      ]
     },
     "metadata": {},
     "output_type": "display_data"
    },
    {
     "data": {
      "text/html": [
       "<pre>| 64        | 77             | 2          | 1                    | 2.121ms          |</pre>"
      ],
      "text/plain": [
       "| 64        | 77             | 2          | 1                    | 2.121ms          |"
      ]
     },
     "metadata": {},
     "output_type": "display_data"
    },
    {
     "data": {
      "text/html": [
       "<pre>| 65        | 78             | 2          | 1                    | 2.141ms          |</pre>"
      ],
      "text/plain": [
       "| 65        | 78             | 2          | 1                    | 2.141ms          |"
      ]
     },
     "metadata": {},
     "output_type": "display_data"
    },
    {
     "data": {
      "text/html": [
       "<pre>| 66        | 79             | 2          | 1                    | 2.17ms           |</pre>"
      ],
      "text/plain": [
       "| 66        | 79             | 2          | 1                    | 2.17ms           |"
      ]
     },
     "metadata": {},
     "output_type": "display_data"
    },
    {
     "data": {
      "text/html": [
       "<pre>| 67        | 80             | 2          | 1                    | 2.33ms           |</pre>"
      ],
      "text/plain": [
       "| 67        | 80             | 2          | 1                    | 2.33ms           |"
      ]
     },
     "metadata": {},
     "output_type": "display_data"
    },
    {
     "data": {
      "text/html": [
       "<pre>| 68        | 81             | 2          | 1                    | 2.343ms          |</pre>"
      ],
      "text/plain": [
       "| 68        | 81             | 2          | 1                    | 2.343ms          |"
      ]
     },
     "metadata": {},
     "output_type": "display_data"
    },
    {
     "data": {
      "text/html": [
       "<pre>| 69        | 82             | 2          | 1                    | 2.515ms          |</pre>"
      ],
      "text/plain": [
       "| 69        | 82             | 2          | 1                    | 2.515ms          |"
      ]
     },
     "metadata": {},
     "output_type": "display_data"
    },
    {
     "data": {
      "text/html": [
       "<pre>| 70        | 83             | 2          | 1                    | 2.527ms          |</pre>"
      ],
      "text/plain": [
       "| 70        | 83             | 2          | 1                    | 2.527ms          |"
      ]
     },
     "metadata": {},
     "output_type": "display_data"
    },
    {
     "data": {
      "text/html": [
       "<pre>| 71        | 84             | 2          | 1                    | 2.773ms          |</pre>"
      ],
      "text/plain": [
       "| 71        | 84             | 2          | 1                    | 2.773ms          |"
      ]
     },
     "metadata": {},
     "output_type": "display_data"
    },
    {
     "data": {
      "text/html": [
       "<pre>| 72        | 85             | 2          | 1                    | 2.788ms          |</pre>"
      ],
      "text/plain": [
       "| 72        | 85             | 2          | 1                    | 2.788ms          |"
      ]
     },
     "metadata": {},
     "output_type": "display_data"
    },
    {
     "data": {
      "text/html": [
       "<pre>| 73        | 86             | 2          | 1                    | 2.798ms          |</pre>"
      ],
      "text/plain": [
       "| 73        | 86             | 2          | 1                    | 2.798ms          |"
      ]
     },
     "metadata": {},
     "output_type": "display_data"
    },
    {
     "data": {
      "text/html": [
       "<pre>| 74        | 87             | 2          | 1                    | 2.817ms          |</pre>"
      ],
      "text/plain": [
       "| 74        | 87             | 2          | 1                    | 2.817ms          |"
      ]
     },
     "metadata": {},
     "output_type": "display_data"
    },
    {
     "data": {
      "text/html": [
       "<pre>| 75        | 88             | 2          | 1                    | 2.864ms          |</pre>"
      ],
      "text/plain": [
       "| 75        | 88             | 2          | 1                    | 2.864ms          |"
      ]
     },
     "metadata": {},
     "output_type": "display_data"
    },
    {
     "data": {
      "text/html": [
       "<pre>| 76        | 90             | 2          | 1                    | 2.877ms          |</pre>"
      ],
      "text/plain": [
       "| 76        | 90             | 2          | 1                    | 2.877ms          |"
      ]
     },
     "metadata": {},
     "output_type": "display_data"
    },
    {
     "data": {
      "text/html": [
       "<pre>| 77        | 91             | 2          | 1                    | 2.887ms          |</pre>"
      ],
      "text/plain": [
       "| 77        | 91             | 2          | 1                    | 2.887ms          |"
      ]
     },
     "metadata": {},
     "output_type": "display_data"
    },
    {
     "data": {
      "text/html": [
       "<pre>| 78        | 92             | 2          | 1                    | 2.895ms          |</pre>"
      ],
      "text/plain": [
       "| 78        | 92             | 2          | 1                    | 2.895ms          |"
      ]
     },
     "metadata": {},
     "output_type": "display_data"
    },
    {
     "data": {
      "text/html": [
       "<pre>| 79        | 93             | 2          | 1                    | 3.115ms          |</pre>"
      ],
      "text/plain": [
       "| 79        | 93             | 2          | 1                    | 3.115ms          |"
      ]
     },
     "metadata": {},
     "output_type": "display_data"
    },
    {
     "data": {
      "text/html": [
       "<pre>| 80        | 94             | 2          | 1                    | 3.391ms          |</pre>"
      ],
      "text/plain": [
       "| 80        | 94             | 2          | 1                    | 3.391ms          |"
      ]
     },
     "metadata": {},
     "output_type": "display_data"
    },
    {
     "data": {
      "text/html": [
       "<pre>| 81        | 96             | 2          | 1                    | 3.41ms           |</pre>"
      ],
      "text/plain": [
       "| 81        | 96             | 2          | 1                    | 3.41ms           |"
      ]
     },
     "metadata": {},
     "output_type": "display_data"
    },
    {
     "data": {
      "text/html": [
       "<pre>| 82        | 97             | 2          | 1                    | 3.42ms           |</pre>"
      ],
      "text/plain": [
       "| 82        | 97             | 2          | 1                    | 3.42ms           |"
      ]
     },
     "metadata": {},
     "output_type": "display_data"
    },
    {
     "data": {
      "text/html": [
       "<pre>| 83        | 98             | 2          | 1                    | 3.429ms          |</pre>"
      ],
      "text/plain": [
       "| 83        | 98             | 2          | 1                    | 3.429ms          |"
      ]
     },
     "metadata": {},
     "output_type": "display_data"
    },
    {
     "data": {
      "text/html": [
       "<pre>| 84        | 99             | 2          | 1                    | 3.438ms          |</pre>"
      ],
      "text/plain": [
       "| 84        | 99             | 2          | 1                    | 3.438ms          |"
      ]
     },
     "metadata": {},
     "output_type": "display_data"
    },
    {
     "data": {
      "text/html": [
       "<pre>| 85        | 100            | 2          | 1                    | 3.768ms          |</pre>"
      ],
      "text/plain": [
       "| 85        | 100            | 2          | 1                    | 3.768ms          |"
      ]
     },
     "metadata": {},
     "output_type": "display_data"
    },
    {
     "data": {
      "text/html": [
       "<pre>| 86        | 100            | 2          | 1                    | 3.787ms          |</pre>"
      ],
      "text/plain": [
       "| 86        | 100            | 2          | 1                    | 3.787ms          |"
      ]
     },
     "metadata": {},
     "output_type": "display_data"
    },
    {
     "data": {
      "text/html": [
       "<pre>| 87        | 100            | 2          | 1                    | 4.058ms          |</pre>"
      ],
      "text/plain": [
       "| 87        | 100            | 2          | 1                    | 4.058ms          |"
      ]
     },
     "metadata": {},
     "output_type": "display_data"
    },
    {
     "data": {
      "text/html": [
       "<pre>| 88        | 100            | 1          | 1                    | 4.077ms          |</pre>"
      ],
      "text/plain": [
       "| 88        | 100            | 1          | 1                    | 4.077ms          |"
      ]
     },
     "metadata": {},
     "output_type": "display_data"
    },
    {
     "data": {
      "text/html": [
       "<pre>| 89        | 100            | 1          | 1                    | 4.088ms          |</pre>"
      ],
      "text/plain": [
       "| 89        | 100            | 1          | 1                    | 4.088ms          |"
      ]
     },
     "metadata": {},
     "output_type": "display_data"
    },
    {
     "data": {
      "text/html": [
       "<pre>| 90        | 100            | 1          | 1                    | 4.098ms          |</pre>"
      ],
      "text/plain": [
       "| 90        | 100            | 1          | 1                    | 4.098ms          |"
      ]
     },
     "metadata": {},
     "output_type": "display_data"
    },
    {
     "data": {
      "text/html": [
       "<pre>| 91        | 100            | 1          | 1                    | 4.107ms          |</pre>"
      ],
      "text/plain": [
       "| 91        | 100            | 1          | 1                    | 4.107ms          |"
      ]
     },
     "metadata": {},
     "output_type": "display_data"
    },
    {
     "data": {
      "text/html": [
       "<pre>| 92        | 100            | 1          | 1                    | 4.116ms          |</pre>"
      ],
      "text/plain": [
       "| 92        | 100            | 1          | 1                    | 4.116ms          |"
      ]
     },
     "metadata": {},
     "output_type": "display_data"
    },
    {
     "data": {
      "text/html": [
       "<pre>| 93        | 100            | 1          | 1                    | 4.125ms          |</pre>"
      ],
      "text/plain": [
       "| 93        | 100            | 1          | 1                    | 4.125ms          |"
      ]
     },
     "metadata": {},
     "output_type": "display_data"
    },
    {
     "data": {
      "text/html": [
       "<pre>| 94        | 100            | 1          | 1                    | 4.134ms          |</pre>"
      ],
      "text/plain": [
       "| 94        | 100            | 1          | 1                    | 4.134ms          |"
      ]
     },
     "metadata": {},
     "output_type": "display_data"
    },
    {
     "data": {
      "text/html": [
       "<pre>| 95        | 100            | 1          | 1                    | 4.142ms          |</pre>"
      ],
      "text/plain": [
       "| 95        | 100            | 1          | 1                    | 4.142ms          |"
      ]
     },
     "metadata": {},
     "output_type": "display_data"
    },
    {
     "data": {
      "text/html": [
       "<pre>| 96        | 100            | 1          | 1                    | 4.151ms          |</pre>"
      ],
      "text/plain": [
       "| 96        | 100            | 1          | 1                    | 4.151ms          |"
      ]
     },
     "metadata": {},
     "output_type": "display_data"
    },
    {
     "data": {
      "text/html": [
       "<pre>| 97        | 100            | 1          | 1                    | 4.164ms          |</pre>"
      ],
      "text/plain": [
       "| 97        | 100            | 1          | 1                    | 4.164ms          |"
      ]
     },
     "metadata": {},
     "output_type": "display_data"
    },
    {
     "data": {
      "text/html": [
       "<pre>| 98        | 100            | 1          | 1                    | 4.488ms          |</pre>"
      ],
      "text/plain": [
       "| 98        | 100            | 1          | 1                    | 4.488ms          |"
      ]
     },
     "metadata": {},
     "output_type": "display_data"
    },
    {
     "data": {
      "text/html": [
       "<pre>| 99        | 100            | 1          | 1                    | 4.504ms          |</pre>"
      ],
      "text/plain": [
       "| 99        | 100            | 1          | 1                    | 4.504ms          |"
      ]
     },
     "metadata": {},
     "output_type": "display_data"
    },
    {
     "data": {
      "text/html": [
       "<pre>| 100       | 100            | 1          | 1                    | 4.524ms          |</pre>"
      ],
      "text/plain": [
       "| 100       | 100            | 1          | 1                    | 4.524ms          |"
      ]
     },
     "metadata": {},
     "output_type": "display_data"
    },
    {
     "data": {
      "text/html": [
       "<pre>| 101       | 100            | 1          | 1                    | 4.533ms          |</pre>"
      ],
      "text/plain": [
       "| 101       | 100            | 1          | 1                    | 4.533ms          |"
      ]
     },
     "metadata": {},
     "output_type": "display_data"
    },
    {
     "data": {
      "text/html": [
       "<pre>| 102       | 100            | 1          | 1                    | 4.542ms          |</pre>"
      ],
      "text/plain": [
       "| 102       | 100            | 1          | 1                    | 4.542ms          |"
      ]
     },
     "metadata": {},
     "output_type": "display_data"
    },
    {
     "data": {
      "text/html": [
       "<pre>| 103       | 100            | 1          | 1                    | 4.551ms          |</pre>"
      ],
      "text/plain": [
       "| 103       | 100            | 1          | 1                    | 4.551ms          |"
      ]
     },
     "metadata": {},
     "output_type": "display_data"
    },
    {
     "data": {
      "text/html": [
       "<pre>| 104       | 100            | 1          | 1                    | 4.569ms          |</pre>"
      ],
      "text/plain": [
       "| 104       | 100            | 1          | 1                    | 4.569ms          |"
      ]
     },
     "metadata": {},
     "output_type": "display_data"
    },
    {
     "data": {
      "text/html": [
       "<pre>| 105       | 100            | 1          | 1                    | 4.578ms          |</pre>"
      ],
      "text/plain": [
       "| 105       | 100            | 1          | 1                    | 4.578ms          |"
      ]
     },
     "metadata": {},
     "output_type": "display_data"
    },
    {
     "data": {
      "text/html": [
       "<pre>| 106       | 100            | 1          | 1                    | 4.587ms          |</pre>"
      ],
      "text/plain": [
       "| 106       | 100            | 1          | 1                    | 4.587ms          |"
      ]
     },
     "metadata": {},
     "output_type": "display_data"
    },
    {
     "data": {
      "text/html": [
       "<pre>| 107       | 100            | 1          | 1                    | 4.596ms          |</pre>"
      ],
      "text/plain": [
       "| 107       | 100            | 1          | 1                    | 4.596ms          |"
      ]
     },
     "metadata": {},
     "output_type": "display_data"
    },
    {
     "data": {
      "text/html": [
       "<pre>| 108       | 100            | 1          | 1                    | 4.608ms          |</pre>"
      ],
      "text/plain": [
       "| 108       | 100            | 1          | 1                    | 4.608ms          |"
      ]
     },
     "metadata": {},
     "output_type": "display_data"
    },
    {
     "data": {
      "text/html": [
       "<pre>| 109       | 100            | 1          | 1                    | 4.712ms          |</pre>"
      ],
      "text/plain": [
       "| 109       | 100            | 1          | 1                    | 4.712ms          |"
      ]
     },
     "metadata": {},
     "output_type": "display_data"
    },
    {
     "data": {
      "text/html": [
       "<pre>| 110       | 100            | 1          | 1                    | 5.001ms          |</pre>"
      ],
      "text/plain": [
       "| 110       | 100            | 1          | 1                    | 5.001ms          |"
      ]
     },
     "metadata": {},
     "output_type": "display_data"
    },
    {
     "data": {
      "text/html": [
       "<pre>| 111       | 100            | 1          | 1                    | 5.015ms          |</pre>"
      ],
      "text/plain": [
       "| 111       | 100            | 1          | 1                    | 5.015ms          |"
      ]
     },
     "metadata": {},
     "output_type": "display_data"
    },
    {
     "data": {
      "text/html": [
       "<pre>| 112       | 100            | 1          | 1                    | 5.037ms          |</pre>"
      ],
      "text/plain": [
       "| 112       | 100            | 1          | 1                    | 5.037ms          |"
      ]
     },
     "metadata": {},
     "output_type": "display_data"
    },
    {
     "data": {
      "text/html": [
       "<pre>| 113       | 100            | 1          | 1                    | 5.392ms          |</pre>"
      ],
      "text/plain": [
       "| 113       | 100            | 1          | 1                    | 5.392ms          |"
      ]
     },
     "metadata": {},
     "output_type": "display_data"
    },
    {
     "data": {
      "text/html": [
       "<pre>| 114       | 100            | 1          | 1                    | 5.408ms          |</pre>"
      ],
      "text/plain": [
       "| 114       | 100            | 1          | 1                    | 5.408ms          |"
      ]
     },
     "metadata": {},
     "output_type": "display_data"
    },
    {
     "data": {
      "text/html": [
       "<pre>| 115       | 100            | 1          | 1                    | 5.435ms          |</pre>"
      ],
      "text/plain": [
       "| 115       | 100            | 1          | 1                    | 5.435ms          |"
      ]
     },
     "metadata": {},
     "output_type": "display_data"
    },
    {
     "data": {
      "text/html": [
       "<pre>| 116       | 100            | 1          | 1                    | 5.444ms          |</pre>"
      ],
      "text/plain": [
       "| 116       | 100            | 1          | 1                    | 5.444ms          |"
      ]
     },
     "metadata": {},
     "output_type": "display_data"
    },
    {
     "data": {
      "text/html": [
       "<pre>| 117       | 100            | 1          | 1                    | 5.861ms          |</pre>"
      ],
      "text/plain": [
       "| 117       | 100            | 1          | 1                    | 5.861ms          |"
      ]
     },
     "metadata": {},
     "output_type": "display_data"
    },
    {
     "data": {
      "text/html": [
       "<pre>| 118       | 100            | 1          | 1                    | 5.891ms          |</pre>"
      ],
      "text/plain": [
       "| 118       | 100            | 1          | 1                    | 5.891ms          |"
      ]
     },
     "metadata": {},
     "output_type": "display_data"
    },
    {
     "data": {
      "text/html": [
       "<pre>| 119       | 100            | 1          | 1                    | 5.901ms          |</pre>"
      ],
      "text/plain": [
       "| 119       | 100            | 1          | 1                    | 5.901ms          |"
      ]
     },
     "metadata": {},
     "output_type": "display_data"
    },
    {
     "data": {
      "text/html": [
       "<pre>| 120       | 100            | 1          | 1                    | 6.292ms          |</pre>"
      ],
      "text/plain": [
       "| 120       | 100            | 1          | 1                    | 6.292ms          |"
      ]
     },
     "metadata": {},
     "output_type": "display_data"
    },
    {
     "data": {
      "text/html": [
       "<pre>| 121       | 100            | 1          | 1                    | 6.326ms          |</pre>"
      ],
      "text/plain": [
       "| 121       | 100            | 1          | 1                    | 6.326ms          |"
      ]
     },
     "metadata": {},
     "output_type": "display_data"
    },
    {
     "data": {
      "text/html": [
       "<pre>| 122       | 100            | 1          | 1                    | 6.336ms          |</pre>"
      ],
      "text/plain": [
       "| 122       | 100            | 1          | 1                    | 6.336ms          |"
      ]
     },
     "metadata": {},
     "output_type": "display_data"
    },
    {
     "data": {
      "text/html": [
       "<pre>| 123       | 100            | 1          | 1                    | 6.372ms          |</pre>"
      ],
      "text/plain": [
       "| 123       | 100            | 1          | 1                    | 6.372ms          |"
      ]
     },
     "metadata": {},
     "output_type": "display_data"
    },
    {
     "data": {
      "text/html": [
       "<pre>| 124       | 100            | 1          | 1                    | 6.383ms          |</pre>"
      ],
      "text/plain": [
       "| 124       | 100            | 1          | 1                    | 6.383ms          |"
      ]
     },
     "metadata": {},
     "output_type": "display_data"
    },
    {
     "data": {
      "text/html": [
       "<pre>| 125       | 100            | 1          | 1                    | 6.396ms          |</pre>"
      ],
      "text/plain": [
       "| 125       | 100            | 1          | 1                    | 6.396ms          |"
      ]
     },
     "metadata": {},
     "output_type": "display_data"
    },
    {
     "data": {
      "text/html": [
       "<pre>| 126       | 100            | 1          | 1                    | 6.405ms          |</pre>"
      ],
      "text/plain": [
       "| 126       | 100            | 1          | 1                    | 6.405ms          |"
      ]
     },
     "metadata": {},
     "output_type": "display_data"
    },
    {
     "data": {
      "text/html": [
       "<pre>| 127       | 100            | 1          | 1                    | 6.414ms          |</pre>"
      ],
      "text/plain": [
       "| 127       | 100            | 1          | 1                    | 6.414ms          |"
      ]
     },
     "metadata": {},
     "output_type": "display_data"
    },
    {
     "data": {
      "text/html": [
       "<pre>| 128       | 100            | 1          | 1                    | 6.424ms          |</pre>"
      ],
      "text/plain": [
       "| 128       | 100            | 1          | 1                    | 6.424ms          |"
      ]
     },
     "metadata": {},
     "output_type": "display_data"
    },
    {
     "data": {
      "text/html": [
       "<pre>| 129       | 100            | 1          | 1                    | 6.437ms          |</pre>"
      ],
      "text/plain": [
       "| 129       | 100            | 1          | 1                    | 6.437ms          |"
      ]
     },
     "metadata": {},
     "output_type": "display_data"
    },
    {
     "data": {
      "text/html": [
       "<pre>| 130       | 100            | 1          | 1                    | 6.844ms          |</pre>"
      ],
      "text/plain": [
       "| 130       | 100            | 1          | 1                    | 6.844ms          |"
      ]
     },
     "metadata": {},
     "output_type": "display_data"
    },
    {
     "data": {
      "text/html": [
       "<pre>| 131       | 100            | 1          | 1                    | 7.348ms          |</pre>"
      ],
      "text/plain": [
       "| 131       | 100            | 1          | 1                    | 7.348ms          |"
      ]
     },
     "metadata": {},
     "output_type": "display_data"
    },
    {
     "data": {
      "text/html": [
       "<pre>| 132       | 100            | 1          | 1                    | 8.161ms          |</pre>"
      ],
      "text/plain": [
       "| 132       | 100            | 1          | 1                    | 8.161ms          |"
      ]
     },
     "metadata": {},
     "output_type": "display_data"
    },
    {
     "data": {
      "text/html": [
       "<pre>| 133       | 100            | 1          | 1                    | 8.193ms          |</pre>"
      ],
      "text/plain": [
       "| 133       | 100            | 1          | 1                    | 8.193ms          |"
      ]
     },
     "metadata": {},
     "output_type": "display_data"
    },
    {
     "data": {
      "text/html": [
       "<pre>| 134       | 100            | 1          | 1                    | 8.21ms           |</pre>"
      ],
      "text/plain": [
       "| 134       | 100            | 1          | 1                    | 8.21ms           |"
      ]
     },
     "metadata": {},
     "output_type": "display_data"
    },
    {
     "data": {
      "text/html": [
       "<pre>| 135       | 100            | 1          | 1                    | 8.226ms          |</pre>"
      ],
      "text/plain": [
       "| 135       | 100            | 1          | 1                    | 8.226ms          |"
      ]
     },
     "metadata": {},
     "output_type": "display_data"
    },
    {
     "data": {
      "text/html": [
       "<pre>| 136       | 100            | 1          | 1                    | 8.314ms          |</pre>"
      ],
      "text/plain": [
       "| 136       | 100            | 1          | 1                    | 8.314ms          |"
      ]
     },
     "metadata": {},
     "output_type": "display_data"
    },
    {
     "data": {
      "text/html": [
       "<pre>| 137       | 100            | 1          | 1                    | 8.334ms          |</pre>"
      ],
      "text/plain": [
       "| 137       | 100            | 1          | 1                    | 8.334ms          |"
      ]
     },
     "metadata": {},
     "output_type": "display_data"
    },
    {
     "data": {
      "text/html": [
       "<pre>| 138       | 100            | 1          | 1                    | 8.352ms          |</pre>"
      ],
      "text/plain": [
       "| 138       | 100            | 1          | 1                    | 8.352ms          |"
      ]
     },
     "metadata": {},
     "output_type": "display_data"
    },
    {
     "data": {
      "text/html": [
       "<pre>| 139       | 100            | 1          | 1                    | 8.371ms          |</pre>"
      ],
      "text/plain": [
       "| 139       | 100            | 1          | 1                    | 8.371ms          |"
      ]
     },
     "metadata": {},
     "output_type": "display_data"
    },
    {
     "data": {
      "text/html": [
       "<pre>| 140       | 100            | 1          | 1                    | 8.396ms          |</pre>"
      ],
      "text/plain": [
       "| 140       | 100            | 1          | 1                    | 8.396ms          |"
      ]
     },
     "metadata": {},
     "output_type": "display_data"
    },
    {
     "data": {
      "text/html": [
       "<pre>| 141       | 100            | 1          | 1                    | 8.42ms           |</pre>"
      ],
      "text/plain": [
       "| 141       | 100            | 1          | 1                    | 8.42ms           |"
      ]
     },
     "metadata": {},
     "output_type": "display_data"
    },
    {
     "data": {
      "text/html": [
       "<pre>| 142       | 100            | 1          | 1                    | 8.444ms          |</pre>"
      ],
      "text/plain": [
       "| 142       | 100            | 1          | 1                    | 8.444ms          |"
      ]
     },
     "metadata": {},
     "output_type": "display_data"
    },
    {
     "data": {
      "text/html": [
       "<pre>| 143       | 100            | 1          | 1                    | 8.462ms          |</pre>"
      ],
      "text/plain": [
       "| 143       | 100            | 1          | 1                    | 8.462ms          |"
      ]
     },
     "metadata": {},
     "output_type": "display_data"
    },
    {
     "data": {
      "text/html": [
       "<pre>| 144       | 100            | 1          | 1                    | 8.507ms          |</pre>"
      ],
      "text/plain": [
       "| 144       | 100            | 1          | 1                    | 8.507ms          |"
      ]
     },
     "metadata": {},
     "output_type": "display_data"
    },
    {
     "data": {
      "text/html": [
       "<pre>| 145       | 100            | 1          | 1                    | 8.533ms          |</pre>"
      ],
      "text/plain": [
       "| 145       | 100            | 1          | 1                    | 8.533ms          |"
      ]
     },
     "metadata": {},
     "output_type": "display_data"
    },
    {
     "data": {
      "text/html": [
       "<pre>| 146       | 100            | 1          | 1                    | 8.551ms          |</pre>"
      ],
      "text/plain": [
       "| 146       | 100            | 1          | 1                    | 8.551ms          |"
      ]
     },
     "metadata": {},
     "output_type": "display_data"
    },
    {
     "data": {
      "text/html": [
       "<pre>| 147       | 100            | 1          | 1                    | 8.569ms          |</pre>"
      ],
      "text/plain": [
       "| 147       | 100            | 1          | 1                    | 8.569ms          |"
      ]
     },
     "metadata": {},
     "output_type": "display_data"
    },
    {
     "data": {
      "text/html": [
       "<pre>| 148       | 100            | 1          | 1                    | 8.586ms          |</pre>"
      ],
      "text/plain": [
       "| 148       | 100            | 1          | 1                    | 8.586ms          |"
      ]
     },
     "metadata": {},
     "output_type": "display_data"
    },
    {
     "data": {
      "text/html": [
       "<pre>| 149       | 100            | 1          | 1                    | 8.606ms          |</pre>"
      ],
      "text/plain": [
       "| 149       | 100            | 1          | 1                    | 8.606ms          |"
      ]
     },
     "metadata": {},
     "output_type": "display_data"
    },
    {
     "data": {
      "text/html": [
       "<pre>| 150       | 100            | 1          | 1                    | 8.624ms          |</pre>"
      ],
      "text/plain": [
       "| 150       | 100            | 1          | 1                    | 8.624ms          |"
      ]
     },
     "metadata": {},
     "output_type": "display_data"
    },
    {
     "data": {
      "text/html": [
       "<pre>| 151       | 100            | 1          | 1                    | 8.643ms          |</pre>"
      ],
      "text/plain": [
       "| 151       | 100            | 1          | 1                    | 8.643ms          |"
      ]
     },
     "metadata": {},
     "output_type": "display_data"
    },
    {
     "data": {
      "text/html": [
       "<pre>| 152       | 100            | 1          | 1                    | 9.394ms          |</pre>"
      ],
      "text/plain": [
       "| 152       | 100            | 1          | 1                    | 9.394ms          |"
      ]
     },
     "metadata": {},
     "output_type": "display_data"
    },
    {
     "data": {
      "text/html": [
       "<pre>| 153       | 100            | 1          | 1                    | 9.418ms          |</pre>"
      ],
      "text/plain": [
       "| 153       | 100            | 1          | 1                    | 9.418ms          |"
      ]
     },
     "metadata": {},
     "output_type": "display_data"
    },
    {
     "data": {
      "text/html": [
       "<pre>| 154       | 100            | 1          | 1                    | 9.429ms          |</pre>"
      ],
      "text/plain": [
       "| 154       | 100            | 1          | 1                    | 9.429ms          |"
      ]
     },
     "metadata": {},
     "output_type": "display_data"
    },
    {
     "data": {
      "text/html": [
       "<pre>| 155       | 100            | 1          | 1                    | 9.498ms          |</pre>"
      ],
      "text/plain": [
       "| 155       | 100            | 1          | 1                    | 9.498ms          |"
      ]
     },
     "metadata": {},
     "output_type": "display_data"
    },
    {
     "data": {
      "text/html": [
       "<pre>| 156       | 100            | 1          | 1                    | 9.509ms          |</pre>"
      ],
      "text/plain": [
       "| 156       | 100            | 1          | 1                    | 9.509ms          |"
      ]
     },
     "metadata": {},
     "output_type": "display_data"
    },
    {
     "data": {
      "text/html": [
       "<pre>| 157       | 100            | 1          | 1                    | 9.52ms           |</pre>"
      ],
      "text/plain": [
       "| 157       | 100            | 1          | 1                    | 9.52ms           |"
      ]
     },
     "metadata": {},
     "output_type": "display_data"
    },
    {
     "data": {
      "text/html": [
       "<pre>| 158       | 100            | 1          | 1                    | 9.529ms          |</pre>"
      ],
      "text/plain": [
       "| 158       | 100            | 1          | 1                    | 9.529ms          |"
      ]
     },
     "metadata": {},
     "output_type": "display_data"
    },
    {
     "data": {
      "text/html": [
       "<pre>| 159       | 100            | 1          | 1                    | 9.539ms          |</pre>"
      ],
      "text/plain": [
       "| 159       | 100            | 1          | 1                    | 9.539ms          |"
      ]
     },
     "metadata": {},
     "output_type": "display_data"
    },
    {
     "data": {
      "text/html": [
       "<pre>| 160       | 100            | 1          | 1                    | 9.548ms          |</pre>"
      ],
      "text/plain": [
       "| 160       | 100            | 1          | 1                    | 9.548ms          |"
      ]
     },
     "metadata": {},
     "output_type": "display_data"
    },
    {
     "data": {
      "text/html": [
       "<pre>| 161       | 100            | 1          | 1                    | 9.557ms          |</pre>"
      ],
      "text/plain": [
       "| 161       | 100            | 1          | 1                    | 9.557ms          |"
      ]
     },
     "metadata": {},
     "output_type": "display_data"
    },
    {
     "data": {
      "text/html": [
       "<pre>| 162       | 100            | 1          | 1                    | 10.282ms         |</pre>"
      ],
      "text/plain": [
       "| 162       | 100            | 1          | 1                    | 10.282ms         |"
      ]
     },
     "metadata": {},
     "output_type": "display_data"
    },
    {
     "data": {
      "text/html": [
       "<pre>| 163       | 100            | 1          | 1                    | 11.025ms         |</pre>"
      ],
      "text/plain": [
       "| 163       | 100            | 1          | 1                    | 11.025ms         |"
      ]
     },
     "metadata": {},
     "output_type": "display_data"
    },
    {
     "data": {
      "text/html": [
       "<pre>| 164       | 100            | 1          | 1                    | 11.046ms         |</pre>"
      ],
      "text/plain": [
       "| 164       | 100            | 1          | 1                    | 11.046ms         |"
      ]
     },
     "metadata": {},
     "output_type": "display_data"
    },
    {
     "data": {
      "text/html": [
       "<pre>| 165       | 100            | 1          | 1                    | 11.076ms         |</pre>"
      ],
      "text/plain": [
       "| 165       | 100            | 1          | 1                    | 11.076ms         |"
      ]
     },
     "metadata": {},
     "output_type": "display_data"
    },
    {
     "data": {
      "text/html": [
       "<pre>| 166       | 100            | 1          | 1                    | 11.092ms         |</pre>"
      ],
      "text/plain": [
       "| 166       | 100            | 1          | 1                    | 11.092ms         |"
      ]
     },
     "metadata": {},
     "output_type": "display_data"
    },
    {
     "data": {
      "text/html": [
       "<pre>| 167       | 100            | 1          | 1                    | 11.122ms         |</pre>"
      ],
      "text/plain": [
       "| 167       | 100            | 1          | 1                    | 11.122ms         |"
      ]
     },
     "metadata": {},
     "output_type": "display_data"
    },
    {
     "data": {
      "text/html": [
       "<pre>| 168       | 100            | 1          | 1                    | 11.154ms         |</pre>"
      ],
      "text/plain": [
       "| 168       | 100            | 1          | 1                    | 11.154ms         |"
      ]
     },
     "metadata": {},
     "output_type": "display_data"
    },
    {
     "data": {
      "text/html": [
       "<pre>| 169       | 100            | 1          | 1                    | 11.67ms          |</pre>"
      ],
      "text/plain": [
       "| 169       | 100            | 1          | 1                    | 11.67ms          |"
      ]
     },
     "metadata": {},
     "output_type": "display_data"
    },
    {
     "data": {
      "text/html": [
       "<pre>| 170       | 100            | 1          | 1                    | 11.691ms         |</pre>"
      ],
      "text/plain": [
       "| 170       | 100            | 1          | 1                    | 11.691ms         |"
      ]
     },
     "metadata": {},
     "output_type": "display_data"
    },
    {
     "data": {
      "text/html": [
       "<pre>| 171       | 100            | 1          | 1                    | 11.746ms         |</pre>"
      ],
      "text/plain": [
       "| 171       | 100            | 1          | 1                    | 11.746ms         |"
      ]
     },
     "metadata": {},
     "output_type": "display_data"
    },
    {
     "data": {
      "text/html": [
       "<pre>| 172       | 100            | 1          | 1                    | 11.757ms         |</pre>"
      ],
      "text/plain": [
       "| 172       | 100            | 1          | 1                    | 11.757ms         |"
      ]
     },
     "metadata": {},
     "output_type": "display_data"
    },
    {
     "data": {
      "text/html": [
       "<pre>| 173       | 100            | 1          | 1                    | 11.842ms         |</pre>"
      ],
      "text/plain": [
       "| 173       | 100            | 1          | 1                    | 11.842ms         |"
      ]
     },
     "metadata": {},
     "output_type": "display_data"
    },
    {
     "data": {
      "text/html": [
       "<pre>| 174       | 100            | 1          | 1                    | 11.889ms         |</pre>"
      ],
      "text/plain": [
       "| 174       | 100            | 1          | 1                    | 11.889ms         |"
      ]
     },
     "metadata": {},
     "output_type": "display_data"
    },
    {
     "data": {
      "text/html": [
       "<pre>| 175       | 100            | 1          | 1                    | 11.905ms         |</pre>"
      ],
      "text/plain": [
       "| 175       | 100            | 1          | 1                    | 11.905ms         |"
      ]
     },
     "metadata": {},
     "output_type": "display_data"
    },
    {
     "data": {
      "text/html": [
       "<pre>| 176       | 100            | 1          | 1                    | 11.92ms          |</pre>"
      ],
      "text/plain": [
       "| 176       | 100            | 1          | 1                    | 11.92ms          |"
      ]
     },
     "metadata": {},
     "output_type": "display_data"
    },
    {
     "data": {
      "text/html": [
       "<pre>| 177       | 100            | 1          | 1                    | 12.031ms         |</pre>"
      ],
      "text/plain": [
       "| 177       | 100            | 1          | 1                    | 12.031ms         |"
      ]
     },
     "metadata": {},
     "output_type": "display_data"
    },
    {
     "data": {
      "text/html": [
       "<pre>| 178       | 100            | 1          | 1                    | 12.058ms         |</pre>"
      ],
      "text/plain": [
       "| 178       | 100            | 1          | 1                    | 12.058ms         |"
      ]
     },
     "metadata": {},
     "output_type": "display_data"
    },
    {
     "data": {
      "text/html": [
       "<pre>| 179       | 100            | 1          | 1                    | 12.068ms         |</pre>"
      ],
      "text/plain": [
       "| 179       | 100            | 1          | 1                    | 12.068ms         |"
      ]
     },
     "metadata": {},
     "output_type": "display_data"
    },
    {
     "data": {
      "text/html": [
       "<pre>| 180       | 100            | 1          | 1                    | 12.587ms         |</pre>"
      ],
      "text/plain": [
       "| 180       | 100            | 1          | 1                    | 12.587ms         |"
      ]
     },
     "metadata": {},
     "output_type": "display_data"
    },
    {
     "data": {
      "text/html": [
       "<pre>| 181       | 100            | 1          | 1                    | 12.608ms         |</pre>"
      ],
      "text/plain": [
       "| 181       | 100            | 1          | 1                    | 12.608ms         |"
      ]
     },
     "metadata": {},
     "output_type": "display_data"
    },
    {
     "data": {
      "text/html": [
       "<pre>| 182       | 100            | 1          | 1                    | 12.618ms         |</pre>"
      ],
      "text/plain": [
       "| 182       | 100            | 1          | 1                    | 12.618ms         |"
      ]
     },
     "metadata": {},
     "output_type": "display_data"
    },
    {
     "data": {
      "text/html": [
       "<pre>| 183       | 100            | 1          | 1                    | 12.648ms         |</pre>"
      ],
      "text/plain": [
       "| 183       | 100            | 1          | 1                    | 12.648ms         |"
      ]
     },
     "metadata": {},
     "output_type": "display_data"
    },
    {
     "data": {
      "text/html": [
       "<pre>| 184       | 100            | 1          | 1                    | 12.685ms         |</pre>"
      ],
      "text/plain": [
       "| 184       | 100            | 1          | 1                    | 12.685ms         |"
      ]
     },
     "metadata": {},
     "output_type": "display_data"
    },
    {
     "data": {
      "text/html": [
       "<pre>| 185       | 100            | 1          | 1                    | 12.838ms         |</pre>"
      ],
      "text/plain": [
       "| 185       | 100            | 1          | 1                    | 12.838ms         |"
      ]
     },
     "metadata": {},
     "output_type": "display_data"
    },
    {
     "data": {
      "text/html": [
       "<pre>| 186       | 100            | 1          | 1                    | 12.854ms         |</pre>"
      ],
      "text/plain": [
       "| 186       | 100            | 1          | 1                    | 12.854ms         |"
      ]
     },
     "metadata": {},
     "output_type": "display_data"
    },
    {
     "data": {
      "text/html": [
       "<pre>| 187       | 100            | 1          | 1                    | 13.025ms         |</pre>"
      ],
      "text/plain": [
       "| 187       | 100            | 1          | 1                    | 13.025ms         |"
      ]
     },
     "metadata": {},
     "output_type": "display_data"
    },
    {
     "data": {
      "text/html": [
       "<pre>| 188       | 100            | 1          | 1                    | 13.04ms          |</pre>"
      ],
      "text/plain": [
       "| 188       | 100            | 1          | 1                    | 13.04ms          |"
      ]
     },
     "metadata": {},
     "output_type": "display_data"
    },
    {
     "data": {
      "text/html": [
       "<pre>| 189       | 100            | 1          | 1                    | 13.05ms          |</pre>"
      ],
      "text/plain": [
       "| 189       | 100            | 1          | 1                    | 13.05ms          |"
      ]
     },
     "metadata": {},
     "output_type": "display_data"
    },
    {
     "data": {
      "text/html": [
       "<pre>| 190       | 100            | 1          | 1                    | 13.117ms         |</pre>"
      ],
      "text/plain": [
       "| 190       | 100            | 1          | 1                    | 13.117ms         |"
      ]
     },
     "metadata": {},
     "output_type": "display_data"
    },
    {
     "data": {
      "text/html": [
       "<pre>| 191       | 100            | 1          | 1                    | 13.127ms         |</pre>"
      ],
      "text/plain": [
       "| 191       | 100            | 1          | 1                    | 13.127ms         |"
      ]
     },
     "metadata": {},
     "output_type": "display_data"
    },
    {
     "data": {
      "text/html": [
       "<pre>| 192       | 100            | 1          | 1                    | 13.14ms          |</pre>"
      ],
      "text/plain": [
       "| 192       | 100            | 1          | 1                    | 13.14ms          |"
      ]
     },
     "metadata": {},
     "output_type": "display_data"
    },
    {
     "data": {
      "text/html": [
       "<pre>| 193       | 100            | 1          | 1                    | 13.335ms         |</pre>"
      ],
      "text/plain": [
       "| 193       | 100            | 1          | 1                    | 13.335ms         |"
      ]
     },
     "metadata": {},
     "output_type": "display_data"
    },
    {
     "data": {
      "text/html": [
       "<pre>| 194       | 100            | 1          | 1                    | 13.361ms         |</pre>"
      ],
      "text/plain": [
       "| 194       | 100            | 1          | 1                    | 13.361ms         |"
      ]
     },
     "metadata": {},
     "output_type": "display_data"
    },
    {
     "data": {
      "text/html": [
       "<pre>| 195       | 100            | 1          | 1                    | 13.373ms         |</pre>"
      ],
      "text/plain": [
       "| 195       | 100            | 1          | 1                    | 13.373ms         |"
      ]
     },
     "metadata": {},
     "output_type": "display_data"
    },
    {
     "data": {
      "text/html": [
       "<pre>| 196       | 100            | 1          | 1                    | 13.383ms         |</pre>"
      ],
      "text/plain": [
       "| 196       | 100            | 1          | 1                    | 13.383ms         |"
      ]
     },
     "metadata": {},
     "output_type": "display_data"
    },
    {
     "data": {
      "text/html": [
       "<pre>| 197       | 100            | 1          | 1                    | 14.358ms         |</pre>"
      ],
      "text/plain": [
       "| 197       | 100            | 1          | 1                    | 14.358ms         |"
      ]
     },
     "metadata": {},
     "output_type": "display_data"
    },
    {
     "data": {
      "text/html": [
       "<pre>| 198       | 100            | 1          | 1                    | 14.402ms         |</pre>"
      ],
      "text/plain": [
       "| 198       | 100            | 1          | 1                    | 14.402ms         |"
      ]
     },
     "metadata": {},
     "output_type": "display_data"
    },
    {
     "data": {
      "text/html": [
       "<pre>| 199       | 100            | 1          | 1                    | 15.013ms         |</pre>"
      ],
      "text/plain": [
       "| 199       | 100            | 1          | 1                    | 15.013ms         |"
      ]
     },
     "metadata": {},
     "output_type": "display_data"
    },
    {
     "data": {
      "text/html": [
       "<pre>| 200       | 100            | 1          | 1                    | 15.047ms         |</pre>"
      ],
      "text/plain": [
       "| 200       | 100            | 1          | 1                    | 15.047ms         |"
      ]
     },
     "metadata": {},
     "output_type": "display_data"
    },
    {
     "data": {
      "text/html": [
       "<pre>| 201       | 100            | 1          | 1                    | 15.064ms         |</pre>"
      ],
      "text/plain": [
       "| 201       | 100            | 1          | 1                    | 15.064ms         |"
      ]
     },
     "metadata": {},
     "output_type": "display_data"
    },
    {
     "data": {
      "text/html": [
       "<pre>| 202       | 100            | 1          | 1                    | 15.083ms         |</pre>"
      ],
      "text/plain": [
       "| 202       | 100            | 1          | 1                    | 15.083ms         |"
      ]
     },
     "metadata": {},
     "output_type": "display_data"
    },
    {
     "data": {
      "text/html": [
       "<pre>| 203       | 100            | 1          | 1                    | 15.102ms         |</pre>"
      ],
      "text/plain": [
       "| 203       | 100            | 1          | 1                    | 15.102ms         |"
      ]
     },
     "metadata": {},
     "output_type": "display_data"
    },
    {
     "data": {
      "text/html": [
       "<pre>| 204       | 100            | 1          | 1                    | 15.121ms         |</pre>"
      ],
      "text/plain": [
       "| 204       | 100            | 1          | 1                    | 15.121ms         |"
      ]
     },
     "metadata": {},
     "output_type": "display_data"
    },
    {
     "data": {
      "text/html": [
       "<pre>| 205       | 100            | 1          | 1                    | 15.131ms         |</pre>"
      ],
      "text/plain": [
       "| 205       | 100            | 1          | 1                    | 15.131ms         |"
      ]
     },
     "metadata": {},
     "output_type": "display_data"
    },
    {
     "data": {
      "text/html": [
       "<pre>| 206       | 100            | 1          | 1                    | 16.101ms         |</pre>"
      ],
      "text/plain": [
       "| 206       | 100            | 1          | 1                    | 16.101ms         |"
      ]
     },
     "metadata": {},
     "output_type": "display_data"
    },
    {
     "data": {
      "text/html": [
       "<pre>| 207       | 100            | 1          | 1                    | 16.126ms         |</pre>"
      ],
      "text/plain": [
       "| 207       | 100            | 1          | 1                    | 16.126ms         |"
      ]
     },
     "metadata": {},
     "output_type": "display_data"
    },
    {
     "data": {
      "text/html": [
       "<pre>| 208       | 100            | 1          | 1                    | 16.137ms         |</pre>"
      ],
      "text/plain": [
       "| 208       | 100            | 1          | 1                    | 16.137ms         |"
      ]
     },
     "metadata": {},
     "output_type": "display_data"
    },
    {
     "data": {
      "text/html": [
       "<pre>| 209       | 100            | 1          | 1                    | 16.147ms         |</pre>"
      ],
      "text/plain": [
       "| 209       | 100            | 1          | 1                    | 16.147ms         |"
      ]
     },
     "metadata": {},
     "output_type": "display_data"
    },
    {
     "data": {
      "text/html": [
       "<pre>| 210       | 100            | 1          | 1                    | 16.355ms         |</pre>"
      ],
      "text/plain": [
       "| 210       | 100            | 1          | 1                    | 16.355ms         |"
      ]
     },
     "metadata": {},
     "output_type": "display_data"
    },
    {
     "data": {
      "text/html": [
       "<pre>| 211       | 100            | 1          | 1                    | 16.367ms         |</pre>"
      ],
      "text/plain": [
       "| 211       | 100            | 1          | 1                    | 16.367ms         |"
      ]
     },
     "metadata": {},
     "output_type": "display_data"
    },
    {
     "data": {
      "text/html": [
       "<pre>| 212       | 100            | 1          | 1                    | 16.393ms         |</pre>"
      ],
      "text/plain": [
       "| 212       | 100            | 1          | 1                    | 16.393ms         |"
      ]
     },
     "metadata": {},
     "output_type": "display_data"
    },
    {
     "data": {
      "text/html": [
       "<pre>| 213       | 100            | 1          | 1                    | 16.404ms         |</pre>"
      ],
      "text/plain": [
       "| 213       | 100            | 1          | 1                    | 16.404ms         |"
      ]
     },
     "metadata": {},
     "output_type": "display_data"
    },
    {
     "data": {
      "text/html": [
       "<pre>| 214       | 100            | 1          | 1                    | 16.414ms         |</pre>"
      ],
      "text/plain": [
       "| 214       | 100            | 1          | 1                    | 16.414ms         |"
      ]
     },
     "metadata": {},
     "output_type": "display_data"
    },
    {
     "data": {
      "text/html": [
       "<pre>| 215       | 100            | 1          | 1                    | 16.424ms         |</pre>"
      ],
      "text/plain": [
       "| 215       | 100            | 1          | 1                    | 16.424ms         |"
      ]
     },
     "metadata": {},
     "output_type": "display_data"
    },
    {
     "data": {
      "text/html": [
       "<pre>| 216       | 100            | 1          | 1                    | 16.433ms         |</pre>"
      ],
      "text/plain": [
       "| 216       | 100            | 1          | 1                    | 16.433ms         |"
      ]
     },
     "metadata": {},
     "output_type": "display_data"
    },
    {
     "data": {
      "text/html": [
       "<pre>| 217       | 100            | 1          | 1                    | 16.443ms         |</pre>"
      ],
      "text/plain": [
       "| 217       | 100            | 1          | 1                    | 16.443ms         |"
      ]
     },
     "metadata": {},
     "output_type": "display_data"
    },
    {
     "data": {
      "text/html": [
       "<pre>| 218       | 100            | 1          | 1                    | 16.453ms         |</pre>"
      ],
      "text/plain": [
       "| 218       | 100            | 1          | 1                    | 16.453ms         |"
      ]
     },
     "metadata": {},
     "output_type": "display_data"
    },
    {
     "data": {
      "text/html": [
       "<pre>| 219       | 100            | 1          | 1                    | 16.462ms         |</pre>"
      ],
      "text/plain": [
       "| 219       | 100            | 1          | 1                    | 16.462ms         |"
      ]
     },
     "metadata": {},
     "output_type": "display_data"
    },
    {
     "data": {
      "text/html": [
       "<pre>| 220       | 100            | 1          | 1                    | 16.472ms         |</pre>"
      ],
      "text/plain": [
       "| 220       | 100            | 1          | 1                    | 16.472ms         |"
      ]
     },
     "metadata": {},
     "output_type": "display_data"
    },
    {
     "data": {
      "text/html": [
       "<pre>| 221       | 100            | 1          | 1                    | 16.517ms         |</pre>"
      ],
      "text/plain": [
       "| 221       | 100            | 1          | 1                    | 16.517ms         |"
      ]
     },
     "metadata": {},
     "output_type": "display_data"
    },
    {
     "data": {
      "text/html": [
       "<pre>| 222       | 100            | 1          | 1                    | 17.131ms         |</pre>"
      ],
      "text/plain": [
       "| 222       | 100            | 1          | 1                    | 17.131ms         |"
      ]
     },
     "metadata": {},
     "output_type": "display_data"
    },
    {
     "data": {
      "text/html": [
       "<pre>| 223       | 100            | 1          | 1                    | 17.2ms           |</pre>"
      ],
      "text/plain": [
       "| 223       | 100            | 1          | 1                    | 17.2ms           |"
      ]
     },
     "metadata": {},
     "output_type": "display_data"
    },
    {
     "data": {
      "text/html": [
       "<pre>| 224       | 100            | 1          | 1                    | 17.219ms         |</pre>"
      ],
      "text/plain": [
       "| 224       | 100            | 1          | 1                    | 17.219ms         |"
      ]
     },
     "metadata": {},
     "output_type": "display_data"
    },
    {
     "data": {
      "text/html": [
       "<pre>| 225       | 100            | 1          | 1                    | 17.233ms         |</pre>"
      ],
      "text/plain": [
       "| 225       | 100            | 1          | 1                    | 17.233ms         |"
      ]
     },
     "metadata": {},
     "output_type": "display_data"
    },
    {
     "data": {
      "text/html": [
       "<pre>| 226       | 100            | 1          | 1                    | 17.828ms         |</pre>"
      ],
      "text/plain": [
       "| 226       | 100            | 1          | 1                    | 17.828ms         |"
      ]
     },
     "metadata": {},
     "output_type": "display_data"
    },
    {
     "data": {
      "text/html": [
       "<pre>| 227       | 100            | 1          | 1                    | 18.107ms         |</pre>"
      ],
      "text/plain": [
       "| 227       | 100            | 1          | 1                    | 18.107ms         |"
      ]
     },
     "metadata": {},
     "output_type": "display_data"
    },
    {
     "data": {
      "text/html": [
       "<pre>| 228       | 100            | 1          | 1                    | 18.129ms         |</pre>"
      ],
      "text/plain": [
       "| 228       | 100            | 1          | 1                    | 18.129ms         |"
      ]
     },
     "metadata": {},
     "output_type": "display_data"
    },
    {
     "data": {
      "text/html": [
       "<pre>| 229       | 100            | 1          | 1                    | 18.14ms          |</pre>"
      ],
      "text/plain": [
       "| 229       | 100            | 1          | 1                    | 18.14ms          |"
      ]
     },
     "metadata": {},
     "output_type": "display_data"
    },
    {
     "data": {
      "text/html": [
       "<pre>| 230       | 100            | 1          | 1                    | 18.151ms         |</pre>"
      ],
      "text/plain": [
       "| 230       | 100            | 1          | 1                    | 18.151ms         |"
      ]
     },
     "metadata": {},
     "output_type": "display_data"
    },
    {
     "data": {
      "text/html": [
       "<pre>| 231       | 100            | 1          | 1                    | 18.161ms         |</pre>"
      ],
      "text/plain": [
       "| 231       | 100            | 1          | 1                    | 18.161ms         |"
      ]
     },
     "metadata": {},
     "output_type": "display_data"
    },
    {
     "data": {
      "text/html": [
       "<pre>| 232       | 100            | 1          | 1                    | 18.458ms         |</pre>"
      ],
      "text/plain": [
       "| 232       | 100            | 1          | 1                    | 18.458ms         |"
      ]
     },
     "metadata": {},
     "output_type": "display_data"
    },
    {
     "data": {
      "text/html": [
       "<pre>| 233       | 100            | 1          | 1                    | 18.535ms         |</pre>"
      ],
      "text/plain": [
       "| 233       | 100            | 1          | 1                    | 18.535ms         |"
      ]
     },
     "metadata": {},
     "output_type": "display_data"
    },
    {
     "data": {
      "text/html": [
       "<pre>| 234       | 100            | 1          | 1                    | 18.554ms         |</pre>"
      ],
      "text/plain": [
       "| 234       | 100            | 1          | 1                    | 18.554ms         |"
      ]
     },
     "metadata": {},
     "output_type": "display_data"
    },
    {
     "data": {
      "text/html": [
       "<pre>| 235       | 100            | 1          | 1                    | 18.568ms         |</pre>"
      ],
      "text/plain": [
       "| 235       | 100            | 1          | 1                    | 18.568ms         |"
      ]
     },
     "metadata": {},
     "output_type": "display_data"
    },
    {
     "data": {
      "text/html": [
       "<pre>| 236       | 100            | 1          | 1                    | 18.585ms         |</pre>"
      ],
      "text/plain": [
       "| 236       | 100            | 1          | 1                    | 18.585ms         |"
      ]
     },
     "metadata": {},
     "output_type": "display_data"
    },
    {
     "data": {
      "text/html": [
       "<pre>| 237       | 100            | 1          | 1                    | 19.669ms         |</pre>"
      ],
      "text/plain": [
       "| 237       | 100            | 1          | 1                    | 19.669ms         |"
      ]
     },
     "metadata": {},
     "output_type": "display_data"
    },
    {
     "data": {
      "text/html": [
       "<pre>| 238       | 100            | 1          | 1                    | 19.707ms         |</pre>"
      ],
      "text/plain": [
       "| 238       | 100            | 1          | 1                    | 19.707ms         |"
      ]
     },
     "metadata": {},
     "output_type": "display_data"
    },
    {
     "data": {
      "text/html": [
       "<pre>| 239       | 100            | 1          | 1                    | 19.725ms         |</pre>"
      ],
      "text/plain": [
       "| 239       | 100            | 1          | 1                    | 19.725ms         |"
      ]
     },
     "metadata": {},
     "output_type": "display_data"
    },
    {
     "data": {
      "text/html": [
       "<pre>| 240       | 100            | 1          | 1                    | 19.743ms         |</pre>"
      ],
      "text/plain": [
       "| 240       | 100            | 1          | 1                    | 19.743ms         |"
      ]
     },
     "metadata": {},
     "output_type": "display_data"
    },
    {
     "data": {
      "text/html": [
       "<pre>| 241       | 100            | 1          | 1                    | 19.759ms         |</pre>"
      ],
      "text/plain": [
       "| 241       | 100            | 1          | 1                    | 19.759ms         |"
      ]
     },
     "metadata": {},
     "output_type": "display_data"
    },
    {
     "data": {
      "text/html": [
       "<pre>| 242       | 100            | 1          | 1                    | 19.776ms         |</pre>"
      ],
      "text/plain": [
       "| 242       | 100            | 1          | 1                    | 19.776ms         |"
      ]
     },
     "metadata": {},
     "output_type": "display_data"
    },
    {
     "data": {
      "text/html": [
       "<pre>| 243       | 100            | 1          | 1                    | 19.793ms         |</pre>"
      ],
      "text/plain": [
       "| 243       | 100            | 1          | 1                    | 19.793ms         |"
      ]
     },
     "metadata": {},
     "output_type": "display_data"
    },
    {
     "data": {
      "text/html": [
       "<pre>| 244       | 100            | 1          | 1                    | 19.803ms         |</pre>"
      ],
      "text/plain": [
       "| 244       | 100            | 1          | 1                    | 19.803ms         |"
      ]
     },
     "metadata": {},
     "output_type": "display_data"
    },
    {
     "data": {
      "text/html": [
       "<pre>| 245       | 100            | 1          | 1                    | 19.813ms         |</pre>"
      ],
      "text/plain": [
       "| 245       | 100            | 1          | 1                    | 19.813ms         |"
      ]
     },
     "metadata": {},
     "output_type": "display_data"
    },
    {
     "data": {
      "text/html": [
       "<pre>| 246       | 100            | 1          | 1                    | 19.826ms         |</pre>"
      ],
      "text/plain": [
       "| 246       | 100            | 1          | 1                    | 19.826ms         |"
      ]
     },
     "metadata": {},
     "output_type": "display_data"
    },
    {
     "data": {
      "text/html": [
       "<pre>| 247       | 100            | 1          | 1                    | 19.98ms          |</pre>"
      ],
      "text/plain": [
       "| 247       | 100            | 1          | 1                    | 19.98ms          |"
      ]
     },
     "metadata": {},
     "output_type": "display_data"
    },
    {
     "data": {
      "text/html": [
       "<pre>| 248       | 100            | 1          | 1                    | 20.004ms         |</pre>"
      ],
      "text/plain": [
       "| 248       | 100            | 1          | 1                    | 20.004ms         |"
      ]
     },
     "metadata": {},
     "output_type": "display_data"
    },
    {
     "data": {
      "text/html": [
       "<pre>| 249       | 100            | 1          | 1                    | 20.982ms         |</pre>"
      ],
      "text/plain": [
       "| 249       | 100            | 1          | 1                    | 20.982ms         |"
      ]
     },
     "metadata": {},
     "output_type": "display_data"
    },
    {
     "data": {
      "text/html": [
       "<pre>| 250       | 100            | 1          | 1                    | 21.02ms          |</pre>"
      ],
      "text/plain": [
       "| 250       | 100            | 1          | 1                    | 21.02ms          |"
      ]
     },
     "metadata": {},
     "output_type": "display_data"
    },
    {
     "data": {
      "text/html": [
       "<pre>| 251       | 100            | 1          | 1                    | 21.059ms         |</pre>"
      ],
      "text/plain": [
       "| 251       | 100            | 1          | 1                    | 21.059ms         |"
      ]
     },
     "metadata": {},
     "output_type": "display_data"
    },
    {
     "data": {
      "text/html": [
       "<pre>| 252       | 100            | 1          | 1                    | 22.556ms         |</pre>"
      ],
      "text/plain": [
       "| 252       | 100            | 1          | 1                    | 22.556ms         |"
      ]
     },
     "metadata": {},
     "output_type": "display_data"
    },
    {
     "data": {
      "text/html": [
       "<pre>| 253       | 100            | 1          | 1                    | 22.608ms         |</pre>"
      ],
      "text/plain": [
       "| 253       | 100            | 1          | 1                    | 22.608ms         |"
      ]
     },
     "metadata": {},
     "output_type": "display_data"
    },
    {
     "data": {
      "text/html": [
       "<pre>| 254       | 100            | 1          | 1                    | 22.643ms         |</pre>"
      ],
      "text/plain": [
       "| 254       | 100            | 1          | 1                    | 22.643ms         |"
      ]
     },
     "metadata": {},
     "output_type": "display_data"
    },
    {
     "data": {
      "text/html": [
       "<pre>| 255       | 100            | 1          | 1                    | 23.252ms         |</pre>"
      ],
      "text/plain": [
       "| 255       | 100            | 1          | 1                    | 23.252ms         |"
      ]
     },
     "metadata": {},
     "output_type": "display_data"
    },
    {
     "data": {
      "text/html": [
       "<pre>| 256       | 100            | 1          | 1                    | 23.284ms         |</pre>"
      ],
      "text/plain": [
       "| 256       | 100            | 1          | 1                    | 23.284ms         |"
      ]
     },
     "metadata": {},
     "output_type": "display_data"
    },
    {
     "data": {
      "text/html": [
       "<pre>| 257       | 100            | 1          | 1                    | 23.303ms         |</pre>"
      ],
      "text/plain": [
       "| 257       | 100            | 1          | 1                    | 23.303ms         |"
      ]
     },
     "metadata": {},
     "output_type": "display_data"
    },
    {
     "data": {
      "text/html": [
       "<pre>| 258       | 100            | 1          | 1                    | 23.331ms         |</pre>"
      ],
      "text/plain": [
       "| 258       | 100            | 1          | 1                    | 23.331ms         |"
      ]
     },
     "metadata": {},
     "output_type": "display_data"
    },
    {
     "data": {
      "text/html": [
       "<pre>| 259       | 100            | 1          | 1                    | 23.371ms         |</pre>"
      ],
      "text/plain": [
       "| 259       | 100            | 1          | 1                    | 23.371ms         |"
      ]
     },
     "metadata": {},
     "output_type": "display_data"
    },
    {
     "data": {
      "text/html": [
       "<pre>| 260       | 100            | 1          | 1                    | 23.889ms         |</pre>"
      ],
      "text/plain": [
       "| 260       | 100            | 1          | 1                    | 23.889ms         |"
      ]
     },
     "metadata": {},
     "output_type": "display_data"
    },
    {
     "data": {
      "text/html": [
       "<pre>| 261       | 100            | 1          | 1                    | 23.92ms          |</pre>"
      ],
      "text/plain": [
       "| 261       | 100            | 1          | 1                    | 23.92ms          |"
      ]
     },
     "metadata": {},
     "output_type": "display_data"
    },
    {
     "data": {
      "text/html": [
       "<pre>| 262       | 100            | 1          | 1                    | 23.932ms         |</pre>"
      ],
      "text/plain": [
       "| 262       | 100            | 1          | 1                    | 23.932ms         |"
      ]
     },
     "metadata": {},
     "output_type": "display_data"
    },
    {
     "data": {
      "text/html": [
       "<pre>| 263       | 100            | 1          | 1                    | 23.942ms         |</pre>"
      ],
      "text/plain": [
       "| 263       | 100            | 1          | 1                    | 23.942ms         |"
      ]
     },
     "metadata": {},
     "output_type": "display_data"
    },
    {
     "data": {
      "text/html": [
       "<pre>| 264       | 100            | 1          | 1                    | 24.003ms         |</pre>"
      ],
      "text/plain": [
       "| 264       | 100            | 1          | 1                    | 24.003ms         |"
      ]
     },
     "metadata": {},
     "output_type": "display_data"
    },
    {
     "data": {
      "text/html": [
       "<pre>| 265       | 100            | 1          | 1                    | 24.508ms         |</pre>"
      ],
      "text/plain": [
       "| 265       | 100            | 1          | 1                    | 24.508ms         |"
      ]
     },
     "metadata": {},
     "output_type": "display_data"
    },
    {
     "data": {
      "text/html": [
       "<pre>| 266       | 100            | 1          | 1                    | 24.537ms         |</pre>"
      ],
      "text/plain": [
       "| 266       | 100            | 1          | 1                    | 24.537ms         |"
      ]
     },
     "metadata": {},
     "output_type": "display_data"
    },
    {
     "data": {
      "text/html": [
       "<pre>| 267       | 100            | 1          | 1                    | 24.557ms         |</pre>"
      ],
      "text/plain": [
       "| 267       | 100            | 1          | 1                    | 24.557ms         |"
      ]
     },
     "metadata": {},
     "output_type": "display_data"
    },
    {
     "data": {
      "text/html": [
       "<pre>| 268       | 100            | 1          | 1                    | 24.569ms         |</pre>"
      ],
      "text/plain": [
       "| 268       | 100            | 1          | 1                    | 24.569ms         |"
      ]
     },
     "metadata": {},
     "output_type": "display_data"
    },
    {
     "data": {
      "text/html": [
       "<pre>| 269       | 100            | 1          | 1                    | 24.616ms         |</pre>"
      ],
      "text/plain": [
       "| 269       | 100            | 1          | 1                    | 24.616ms         |"
      ]
     },
     "metadata": {},
     "output_type": "display_data"
    },
    {
     "data": {
      "text/html": [
       "<pre>| 270       | 100            | 1          | 1                    | 24.636ms         |</pre>"
      ],
      "text/plain": [
       "| 270       | 100            | 1          | 1                    | 24.636ms         |"
      ]
     },
     "metadata": {},
     "output_type": "display_data"
    },
    {
     "data": {
      "text/html": [
       "<pre>| 271       | 100            | 1          | 1                    | 24.655ms         |</pre>"
      ],
      "text/plain": [
       "| 271       | 100            | 1          | 1                    | 24.655ms         |"
      ]
     },
     "metadata": {},
     "output_type": "display_data"
    },
    {
     "data": {
      "text/html": [
       "<pre>| 272       | 100            | 1          | 1                    | 26.051ms         |</pre>"
      ],
      "text/plain": [
       "| 272       | 100            | 1          | 1                    | 26.051ms         |"
      ]
     },
     "metadata": {},
     "output_type": "display_data"
    },
    {
     "data": {
      "text/html": [
       "<pre>| 273       | 100            | 1          | 1                    | 26.072ms         |</pre>"
      ],
      "text/plain": [
       "| 273       | 100            | 1          | 1                    | 26.072ms         |"
      ]
     },
     "metadata": {},
     "output_type": "display_data"
    },
    {
     "data": {
      "text/html": [
       "<pre>| 274       | 100            | 1          | 1                    | 26.088ms         |</pre>"
      ],
      "text/plain": [
       "| 274       | 100            | 1          | 1                    | 26.088ms         |"
      ]
     },
     "metadata": {},
     "output_type": "display_data"
    },
    {
     "data": {
      "text/html": [
       "<pre>| 275       | 100            | 1          | 1                    | 26.753ms         |</pre>"
      ],
      "text/plain": [
       "| 275       | 100            | 1          | 1                    | 26.753ms         |"
      ]
     },
     "metadata": {},
     "output_type": "display_data"
    },
    {
     "data": {
      "text/html": [
       "<pre>| 276       | 100            | 1          | 1                    | 26.772ms         |</pre>"
      ],
      "text/plain": [
       "| 276       | 100            | 1          | 1                    | 26.772ms         |"
      ]
     },
     "metadata": {},
     "output_type": "display_data"
    },
    {
     "data": {
      "text/html": [
       "<pre>| 277       | 100            | 1          | 1                    | 26.787ms         |</pre>"
      ],
      "text/plain": [
       "| 277       | 100            | 1          | 1                    | 26.787ms         |"
      ]
     },
     "metadata": {},
     "output_type": "display_data"
    },
    {
     "data": {
      "text/html": [
       "<pre>| 278       | 100            | 1          | 1                    | 26.808ms         |</pre>"
      ],
      "text/plain": [
       "| 278       | 100            | 1          | 1                    | 26.808ms         |"
      ]
     },
     "metadata": {},
     "output_type": "display_data"
    },
    {
     "data": {
      "text/html": [
       "<pre>| 279       | 100            | 1          | 1                    | 26.818ms         |</pre>"
      ],
      "text/plain": [
       "| 279       | 100            | 1          | 1                    | 26.818ms         |"
      ]
     },
     "metadata": {},
     "output_type": "display_data"
    },
    {
     "data": {
      "text/html": [
       "<pre>| 280       | 100            | 1          | 1                    | 26.828ms         |</pre>"
      ],
      "text/plain": [
       "| 280       | 100            | 1          | 1                    | 26.828ms         |"
      ]
     },
     "metadata": {},
     "output_type": "display_data"
    },
    {
     "data": {
      "text/html": [
       "<pre>| 281       | 100            | 1          | 1                    | 26.851ms         |</pre>"
      ],
      "text/plain": [
       "| 281       | 100            | 1          | 1                    | 26.851ms         |"
      ]
     },
     "metadata": {},
     "output_type": "display_data"
    },
    {
     "data": {
      "text/html": [
       "<pre>| 282       | 100            | 1          | 1                    | 27.567ms         |</pre>"
      ],
      "text/plain": [
       "| 282       | 100            | 1          | 1                    | 27.567ms         |"
      ]
     },
     "metadata": {},
     "output_type": "display_data"
    },
    {
     "data": {
      "text/html": [
       "<pre>| 283       | 100            | 1          | 1                    | 27.588ms         |</pre>"
      ],
      "text/plain": [
       "| 283       | 100            | 1          | 1                    | 27.588ms         |"
      ]
     },
     "metadata": {},
     "output_type": "display_data"
    },
    {
     "data": {
      "text/html": [
       "<pre>| 284       | 100            | 1          | 1                    | 27.599ms         |</pre>"
      ],
      "text/plain": [
       "| 284       | 100            | 1          | 1                    | 27.599ms         |"
      ]
     },
     "metadata": {},
     "output_type": "display_data"
    },
    {
     "data": {
      "text/html": [
       "<pre>| 285       | 100            | 1          | 1                    | 28.271ms         |</pre>"
      ],
      "text/plain": [
       "| 285       | 100            | 1          | 1                    | 28.271ms         |"
      ]
     },
     "metadata": {},
     "output_type": "display_data"
    },
    {
     "data": {
      "text/html": [
       "<pre>| 286       | 100            | 1          | 1                    | 28.299ms         |</pre>"
      ],
      "text/plain": [
       "| 286       | 100            | 1          | 1                    | 28.299ms         |"
      ]
     },
     "metadata": {},
     "output_type": "display_data"
    },
    {
     "data": {
      "text/html": [
       "<pre>| 287       | 100            | 1          | 1                    | 28.32ms          |</pre>"
      ],
      "text/plain": [
       "| 287       | 100            | 1          | 1                    | 28.32ms          |"
      ]
     },
     "metadata": {},
     "output_type": "display_data"
    },
    {
     "data": {
      "text/html": [
       "<pre>| 288       | 100            | 1          | 1                    | 28.343ms         |</pre>"
      ],
      "text/plain": [
       "| 288       | 100            | 1          | 1                    | 28.343ms         |"
      ]
     },
     "metadata": {},
     "output_type": "display_data"
    },
    {
     "data": {
      "text/html": [
       "<pre>| 289       | 100            | 1          | 1                    | 28.354ms         |</pre>"
      ],
      "text/plain": [
       "| 289       | 100            | 1          | 1                    | 28.354ms         |"
      ]
     },
     "metadata": {},
     "output_type": "display_data"
    },
    {
     "data": {
      "text/html": [
       "<pre>| 290       | 100            | 1          | 1                    | 28.423ms         |</pre>"
      ],
      "text/plain": [
       "| 290       | 100            | 1          | 1                    | 28.423ms         |"
      ]
     },
     "metadata": {},
     "output_type": "display_data"
    },
    {
     "data": {
      "text/html": [
       "<pre>| 291       | 100            | 1          | 1                    | 28.438ms         |</pre>"
      ],
      "text/plain": [
       "| 291       | 100            | 1          | 1                    | 28.438ms         |"
      ]
     },
     "metadata": {},
     "output_type": "display_data"
    },
    {
     "data": {
      "text/html": [
       "<pre>| 292       | 100            | 1          | 1                    | 28.455ms         |</pre>"
      ],
      "text/plain": [
       "| 292       | 100            | 1          | 1                    | 28.455ms         |"
      ]
     },
     "metadata": {},
     "output_type": "display_data"
    },
    {
     "data": {
      "text/html": [
       "<pre>| 293       | 100            | 1          | 1                    | 28.475ms         |</pre>"
      ],
      "text/plain": [
       "| 293       | 100            | 1          | 1                    | 28.475ms         |"
      ]
     },
     "metadata": {},
     "output_type": "display_data"
    },
    {
     "data": {
      "text/html": [
       "<pre>| 294       | 100            | 1          | 1                    | 29.142ms         |</pre>"
      ],
      "text/plain": [
       "| 294       | 100            | 1          | 1                    | 29.142ms         |"
      ]
     },
     "metadata": {},
     "output_type": "display_data"
    },
    {
     "data": {
      "text/html": [
       "<pre>| 295       | 100            | 1          | 1                    | 29.162ms         |</pre>"
      ],
      "text/plain": [
       "| 295       | 100            | 1          | 1                    | 29.162ms         |"
      ]
     },
     "metadata": {},
     "output_type": "display_data"
    },
    {
     "data": {
      "text/html": [
       "<pre>| 296       | 100            | 1          | 1                    | 30.356ms         |</pre>"
      ],
      "text/plain": [
       "| 296       | 100            | 1          | 1                    | 30.356ms         |"
      ]
     },
     "metadata": {},
     "output_type": "display_data"
    },
    {
     "data": {
      "text/html": [
       "<pre>| 297       | 100            | 1          | 1                    | 30.379ms         |</pre>"
      ],
      "text/plain": [
       "| 297       | 100            | 1          | 1                    | 30.379ms         |"
      ]
     },
     "metadata": {},
     "output_type": "display_data"
    },
    {
     "data": {
      "text/html": [
       "<pre>| 298       | 100            | 1          | 1                    | 30.391ms         |</pre>"
      ],
      "text/plain": [
       "| 298       | 100            | 1          | 1                    | 30.391ms         |"
      ]
     },
     "metadata": {},
     "output_type": "display_data"
    },
    {
     "data": {
      "text/html": [
       "<pre>| 299       | 100            | 1          | 1                    | 30.406ms         |</pre>"
      ],
      "text/plain": [
       "| 299       | 100            | 1          | 1                    | 30.406ms         |"
      ]
     },
     "metadata": {},
     "output_type": "display_data"
    },
    {
     "data": {
      "text/html": [
       "<pre>| 300       | 100            | 1          | 1                    | 30.416ms         |</pre>"
      ],
      "text/plain": [
       "| 300       | 100            | 1          | 1                    | 30.416ms         |"
      ]
     },
     "metadata": {},
     "output_type": "display_data"
    },
    {
     "data": {
      "text/html": [
       "<pre>| 301       | 100            | 1          | 1                    | 30.437ms         |</pre>"
      ],
      "text/plain": [
       "| 301       | 100            | 1          | 1                    | 30.437ms         |"
      ]
     },
     "metadata": {},
     "output_type": "display_data"
    },
    {
     "data": {
      "text/html": [
       "<pre>| 302       | 100            | 1          | 1                    | 30.478ms         |</pre>"
      ],
      "text/plain": [
       "| 302       | 100            | 1          | 1                    | 30.478ms         |"
      ]
     },
     "metadata": {},
     "output_type": "display_data"
    },
    {
     "data": {
      "text/html": [
       "<pre>| 303       | 100            | 1          | 1                    | 30.49ms          |</pre>"
      ],
      "text/plain": [
       "| 303       | 100            | 1          | 1                    | 30.49ms          |"
      ]
     },
     "metadata": {},
     "output_type": "display_data"
    },
    {
     "data": {
      "text/html": [
       "<pre>| 304       | 100            | 1          | 1                    | 30.501ms         |</pre>"
      ],
      "text/plain": [
       "| 304       | 100            | 1          | 1                    | 30.501ms         |"
      ]
     },
     "metadata": {},
     "output_type": "display_data"
    },
    {
     "data": {
      "text/html": [
       "<pre>| 305       | 100            | 1          | 1                    | 30.515ms         |</pre>"
      ],
      "text/plain": [
       "| 305       | 100            | 1          | 1                    | 30.515ms         |"
      ]
     },
     "metadata": {},
     "output_type": "display_data"
    },
    {
     "data": {
      "text/html": [
       "<pre>| 306       | 100            | 1          | 1                    | 30.525ms         |</pre>"
      ],
      "text/plain": [
       "| 306       | 100            | 1          | 1                    | 30.525ms         |"
      ]
     },
     "metadata": {},
     "output_type": "display_data"
    },
    {
     "data": {
      "text/html": [
       "<pre>| 307       | 100            | 1          | 1                    | 30.535ms         |</pre>"
      ],
      "text/plain": [
       "| 307       | 100            | 1          | 1                    | 30.535ms         |"
      ]
     },
     "metadata": {},
     "output_type": "display_data"
    },
    {
     "data": {
      "text/html": [
       "<pre>| 308       | 100            | 1          | 1                    | 30.545ms         |</pre>"
      ],
      "text/plain": [
       "| 308       | 100            | 1          | 1                    | 30.545ms         |"
      ]
     },
     "metadata": {},
     "output_type": "display_data"
    },
    {
     "data": {
      "text/html": [
       "<pre>| 309       | 100            | 1          | 1                    | 30.555ms         |</pre>"
      ],
      "text/plain": [
       "| 309       | 100            | 1          | 1                    | 30.555ms         |"
      ]
     },
     "metadata": {},
     "output_type": "display_data"
    },
    {
     "data": {
      "text/html": [
       "<pre>| 310       | 100            | 1          | 1                    | 31.891ms         |</pre>"
      ],
      "text/plain": [
       "| 310       | 100            | 1          | 1                    | 31.891ms         |"
      ]
     },
     "metadata": {},
     "output_type": "display_data"
    },
    {
     "data": {
      "text/html": [
       "<pre>| 311       | 100            | 1          | 1                    | 33.252ms         |</pre>"
      ],
      "text/plain": [
       "| 311       | 100            | 1          | 1                    | 33.252ms         |"
      ]
     },
     "metadata": {},
     "output_type": "display_data"
    },
    {
     "data": {
      "text/html": [
       "<pre>| 312       | 100            | 1          | 1                    | 33.359ms         |</pre>"
      ],
      "text/plain": [
       "| 312       | 100            | 1          | 1                    | 33.359ms         |"
      ]
     },
     "metadata": {},
     "output_type": "display_data"
    },
    {
     "data": {
      "text/html": [
       "<pre>| 313       | 100            | 1          | 1                    | 33.393ms         |</pre>"
      ],
      "text/plain": [
       "| 313       | 100            | 1          | 1                    | 33.393ms         |"
      ]
     },
     "metadata": {},
     "output_type": "display_data"
    },
    {
     "data": {
      "text/html": [
       "<pre>| 314       | 100            | 1          | 1                    | 33.406ms         |</pre>"
      ],
      "text/plain": [
       "| 314       | 100            | 1          | 1                    | 33.406ms         |"
      ]
     },
     "metadata": {},
     "output_type": "display_data"
    },
    {
     "data": {
      "text/html": [
       "<pre>| 315       | 100            | 1          | 1                    | 34.078ms         |</pre>"
      ],
      "text/plain": [
       "| 315       | 100            | 1          | 1                    | 34.078ms         |"
      ]
     },
     "metadata": {},
     "output_type": "display_data"
    },
    {
     "data": {
      "text/html": [
       "<pre>| 316       | 100            | 1          | 1                    | 34.115ms         |</pre>"
      ],
      "text/plain": [
       "| 316       | 100            | 1          | 1                    | 34.115ms         |"
      ]
     },
     "metadata": {},
     "output_type": "display_data"
    },
    {
     "data": {
      "text/html": [
       "<pre>| 317       | 100            | 1          | 1                    | 34.127ms         |</pre>"
      ],
      "text/plain": [
       "| 317       | 100            | 1          | 1                    | 34.127ms         |"
      ]
     },
     "metadata": {},
     "output_type": "display_data"
    },
    {
     "data": {
      "text/html": [
       "<pre>| 318       | 100            | 1          | 1                    | 34.138ms         |</pre>"
      ],
      "text/plain": [
       "| 318       | 100            | 1          | 1                    | 34.138ms         |"
      ]
     },
     "metadata": {},
     "output_type": "display_data"
    },
    {
     "data": {
      "text/html": [
       "<pre>| 319       | 100            | 1          | 1                    | 34.148ms         |</pre>"
      ],
      "text/plain": [
       "| 319       | 100            | 1          | 1                    | 34.148ms         |"
      ]
     },
     "metadata": {},
     "output_type": "display_data"
    },
    {
     "data": {
      "text/html": [
       "<pre>| 320       | 100            | 1          | 1                    | 34.17ms          |</pre>"
      ],
      "text/plain": [
       "| 320       | 100            | 1          | 1                    | 34.17ms          |"
      ]
     },
     "metadata": {},
     "output_type": "display_data"
    },
    {
     "data": {
      "text/html": [
       "<pre>| 321       | 100            | 1          | 1                    | 34.226ms         |</pre>"
      ],
      "text/plain": [
       "| 321       | 100            | 1          | 1                    | 34.226ms         |"
      ]
     },
     "metadata": {},
     "output_type": "display_data"
    },
    {
     "data": {
      "text/html": [
       "<pre>| 322       | 100            | 1          | 1                    | 34.26ms          |</pre>"
      ],
      "text/plain": [
       "| 322       | 100            | 1          | 1                    | 34.26ms          |"
      ]
     },
     "metadata": {},
     "output_type": "display_data"
    },
    {
     "data": {
      "text/html": [
       "<pre>| 323       | 100            | 1          | 1                    | 34.38ms          |</pre>"
      ],
      "text/plain": [
       "| 323       | 100            | 1          | 1                    | 34.38ms          |"
      ]
     },
     "metadata": {},
     "output_type": "display_data"
    },
    {
     "data": {
      "text/html": [
       "<pre>| 324       | 100            | 1          | 1                    | 34.428ms         |</pre>"
      ],
      "text/plain": [
       "| 324       | 100            | 1          | 1                    | 34.428ms         |"
      ]
     },
     "metadata": {},
     "output_type": "display_data"
    },
    {
     "data": {
      "text/html": [
       "<pre>| 325       | 100            | 1          | 1                    | 36.051ms         |</pre>"
      ],
      "text/plain": [
       "| 325       | 100            | 1          | 1                    | 36.051ms         |"
      ]
     },
     "metadata": {},
     "output_type": "display_data"
    },
    {
     "data": {
      "text/html": [
       "<pre>| 326       | 100            | 1          | 1                    | 37.637ms         |</pre>"
      ],
      "text/plain": [
       "| 326       | 100            | 1          | 1                    | 37.637ms         |"
      ]
     },
     "metadata": {},
     "output_type": "display_data"
    },
    {
     "data": {
      "text/html": [
       "<pre>| 327       | 100            | 1          | 1                    | 37.674ms         |</pre>"
      ],
      "text/plain": [
       "| 327       | 100            | 1          | 1                    | 37.674ms         |"
      ]
     },
     "metadata": {},
     "output_type": "display_data"
    },
    {
     "data": {
      "text/html": [
       "<pre>| 328       | 100            | 1          | 1                    | 37.849ms         |</pre>"
      ],
      "text/plain": [
       "| 328       | 100            | 1          | 1                    | 37.849ms         |"
      ]
     },
     "metadata": {},
     "output_type": "display_data"
    },
    {
     "data": {
      "text/html": [
       "<pre>| 329       | 100            | 1          | 1                    | 37.897ms         |</pre>"
      ],
      "text/plain": [
       "| 329       | 100            | 1          | 1                    | 37.897ms         |"
      ]
     },
     "metadata": {},
     "output_type": "display_data"
    },
    {
     "data": {
      "text/html": [
       "<pre>| 330       | 100            | 1          | 1                    | 37.92ms          |</pre>"
      ],
      "text/plain": [
       "| 330       | 100            | 1          | 1                    | 37.92ms          |"
      ]
     },
     "metadata": {},
     "output_type": "display_data"
    },
    {
     "data": {
      "text/html": [
       "<pre>| 331       | 100            | 1          | 1                    | 39.08ms          |</pre>"
      ],
      "text/plain": [
       "| 331       | 100            | 1          | 1                    | 39.08ms          |"
      ]
     },
     "metadata": {},
     "output_type": "display_data"
    },
    {
     "data": {
      "text/html": [
       "<pre>| 332       | 100            | 1          | 1                    | 41.942ms         |</pre>"
      ],
      "text/plain": [
       "| 332       | 100            | 1          | 1                    | 41.942ms         |"
      ]
     },
     "metadata": {},
     "output_type": "display_data"
    },
    {
     "data": {
      "text/html": [
       "<pre>| 333       | 100            | 1          | 1                    | 41.982ms         |</pre>"
      ],
      "text/plain": [
       "| 333       | 100            | 1          | 1                    | 41.982ms         |"
      ]
     },
     "metadata": {},
     "output_type": "display_data"
    },
    {
     "data": {
      "text/html": [
       "<pre>| 334       | 100            | 1          | 1                    | 44.498ms         |</pre>"
      ],
      "text/plain": [
       "| 334       | 100            | 1          | 1                    | 44.498ms         |"
      ]
     },
     "metadata": {},
     "output_type": "display_data"
    },
    {
     "data": {
      "text/html": [
       "<pre>| 335       | 100            | 1          | 1                    | 47.423ms         |</pre>"
      ],
      "text/plain": [
       "| 335       | 100            | 1          | 1                    | 47.423ms         |"
      ]
     },
     "metadata": {},
     "output_type": "display_data"
    },
    {
     "data": {
      "text/html": [
       "<pre>| 336       | 100            | 1          | 1                    | 47.465ms         |</pre>"
      ],
      "text/plain": [
       "| 336       | 100            | 1          | 1                    | 47.465ms         |"
      ]
     },
     "metadata": {},
     "output_type": "display_data"
    },
    {
     "data": {
      "text/html": [
       "<pre>| 337       | 100            | 1          | 1                    | 47.487ms         |</pre>"
      ],
      "text/plain": [
       "| 337       | 100            | 1          | 1                    | 47.487ms         |"
      ]
     },
     "metadata": {},
     "output_type": "display_data"
    },
    {
     "data": {
      "text/html": [
       "<pre>| 338       | 100            | 1          | 1                    | 47.512ms         |</pre>"
      ],
      "text/plain": [
       "| 338       | 100            | 1          | 1                    | 47.512ms         |"
      ]
     },
     "metadata": {},
     "output_type": "display_data"
    },
    {
     "data": {
      "text/html": [
       "<pre>| 339       | 100            | 1          | 1                    | 48.763ms         |</pre>"
      ],
      "text/plain": [
       "| 339       | 100            | 1          | 1                    | 48.763ms         |"
      ]
     },
     "metadata": {},
     "output_type": "display_data"
    },
    {
     "data": {
      "text/html": [
       "<pre>| 340       | 100            | 1          | 1                    | 48.819ms         |</pre>"
      ],
      "text/plain": [
       "| 340       | 100            | 1          | 1                    | 48.819ms         |"
      ]
     },
     "metadata": {},
     "output_type": "display_data"
    },
    {
     "data": {
      "text/html": [
       "<pre>| 341       | 100            | 1          | 1                    | 48.856ms         |</pre>"
      ],
      "text/plain": [
       "| 341       | 100            | 1          | 1                    | 48.856ms         |"
      ]
     },
     "metadata": {},
     "output_type": "display_data"
    },
    {
     "data": {
      "text/html": [
       "<pre>| 342       | 100            | 1          | 1                    | 48.879ms         |</pre>"
      ],
      "text/plain": [
       "| 342       | 100            | 1          | 1                    | 48.879ms         |"
      ]
     },
     "metadata": {},
     "output_type": "display_data"
    },
    {
     "data": {
      "text/html": [
       "<pre>| 343       | 100            | 1          | 1                    | 50.332ms         |</pre>"
      ],
      "text/plain": [
       "| 343       | 100            | 1          | 1                    | 50.332ms         |"
      ]
     },
     "metadata": {},
     "output_type": "display_data"
    },
    {
     "data": {
      "text/html": [
       "<pre>| 344       | 100            | 1          | 1                    | 50.433ms         |</pre>"
      ],
      "text/plain": [
       "| 344       | 100            | 1          | 1                    | 50.433ms         |"
      ]
     },
     "metadata": {},
     "output_type": "display_data"
    },
    {
     "data": {
      "text/html": [
       "<pre>| 345       | 100            | 1          | 1                    | 50.459ms         |</pre>"
      ],
      "text/plain": [
       "| 345       | 100            | 1          | 1                    | 50.459ms         |"
      ]
     },
     "metadata": {},
     "output_type": "display_data"
    },
    {
     "data": {
      "text/html": [
       "<pre>| 346       | 100            | 1          | 1                    | 50.481ms         |</pre>"
      ],
      "text/plain": [
       "| 346       | 100            | 1          | 1                    | 50.481ms         |"
      ]
     },
     "metadata": {},
     "output_type": "display_data"
    },
    {
     "data": {
      "text/html": [
       "<pre>| 347       | 100            | 1          | 1                    | 50.511ms         |</pre>"
      ],
      "text/plain": [
       "| 347       | 100            | 1          | 1                    | 50.511ms         |"
      ]
     },
     "metadata": {},
     "output_type": "display_data"
    },
    {
     "data": {
      "text/html": [
       "<pre>| 348       | 100            | 1          | 1                    | 50.533ms         |</pre>"
      ],
      "text/plain": [
       "| 348       | 100            | 1          | 1                    | 50.533ms         |"
      ]
     },
     "metadata": {},
     "output_type": "display_data"
    },
    {
     "data": {
      "text/html": [
       "<pre>| 349       | 100            | 1          | 1                    | 50.633ms         |</pre>"
      ],
      "text/plain": [
       "| 349       | 100            | 1          | 1                    | 50.633ms         |"
      ]
     },
     "metadata": {},
     "output_type": "display_data"
    },
    {
     "data": {
      "text/html": [
       "<pre>| 350       | 100            | 1          | 1                    | 50.708ms         |</pre>"
      ],
      "text/plain": [
       "| 350       | 100            | 1          | 1                    | 50.708ms         |"
      ]
     },
     "metadata": {},
     "output_type": "display_data"
    },
    {
     "data": {
      "text/html": [
       "<pre>| 351       | 100            | 1          | 1                    | 50.746ms         |</pre>"
      ],
      "text/plain": [
       "| 351       | 100            | 1          | 1                    | 50.746ms         |"
      ]
     },
     "metadata": {},
     "output_type": "display_data"
    },
    {
     "data": {
      "text/html": [
       "<pre>| 352       | 100            | 1          | 1                    | 50.764ms         |</pre>"
      ],
      "text/plain": [
       "| 352       | 100            | 1          | 1                    | 50.764ms         |"
      ]
     },
     "metadata": {},
     "output_type": "display_data"
    },
    {
     "data": {
      "text/html": [
       "<pre>| 353       | 100            | 1          | 1                    | 50.782ms         |</pre>"
      ],
      "text/plain": [
       "| 353       | 100            | 1          | 1                    | 50.782ms         |"
      ]
     },
     "metadata": {},
     "output_type": "display_data"
    },
    {
     "data": {
      "text/html": [
       "<pre>| 354       | 100            | 1          | 1                    | 50.799ms         |</pre>"
      ],
      "text/plain": [
       "| 354       | 100            | 1          | 1                    | 50.799ms         |"
      ]
     },
     "metadata": {},
     "output_type": "display_data"
    },
    {
     "data": {
      "text/html": [
       "<pre>| 355       | 100            | 1          | 1                    | 53.832ms         |</pre>"
      ],
      "text/plain": [
       "| 355       | 100            | 1          | 1                    | 53.832ms         |"
      ]
     },
     "metadata": {},
     "output_type": "display_data"
    },
    {
     "data": {
      "text/html": [
       "<pre>| 356       | 100            | 1          | 1                    | 53.865ms         |</pre>"
      ],
      "text/plain": [
       "| 356       | 100            | 1          | 1                    | 53.865ms         |"
      ]
     },
     "metadata": {},
     "output_type": "display_data"
    },
    {
     "data": {
      "text/html": [
       "<pre>| 357       | 100            | 1          | 1                    | 53.885ms         |</pre>"
      ],
      "text/plain": [
       "| 357       | 100            | 1          | 1                    | 53.885ms         |"
      ]
     },
     "metadata": {},
     "output_type": "display_data"
    },
    {
     "data": {
      "text/html": [
       "<pre>| 358       | 100            | 1          | 1                    | 53.907ms         |</pre>"
      ],
      "text/plain": [
       "| 358       | 100            | 1          | 1                    | 53.907ms         |"
      ]
     },
     "metadata": {},
     "output_type": "display_data"
    },
    {
     "data": {
      "text/html": [
       "<pre>| 359       | 100            | 1          | 1                    | 57.225ms         |</pre>"
      ],
      "text/plain": [
       "| 359       | 100            | 1          | 1                    | 57.225ms         |"
      ]
     },
     "metadata": {},
     "output_type": "display_data"
    },
    {
     "data": {
      "text/html": [
       "<pre>| 360       | 100            | 1          | 1                    | 57.268ms         |</pre>"
      ],
      "text/plain": [
       "| 360       | 100            | 1          | 1                    | 57.268ms         |"
      ]
     },
     "metadata": {},
     "output_type": "display_data"
    },
    {
     "data": {
      "text/html": [
       "<pre>| 361       | 100            | 1          | 1                    | 60.082ms         |</pre>"
      ],
      "text/plain": [
       "| 361       | 100            | 1          | 1                    | 60.082ms         |"
      ]
     },
     "metadata": {},
     "output_type": "display_data"
    },
    {
     "data": {
      "text/html": [
       "<pre>| 362       | 100            | 1          | 1                    | 60.178ms         |</pre>"
      ],
      "text/plain": [
       "| 362       | 100            | 1          | 1                    | 60.178ms         |"
      ]
     },
     "metadata": {},
     "output_type": "display_data"
    },
    {
     "data": {
      "text/html": [
       "<pre>| 363       | 100            | 1          | 1                    | 60.206ms         |</pre>"
      ],
      "text/plain": [
       "| 363       | 100            | 1          | 1                    | 60.206ms         |"
      ]
     },
     "metadata": {},
     "output_type": "display_data"
    },
    {
     "data": {
      "text/html": [
       "<pre>| 364       | 100            | 1          | 1                    | 61.303ms         |</pre>"
      ],
      "text/plain": [
       "| 364       | 100            | 1          | 1                    | 61.303ms         |"
      ]
     },
     "metadata": {},
     "output_type": "display_data"
    },
    {
     "data": {
      "text/html": [
       "<pre>| 365       | 100            | 1          | 1                    | 61.327ms         |</pre>"
      ],
      "text/plain": [
       "| 365       | 100            | 1          | 1                    | 61.327ms         |"
      ]
     },
     "metadata": {},
     "output_type": "display_data"
    },
    {
     "data": {
      "text/html": [
       "<pre>| 366       | 100            | 1          | 1                    | 61.34ms          |</pre>"
      ],
      "text/plain": [
       "| 366       | 100            | 1          | 1                    | 61.34ms          |"
      ]
     },
     "metadata": {},
     "output_type": "display_data"
    },
    {
     "data": {
      "text/html": [
       "<pre>| 367       | 100            | 1          | 1                    | 61.351ms         |</pre>"
      ],
      "text/plain": [
       "| 367       | 100            | 1          | 1                    | 61.351ms         |"
      ]
     },
     "metadata": {},
     "output_type": "display_data"
    },
    {
     "data": {
      "text/html": [
       "<pre>| 368       | 100            | 1          | 1                    | 61.362ms         |</pre>"
      ],
      "text/plain": [
       "| 368       | 100            | 1          | 1                    | 61.362ms         |"
      ]
     },
     "metadata": {},
     "output_type": "display_data"
    },
    {
     "data": {
      "text/html": [
       "<pre>| 369       | 100            | 1          | 1                    | 64.726ms         |</pre>"
      ],
      "text/plain": [
       "| 369       | 100            | 1          | 1                    | 64.726ms         |"
      ]
     },
     "metadata": {},
     "output_type": "display_data"
    },
    {
     "data": {
      "text/html": [
       "<pre>| 370       | 100            | 1          | 1                    | 64.766ms         |</pre>"
      ],
      "text/plain": [
       "| 370       | 100            | 1          | 1                    | 64.766ms         |"
      ]
     },
     "metadata": {},
     "output_type": "display_data"
    },
    {
     "data": {
      "text/html": [
       "<pre>| 371       | 100            | 1          | 1                    | 64.79ms          |</pre>"
      ],
      "text/plain": [
       "| 371       | 100            | 1          | 1                    | 64.79ms          |"
      ]
     },
     "metadata": {},
     "output_type": "display_data"
    },
    {
     "data": {
      "text/html": [
       "<pre>| 372       | 100            | 1          | 1                    | 64.807ms         |</pre>"
      ],
      "text/plain": [
       "| 372       | 100            | 1          | 1                    | 64.807ms         |"
      ]
     },
     "metadata": {},
     "output_type": "display_data"
    },
    {
     "data": {
      "text/html": [
       "<pre>| 373       | 100            | 1          | 1                    | 64.831ms         |</pre>"
      ],
      "text/plain": [
       "| 373       | 100            | 1          | 1                    | 64.831ms         |"
      ]
     },
     "metadata": {},
     "output_type": "display_data"
    },
    {
     "data": {
      "text/html": [
       "<pre>| 374       | 100            | 1          | 1                    | 64.921ms         |</pre>"
      ],
      "text/plain": [
       "| 374       | 100            | 1          | 1                    | 64.921ms         |"
      ]
     },
     "metadata": {},
     "output_type": "display_data"
    },
    {
     "data": {
      "text/html": [
       "<pre>| 375       | 100            | 1          | 1                    | 64.967ms         |</pre>"
      ],
      "text/plain": [
       "| 375       | 100            | 1          | 1                    | 64.967ms         |"
      ]
     },
     "metadata": {},
     "output_type": "display_data"
    },
    {
     "data": {
      "text/html": [
       "<pre>| 376       | 100            | 1          | 1                    | 64.991ms         |</pre>"
      ],
      "text/plain": [
       "| 376       | 100            | 1          | 1                    | 64.991ms         |"
      ]
     },
     "metadata": {},
     "output_type": "display_data"
    },
    {
     "data": {
      "text/html": [
       "<pre>| 377       | 100            | 1          | 1                    | 65.008ms         |</pre>"
      ],
      "text/plain": [
       "| 377       | 100            | 1          | 1                    | 65.008ms         |"
      ]
     },
     "metadata": {},
     "output_type": "display_data"
    },
    {
     "data": {
      "text/html": [
       "<pre>| 378       | 100            | 1          | 1                    | 65.024ms         |</pre>"
      ],
      "text/plain": [
       "| 378       | 100            | 1          | 1                    | 65.024ms         |"
      ]
     },
     "metadata": {},
     "output_type": "display_data"
    },
    {
     "data": {
      "text/html": [
       "<pre>| 379       | 100            | 1          | 1                    | 65.035ms         |</pre>"
      ],
      "text/plain": [
       "| 379       | 100            | 1          | 1                    | 65.035ms         |"
      ]
     },
     "metadata": {},
     "output_type": "display_data"
    },
    {
     "data": {
      "text/html": [
       "<pre>| 380       | 100            | 1          | 1                    | 65.053ms         |</pre>"
      ],
      "text/plain": [
       "| 380       | 100            | 1          | 1                    | 65.053ms         |"
      ]
     },
     "metadata": {},
     "output_type": "display_data"
    },
    {
     "data": {
      "text/html": [
       "<pre>| 381       | 100            | 1          | 1                    | 65.073ms         |</pre>"
      ],
      "text/plain": [
       "| 381       | 100            | 1          | 1                    | 65.073ms         |"
      ]
     },
     "metadata": {},
     "output_type": "display_data"
    },
    {
     "data": {
      "text/html": [
       "<pre>| 382       | 100            | 1          | 1                    | 65.096ms         |</pre>"
      ],
      "text/plain": [
       "| 382       | 100            | 1          | 1                    | 65.096ms         |"
      ]
     },
     "metadata": {},
     "output_type": "display_data"
    },
    {
     "data": {
      "text/html": [
       "<pre>| 383       | 100            | 1          | 1                    | 65.113ms         |</pre>"
      ],
      "text/plain": [
       "| 383       | 100            | 1          | 1                    | 65.113ms         |"
      ]
     },
     "metadata": {},
     "output_type": "display_data"
    },
    {
     "data": {
      "text/html": [
       "<pre>| 384       | 100            | 1          | 1                    | 65.129ms         |</pre>"
      ],
      "text/plain": [
       "| 384       | 100            | 1          | 1                    | 65.129ms         |"
      ]
     },
     "metadata": {},
     "output_type": "display_data"
    },
    {
     "data": {
      "text/html": [
       "<pre>| 385       | 100            | 1          | 1                    | 68.469ms         |</pre>"
      ],
      "text/plain": [
       "| 385       | 100            | 1          | 1                    | 68.469ms         |"
      ]
     },
     "metadata": {},
     "output_type": "display_data"
    },
    {
     "data": {
      "text/html": [
       "<pre>| 386       | 100            | 1          | 1                    | 71.735ms         |</pre>"
      ],
      "text/plain": [
       "| 386       | 100            | 1          | 1                    | 71.735ms         |"
      ]
     },
     "metadata": {},
     "output_type": "display_data"
    },
    {
     "data": {
      "text/html": [
       "<pre>| 387       | 100            | 1          | 1                    | 71.774ms         |</pre>"
      ],
      "text/plain": [
       "| 387       | 100            | 1          | 1                    | 71.774ms         |"
      ]
     },
     "metadata": {},
     "output_type": "display_data"
    },
    {
     "data": {
      "text/html": [
       "<pre>| 388       | 100            | 1          | 1                    | 71.792ms         |</pre>"
      ],
      "text/plain": [
       "| 388       | 100            | 1          | 1                    | 71.792ms         |"
      ]
     },
     "metadata": {},
     "output_type": "display_data"
    },
    {
     "data": {
      "text/html": [
       "<pre>| Final     | 100            | -          | 1                    | 71.879ms         |</pre>"
      ],
      "text/plain": [
       "| Final     | 100            | -          | 1                    | 71.879ms         |"
      ]
     },
     "metadata": {},
     "output_type": "display_data"
    },
    {
     "data": {
      "text/html": [
       "<pre>+-----------+----------------+------------+----------------------+------------------+</pre>"
      ],
      "text/plain": [
       "+-----------+----------------+------------+----------------------+------------------+"
      ]
     },
     "metadata": {},
     "output_type": "display_data"
    },
    {
     "data": {
      "text/html": [
       "<pre>Pattern mining complete. Found 100 unique closed patterns.</pre>"
      ],
      "text/plain": [
       "Pattern mining complete. Found 100 unique closed patterns."
      ]
     },
     "metadata": {},
     "output_type": "display_data"
    }
   ],
   "source": [
    "frequent_pattern_model = graphlab.frequent_pattern_mining.create(dataset=biotech_stratups, item=\"acquirer_name\",\n",
    "        features=[\"company_state_code\",\"price_amount\"])"
   ]
  },
  {
   "cell_type": "code",
   "execution_count": 46,
   "metadata": {
    "collapsed": false
   },
   "outputs": [
    {
     "data": {
      "text/html": [
       "<pre>Preprocessing complete. Found 368 unique transactions.</pre>"
      ],
      "text/plain": [
       "Preprocessing complete. Found 368 unique transactions."
      ]
     },
     "metadata": {},
     "output_type": "display_data"
    }
   ],
   "source": [
    "features = frequent_pattern_model.extract_features(dataset=biotech_stratups)"
   ]
  },
  {
   "cell_type": "code",
   "execution_count": 47,
   "metadata": {
    "collapsed": false
   },
   "outputs": [
    {
     "data": {
      "text/html": [
       "<div style=\"max-height:1000px;max-width:1500px;overflow:auto;\"><table frame=\"box\" rules=\"cols\">\n",
       "    <tr>\n",
       "        <th style=\"padding-left: 1em; padding-right: 1em; text-align: center\">company_state_code</th>\n",
       "        <th style=\"padding-left: 1em; padding-right: 1em; text-align: center\">price_amount</th>\n",
       "        <th style=\"padding-left: 1em; padding-right: 1em; text-align: center\">extracted_features</th>\n",
       "    </tr>\n",
       "    <tr>\n",
       "        <td style=\"padding-left: 1em; padding-right: 1em; text-align: center; vertical-align: top\">NC</td>\n",
       "        <td style=\"padding-left: 1em; padding-right: 1em; text-align: center; vertical-align: top\">130000000</td>\n",
       "        <td style=\"padding-left: 1em; padding-right: 1em; text-align: center; vertical-align: top\">[0.0, 0.0, 0.0, 0.0, 0.0,<br>0.0, 0.0, 0.0, 0.0, 0.0, ...</td>\n",
       "    </tr>\n",
       "    <tr>\n",
       "        <td style=\"padding-left: 1em; padding-right: 1em; text-align: center; vertical-align: top\">CA</td>\n",
       "        <td style=\"padding-left: 1em; padding-right: 1em; text-align: center; vertical-align: top\">11300000</td>\n",
       "        <td style=\"padding-left: 1em; padding-right: 1em; text-align: center; vertical-align: top\">[0.0, 0.0, 0.0, 0.0, 0.0,<br>0.0, 0.0, 0.0, 0.0, 0.0, ...</td>\n",
       "    </tr>\n",
       "    <tr>\n",
       "        <td style=\"padding-left: 1em; padding-right: 1em; text-align: center; vertical-align: top\">CT</td>\n",
       "        <td style=\"padding-left: 1em; padding-right: 1em; text-align: center; vertical-align: top\">21650000</td>\n",
       "        <td style=\"padding-left: 1em; padding-right: 1em; text-align: center; vertical-align: top\">[0.0, 0.0, 0.0, 0.0, 0.0,<br>0.0, 0.0, 0.0, 0.0, 0.0, ...</td>\n",
       "    </tr>\n",
       "    <tr>\n",
       "        <td style=\"padding-left: 1em; padding-right: 1em; text-align: center; vertical-align: top\">MA</td>\n",
       "        <td style=\"padding-left: 1em; padding-right: 1em; text-align: center; vertical-align: top\">14500000</td>\n",
       "        <td style=\"padding-left: 1em; padding-right: 1em; text-align: center; vertical-align: top\">[0.0, 0.0, 0.0, 0.0, 0.0,<br>0.0, 0.0, 0.0, 0.0, 0.0, ...</td>\n",
       "    </tr>\n",
       "    <tr>\n",
       "        <td style=\"padding-left: 1em; padding-right: 1em; text-align: center; vertical-align: top\">MA</td>\n",
       "        <td style=\"padding-left: 1em; padding-right: 1em; text-align: center; vertical-align: top\">525000000</td>\n",
       "        <td style=\"padding-left: 1em; padding-right: 1em; text-align: center; vertical-align: top\">[0.0, 0.0, 0.0, 0.0, 0.0,<br>0.0, 0.0, 0.0, 0.0, 0.0, ...</td>\n",
       "    </tr>\n",
       "    <tr>\n",
       "        <td style=\"padding-left: 1em; padding-right: 1em; text-align: center; vertical-align: top\">PA</td>\n",
       "        <td style=\"padding-left: 1em; padding-right: 1em; text-align: center; vertical-align: top\">453000000</td>\n",
       "        <td style=\"padding-left: 1em; padding-right: 1em; text-align: center; vertical-align: top\">[0.0, 0.0, 0.0, 0.0, 0.0,<br>0.0, 0.0, 0.0, 0.0, 0.0, ...</td>\n",
       "    </tr>\n",
       "    <tr>\n",
       "        <td style=\"padding-left: 1em; padding-right: 1em; text-align: center; vertical-align: top\">VA</td>\n",
       "        <td style=\"padding-left: 1em; padding-right: 1em; text-align: center; vertical-align: top\">143500000</td>\n",
       "        <td style=\"padding-left: 1em; padding-right: 1em; text-align: center; vertical-align: top\">[0.0, 0.0, 0.0, 0.0, 0.0,<br>0.0, 0.0, 0.0, 0.0, 0.0, ...</td>\n",
       "    </tr>\n",
       "    <tr>\n",
       "        <td style=\"padding-left: 1em; padding-right: 1em; text-align: center; vertical-align: top\">MA</td>\n",
       "        <td style=\"padding-left: 1em; padding-right: 1em; text-align: center; vertical-align: top\">450000000</td>\n",
       "        <td style=\"padding-left: 1em; padding-right: 1em; text-align: center; vertical-align: top\">[1.0, 0.0, 0.0, 0.0, 0.0,<br>0.0, 0.0, 0.0, 0.0, 0.0, ...</td>\n",
       "    </tr>\n",
       "    <tr>\n",
       "        <td style=\"padding-left: 1em; padding-right: 1em; text-align: center; vertical-align: top\">CA</td>\n",
       "        <td style=\"padding-left: 1em; padding-right: 1em; text-align: center; vertical-align: top\">535000000</td>\n",
       "        <td style=\"padding-left: 1em; padding-right: 1em; text-align: center; vertical-align: top\">[0.0, 0.0, 0.0, 0.0, 0.0,<br>0.0, 0.0, 0.0, 0.0, 0.0, ...</td>\n",
       "    </tr>\n",
       "    <tr>\n",
       "        <td style=\"padding-left: 1em; padding-right: 1em; text-align: center; vertical-align: top\">K2</td>\n",
       "        <td style=\"padding-left: 1em; padding-right: 1em; text-align: center; vertical-align: top\">100000000</td>\n",
       "        <td style=\"padding-left: 1em; padding-right: 1em; text-align: center; vertical-align: top\">[0.0, 0.0, 0.0, 0.0, 0.0,<br>0.0, 0.0, 0.0, 0.0, 0.0, ...</td>\n",
       "    </tr>\n",
       "</table>\n",
       "[368 rows x 3 columns]<br/>Note: Only the head of the SFrame is printed.<br/>You can use print_rows(num_rows=m, num_columns=n) to print more rows and columns.\n",
       "</div>"
      ],
      "text/plain": [
       "Columns:\n",
       "\tcompany_state_code\tstr\n",
       "\tprice_amount\tint\n",
       "\textracted_features\tarray\n",
       "\n",
       "Rows: 368\n",
       "\n",
       "Data:\n",
       "+--------------------+--------------+-------------------------------+\n",
       "| company_state_code | price_amount |       extracted_features      |\n",
       "+--------------------+--------------+-------------------------------+\n",
       "|         NC         |  130000000   | [0.0, 0.0, 0.0, 0.0, 0.0, ... |\n",
       "|         CA         |   11300000   | [0.0, 0.0, 0.0, 0.0, 0.0, ... |\n",
       "|         CT         |   21650000   | [0.0, 0.0, 0.0, 0.0, 0.0, ... |\n",
       "|         MA         |   14500000   | [0.0, 0.0, 0.0, 0.0, 0.0, ... |\n",
       "|         MA         |  525000000   | [0.0, 0.0, 0.0, 0.0, 0.0, ... |\n",
       "|         PA         |  453000000   | [0.0, 0.0, 0.0, 0.0, 0.0, ... |\n",
       "|         VA         |  143500000   | [0.0, 0.0, 0.0, 0.0, 0.0, ... |\n",
       "|         MA         |  450000000   | [1.0, 0.0, 0.0, 0.0, 0.0, ... |\n",
       "|         CA         |  535000000   | [0.0, 0.0, 0.0, 0.0, 0.0, ... |\n",
       "|         K2         |  100000000   | [0.0, 0.0, 0.0, 0.0, 0.0, ... |\n",
       "+--------------------+--------------+-------------------------------+\n",
       "[368 rows x 3 columns]\n",
       "Note: Only the head of the SFrame is printed.\n",
       "You can use print_rows(num_rows=m, num_columns=n) to print more rows and columns."
      ]
     },
     "execution_count": 47,
     "metadata": {},
     "output_type": "execute_result"
    }
   ],
   "source": [
    "features\n"
   ]
  },
  {
   "cell_type": "code",
   "execution_count": 48,
   "metadata": {
    "collapsed": false
   },
   "outputs": [
    {
     "data": {
      "text/html": [
       "<pre>Preprocessing complete. Found 4000 unique transactions.</pre>"
      ],
      "text/plain": [
       "Preprocessing complete. Found 4000 unique transactions."
      ]
     },
     "metadata": {},
     "output_type": "display_data"
    }
   ],
   "source": [
    " predictions = frequent_pattern_model.predict(dataset=acquisitions)"
   ]
  },
  {
   "cell_type": "code",
   "execution_count": 50,
   "metadata": {
    "collapsed": false
   },
   "outputs": [
    {
     "data": {
      "text/html": [
       "<div style=\"max-height:1000px;max-width:1500px;overflow:auto;\"><table frame=\"box\" rules=\"cols\">\n",
       "    <tr>\n",
       "        <th style=\"padding-left: 1em; padding-right: 1em; text-align: center\">company_state_code</th>\n",
       "        <th style=\"padding-left: 1em; padding-right: 1em; text-align: center\">price_amount</th>\n",
       "        <th style=\"padding-left: 1em; padding-right: 1em; text-align: center\">prefix</th>\n",
       "        <th style=\"padding-left: 1em; padding-right: 1em; text-align: center\">prediction</th>\n",
       "        <th style=\"padding-left: 1em; padding-right: 1em; text-align: center\">confidence</th>\n",
       "        <th style=\"padding-left: 1em; padding-right: 1em; text-align: center\">prefix support</th>\n",
       "        <th style=\"padding-left: 1em; padding-right: 1em; text-align: center\">joint support</th>\n",
       "    </tr>\n",
       "    <tr>\n",
       "        <td style=\"padding-left: 1em; padding-right: 1em; text-align: center; vertical-align: top\">NC</td>\n",
       "        <td style=\"padding-left: 1em; padding-right: 1em; text-align: center; vertical-align: top\">8400000</td>\n",
       "        <td style=\"padding-left: 1em; padding-right: 1em; text-align: center; vertical-align: top\">[]</td>\n",
       "        <td style=\"padding-left: 1em; padding-right: 1em; text-align: center; vertical-align: top\">[Roche]</td>\n",
       "        <td style=\"padding-left: 1em; padding-right: 1em; text-align: center; vertical-align: top\">0.0353260869565</td>\n",
       "        <td style=\"padding-left: 1em; padding-right: 1em; text-align: center; vertical-align: top\">368</td>\n",
       "        <td style=\"padding-left: 1em; padding-right: 1em; text-align: center; vertical-align: top\">13</td>\n",
       "    </tr>\n",
       "    <tr>\n",
       "        <td style=\"padding-left: 1em; padding-right: 1em; text-align: center; vertical-align: top\">12</td>\n",
       "        <td style=\"padding-left: 1em; padding-right: 1em; text-align: center; vertical-align: top\">170000000</td>\n",
       "        <td style=\"padding-left: 1em; padding-right: 1em; text-align: center; vertical-align: top\">[]</td>\n",
       "        <td style=\"padding-left: 1em; padding-right: 1em; text-align: center; vertical-align: top\">[Roche]</td>\n",
       "        <td style=\"padding-left: 1em; padding-right: 1em; text-align: center; vertical-align: top\">0.0353260869565</td>\n",
       "        <td style=\"padding-left: 1em; padding-right: 1em; text-align: center; vertical-align: top\">368</td>\n",
       "        <td style=\"padding-left: 1em; padding-right: 1em; text-align: center; vertical-align: top\">13</td>\n",
       "    </tr>\n",
       "    <tr>\n",
       "        <td style=\"padding-left: 1em; padding-right: 1em; text-align: center; vertical-align: top\">CA</td>\n",
       "        <td style=\"padding-left: 1em; padding-right: 1em; text-align: center; vertical-align: top\">1400000000</td>\n",
       "        <td style=\"padding-left: 1em; padding-right: 1em; text-align: center; vertical-align: top\">[]</td>\n",
       "        <td style=\"padding-left: 1em; padding-right: 1em; text-align: center; vertical-align: top\">[Roche]</td>\n",
       "        <td style=\"padding-left: 1em; padding-right: 1em; text-align: center; vertical-align: top\">0.0353260869565</td>\n",
       "        <td style=\"padding-left: 1em; padding-right: 1em; text-align: center; vertical-align: top\">368</td>\n",
       "        <td style=\"padding-left: 1em; padding-right: 1em; text-align: center; vertical-align: top\">13</td>\n",
       "    </tr>\n",
       "    <tr>\n",
       "        <td style=\"padding-left: 1em; padding-right: 1em; text-align: center; vertical-align: top\">CA</td>\n",
       "        <td style=\"padding-left: 1em; padding-right: 1em; text-align: center; vertical-align: top\">1850000000</td>\n",
       "        <td style=\"padding-left: 1em; padding-right: 1em; text-align: center; vertical-align: top\">[]</td>\n",
       "        <td style=\"padding-left: 1em; padding-right: 1em; text-align: center; vertical-align: top\">[Roche]</td>\n",
       "        <td style=\"padding-left: 1em; padding-right: 1em; text-align: center; vertical-align: top\">0.0353260869565</td>\n",
       "        <td style=\"padding-left: 1em; padding-right: 1em; text-align: center; vertical-align: top\">368</td>\n",
       "        <td style=\"padding-left: 1em; padding-right: 1em; text-align: center; vertical-align: top\">13</td>\n",
       "    </tr>\n",
       "    <tr>\n",
       "        <td style=\"padding-left: 1em; padding-right: 1em; text-align: center; vertical-align: top\">IL</td>\n",
       "        <td style=\"padding-left: 1em; padding-right: 1em; text-align: center; vertical-align: top\">8000000</td>\n",
       "        <td style=\"padding-left: 1em; padding-right: 1em; text-align: center; vertical-align: top\">[]</td>\n",
       "        <td style=\"padding-left: 1em; padding-right: 1em; text-align: center; vertical-align: top\">[Roche]</td>\n",
       "        <td style=\"padding-left: 1em; padding-right: 1em; text-align: center; vertical-align: top\">0.0353260869565</td>\n",
       "        <td style=\"padding-left: 1em; padding-right: 1em; text-align: center; vertical-align: top\">368</td>\n",
       "        <td style=\"padding-left: 1em; padding-right: 1em; text-align: center; vertical-align: top\">13</td>\n",
       "    </tr>\n",
       "    <tr>\n",
       "        <td style=\"padding-left: 1em; padding-right: 1em; text-align: center; vertical-align: top\">H9</td>\n",
       "        <td style=\"padding-left: 1em; padding-right: 1em; text-align: center; vertical-align: top\">1055000000</td>\n",
       "        <td style=\"padding-left: 1em; padding-right: 1em; text-align: center; vertical-align: top\">[]</td>\n",
       "        <td style=\"padding-left: 1em; padding-right: 1em; text-align: center; vertical-align: top\">[Roche]</td>\n",
       "        <td style=\"padding-left: 1em; padding-right: 1em; text-align: center; vertical-align: top\">0.0353260869565</td>\n",
       "        <td style=\"padding-left: 1em; padding-right: 1em; text-align: center; vertical-align: top\">368</td>\n",
       "        <td style=\"padding-left: 1em; padding-right: 1em; text-align: center; vertical-align: top\">13</td>\n",
       "    </tr>\n",
       "    <tr>\n",
       "        <td style=\"padding-left: 1em; padding-right: 1em; text-align: center; vertical-align: top\"></td>\n",
       "        <td style=\"padding-left: 1em; padding-right: 1em; text-align: center; vertical-align: top\">1000</td>\n",
       "        <td style=\"padding-left: 1em; padding-right: 1em; text-align: center; vertical-align: top\">[]</td>\n",
       "        <td style=\"padding-left: 1em; padding-right: 1em; text-align: center; vertical-align: top\">[Roche]</td>\n",
       "        <td style=\"padding-left: 1em; padding-right: 1em; text-align: center; vertical-align: top\">0.0353260869565</td>\n",
       "        <td style=\"padding-left: 1em; padding-right: 1em; text-align: center; vertical-align: top\">368</td>\n",
       "        <td style=\"padding-left: 1em; padding-right: 1em; text-align: center; vertical-align: top\">13</td>\n",
       "    </tr>\n",
       "    <tr>\n",
       "        <td style=\"padding-left: 1em; padding-right: 1em; text-align: center; vertical-align: top\">NC</td>\n",
       "        <td style=\"padding-left: 1em; padding-right: 1em; text-align: center; vertical-align: top\">130000000</td>\n",
       "        <td style=\"padding-left: 1em; padding-right: 1em; text-align: center; vertical-align: top\">[]</td>\n",
       "        <td style=\"padding-left: 1em; padding-right: 1em; text-align: center; vertical-align: top\">[Roche]</td>\n",
       "        <td style=\"padding-left: 1em; padding-right: 1em; text-align: center; vertical-align: top\">0.0353260869565</td>\n",
       "        <td style=\"padding-left: 1em; padding-right: 1em; text-align: center; vertical-align: top\">368</td>\n",
       "        <td style=\"padding-left: 1em; padding-right: 1em; text-align: center; vertical-align: top\">13</td>\n",
       "    </tr>\n",
       "    <tr>\n",
       "        <td style=\"padding-left: 1em; padding-right: 1em; text-align: center; vertical-align: top\">FL</td>\n",
       "        <td style=\"padding-left: 1em; padding-right: 1em; text-align: center; vertical-align: top\">644000000</td>\n",
       "        <td style=\"padding-left: 1em; padding-right: 1em; text-align: center; vertical-align: top\">[]</td>\n",
       "        <td style=\"padding-left: 1em; padding-right: 1em; text-align: center; vertical-align: top\">[Roche]</td>\n",
       "        <td style=\"padding-left: 1em; padding-right: 1em; text-align: center; vertical-align: top\">0.0353260869565</td>\n",
       "        <td style=\"padding-left: 1em; padding-right: 1em; text-align: center; vertical-align: top\">368</td>\n",
       "        <td style=\"padding-left: 1em; padding-right: 1em; text-align: center; vertical-align: top\">13</td>\n",
       "    </tr>\n",
       "    <tr>\n",
       "        <td style=\"padding-left: 1em; padding-right: 1em; text-align: center; vertical-align: top\">NY</td>\n",
       "        <td style=\"padding-left: 1em; padding-right: 1em; text-align: center; vertical-align: top\">3555000</td>\n",
       "        <td style=\"padding-left: 1em; padding-right: 1em; text-align: center; vertical-align: top\">[]</td>\n",
       "        <td style=\"padding-left: 1em; padding-right: 1em; text-align: center; vertical-align: top\">[Roche]</td>\n",
       "        <td style=\"padding-left: 1em; padding-right: 1em; text-align: center; vertical-align: top\">0.0353260869565</td>\n",
       "        <td style=\"padding-left: 1em; padding-right: 1em; text-align: center; vertical-align: top\">368</td>\n",
       "        <td style=\"padding-left: 1em; padding-right: 1em; text-align: center; vertical-align: top\">13</td>\n",
       "    </tr>\n",
       "</table>\n",
       "[4000 rows x 7 columns]<br/>Note: Only the head of the SFrame is printed.<br/>You can use print_rows(num_rows=m, num_columns=n) to print more rows and columns.\n",
       "</div>"
      ],
      "text/plain": [
       "Columns:\n",
       "\tcompany_state_code\tstr\n",
       "\tprice_amount\tint\n",
       "\tprefix\tlist\n",
       "\tprediction\tlist\n",
       "\tconfidence\tfloat\n",
       "\tprefix support\tint\n",
       "\tjoint support\tint\n",
       "\n",
       "Rows: 4000\n",
       "\n",
       "Data:\n",
       "+--------------------+--------------+--------+------------+-----------------+\n",
       "| company_state_code | price_amount | prefix | prediction |    confidence   |\n",
       "+--------------------+--------------+--------+------------+-----------------+\n",
       "|         NC         |   8400000    |   []   |  [Roche]   | 0.0353260869565 |\n",
       "|         12         |  170000000   |   []   |  [Roche]   | 0.0353260869565 |\n",
       "|         CA         |  1400000000  |   []   |  [Roche]   | 0.0353260869565 |\n",
       "|         CA         |  1850000000  |   []   |  [Roche]   | 0.0353260869565 |\n",
       "|         IL         |   8000000    |   []   |  [Roche]   | 0.0353260869565 |\n",
       "|         H9         |  1055000000  |   []   |  [Roche]   | 0.0353260869565 |\n",
       "|                    |     1000     |   []   |  [Roche]   | 0.0353260869565 |\n",
       "|         NC         |  130000000   |   []   |  [Roche]   | 0.0353260869565 |\n",
       "|         FL         |  644000000   |   []   |  [Roche]   | 0.0353260869565 |\n",
       "|         NY         |   3555000    |   []   |  [Roche]   | 0.0353260869565 |\n",
       "+--------------------+--------------+--------+------------+-----------------+\n",
       "+----------------+---------------+\n",
       "| prefix support | joint support |\n",
       "+----------------+---------------+\n",
       "|      368       |       13      |\n",
       "|      368       |       13      |\n",
       "|      368       |       13      |\n",
       "|      368       |       13      |\n",
       "|      368       |       13      |\n",
       "|      368       |       13      |\n",
       "|      368       |       13      |\n",
       "|      368       |       13      |\n",
       "|      368       |       13      |\n",
       "|      368       |       13      |\n",
       "+----------------+---------------+\n",
       "[4000 rows x 7 columns]\n",
       "Note: Only the head of the SFrame is printed.\n",
       "You can use print_rows(num_rows=m, num_columns=n) to print more rows and columns."
      ]
     },
     "execution_count": 50,
     "metadata": {},
     "output_type": "execute_result"
    }
   ],
   "source": [
    "predictions"
   ]
  },
  {
   "cell_type": "code",
   "execution_count": 55,
   "metadata": {
    "collapsed": false
   },
   "outputs": [
    {
     "data": {
      "text/html": [
       "<div style=\"max-height:1000px;max-width:1500px;overflow:auto;\"><table frame=\"box\" rules=\"cols\">\n",
       "    <tr>\n",
       "        <th style=\"padding-left: 1em; padding-right: 1em; text-align: center\">company_state_code</th>\n",
       "        <th style=\"padding-left: 1em; padding-right: 1em; text-align: center\">price_amount</th>\n",
       "        <th style=\"padding-left: 1em; padding-right: 1em; text-align: center\">prefix</th>\n",
       "        <th style=\"padding-left: 1em; padding-right: 1em; text-align: center\">prediction</th>\n",
       "        <th style=\"padding-left: 1em; padding-right: 1em; text-align: center\">confidence</th>\n",
       "        <th style=\"padding-left: 1em; padding-right: 1em; text-align: center\">prefix support</th>\n",
       "        <th style=\"padding-left: 1em; padding-right: 1em; text-align: center\">joint support</th>\n",
       "    </tr>\n",
       "    <tr>\n",
       "        <td style=\"padding-left: 1em; padding-right: 1em; text-align: center; vertical-align: top\">NC</td>\n",
       "        <td style=\"padding-left: 1em; padding-right: 1em; text-align: center; vertical-align: top\">8400000</td>\n",
       "        <td style=\"padding-left: 1em; padding-right: 1em; text-align: center; vertical-align: top\">[]</td>\n",
       "        <td style=\"padding-left: 1em; padding-right: 1em; text-align: center; vertical-align: top\">[Roche]</td>\n",
       "        <td style=\"padding-left: 1em; padding-right: 1em; text-align: center; vertical-align: top\">0.0353260869565</td>\n",
       "        <td style=\"padding-left: 1em; padding-right: 1em; text-align: center; vertical-align: top\">368</td>\n",
       "        <td style=\"padding-left: 1em; padding-right: 1em; text-align: center; vertical-align: top\">13</td>\n",
       "    </tr>\n",
       "    <tr>\n",
       "        <td style=\"padding-left: 1em; padding-right: 1em; text-align: center; vertical-align: top\">12</td>\n",
       "        <td style=\"padding-left: 1em; padding-right: 1em; text-align: center; vertical-align: top\">170000000</td>\n",
       "        <td style=\"padding-left: 1em; padding-right: 1em; text-align: center; vertical-align: top\">[]</td>\n",
       "        <td style=\"padding-left: 1em; padding-right: 1em; text-align: center; vertical-align: top\">[Roche]</td>\n",
       "        <td style=\"padding-left: 1em; padding-right: 1em; text-align: center; vertical-align: top\">0.0353260869565</td>\n",
       "        <td style=\"padding-left: 1em; padding-right: 1em; text-align: center; vertical-align: top\">368</td>\n",
       "        <td style=\"padding-left: 1em; padding-right: 1em; text-align: center; vertical-align: top\">13</td>\n",
       "    </tr>\n",
       "    <tr>\n",
       "        <td style=\"padding-left: 1em; padding-right: 1em; text-align: center; vertical-align: top\">CA</td>\n",
       "        <td style=\"padding-left: 1em; padding-right: 1em; text-align: center; vertical-align: top\">1400000000</td>\n",
       "        <td style=\"padding-left: 1em; padding-right: 1em; text-align: center; vertical-align: top\">[]</td>\n",
       "        <td style=\"padding-left: 1em; padding-right: 1em; text-align: center; vertical-align: top\">[Roche]</td>\n",
       "        <td style=\"padding-left: 1em; padding-right: 1em; text-align: center; vertical-align: top\">0.0353260869565</td>\n",
       "        <td style=\"padding-left: 1em; padding-right: 1em; text-align: center; vertical-align: top\">368</td>\n",
       "        <td style=\"padding-left: 1em; padding-right: 1em; text-align: center; vertical-align: top\">13</td>\n",
       "    </tr>\n",
       "    <tr>\n",
       "        <td style=\"padding-left: 1em; padding-right: 1em; text-align: center; vertical-align: top\">CA</td>\n",
       "        <td style=\"padding-left: 1em; padding-right: 1em; text-align: center; vertical-align: top\">1850000000</td>\n",
       "        <td style=\"padding-left: 1em; padding-right: 1em; text-align: center; vertical-align: top\">[]</td>\n",
       "        <td style=\"padding-left: 1em; padding-right: 1em; text-align: center; vertical-align: top\">[Roche]</td>\n",
       "        <td style=\"padding-left: 1em; padding-right: 1em; text-align: center; vertical-align: top\">0.0353260869565</td>\n",
       "        <td style=\"padding-left: 1em; padding-right: 1em; text-align: center; vertical-align: top\">368</td>\n",
       "        <td style=\"padding-left: 1em; padding-right: 1em; text-align: center; vertical-align: top\">13</td>\n",
       "    </tr>\n",
       "    <tr>\n",
       "        <td style=\"padding-left: 1em; padding-right: 1em; text-align: center; vertical-align: top\">IL</td>\n",
       "        <td style=\"padding-left: 1em; padding-right: 1em; text-align: center; vertical-align: top\">8000000</td>\n",
       "        <td style=\"padding-left: 1em; padding-right: 1em; text-align: center; vertical-align: top\">[]</td>\n",
       "        <td style=\"padding-left: 1em; padding-right: 1em; text-align: center; vertical-align: top\">[Roche]</td>\n",
       "        <td style=\"padding-left: 1em; padding-right: 1em; text-align: center; vertical-align: top\">0.0353260869565</td>\n",
       "        <td style=\"padding-left: 1em; padding-right: 1em; text-align: center; vertical-align: top\">368</td>\n",
       "        <td style=\"padding-left: 1em; padding-right: 1em; text-align: center; vertical-align: top\">13</td>\n",
       "    </tr>\n",
       "    <tr>\n",
       "        <td style=\"padding-left: 1em; padding-right: 1em; text-align: center; vertical-align: top\">H9</td>\n",
       "        <td style=\"padding-left: 1em; padding-right: 1em; text-align: center; vertical-align: top\">1055000000</td>\n",
       "        <td style=\"padding-left: 1em; padding-right: 1em; text-align: center; vertical-align: top\">[]</td>\n",
       "        <td style=\"padding-left: 1em; padding-right: 1em; text-align: center; vertical-align: top\">[Roche]</td>\n",
       "        <td style=\"padding-left: 1em; padding-right: 1em; text-align: center; vertical-align: top\">0.0353260869565</td>\n",
       "        <td style=\"padding-left: 1em; padding-right: 1em; text-align: center; vertical-align: top\">368</td>\n",
       "        <td style=\"padding-left: 1em; padding-right: 1em; text-align: center; vertical-align: top\">13</td>\n",
       "    </tr>\n",
       "    <tr>\n",
       "        <td style=\"padding-left: 1em; padding-right: 1em; text-align: center; vertical-align: top\"></td>\n",
       "        <td style=\"padding-left: 1em; padding-right: 1em; text-align: center; vertical-align: top\">1000</td>\n",
       "        <td style=\"padding-left: 1em; padding-right: 1em; text-align: center; vertical-align: top\">[]</td>\n",
       "        <td style=\"padding-left: 1em; padding-right: 1em; text-align: center; vertical-align: top\">[Roche]</td>\n",
       "        <td style=\"padding-left: 1em; padding-right: 1em; text-align: center; vertical-align: top\">0.0353260869565</td>\n",
       "        <td style=\"padding-left: 1em; padding-right: 1em; text-align: center; vertical-align: top\">368</td>\n",
       "        <td style=\"padding-left: 1em; padding-right: 1em; text-align: center; vertical-align: top\">13</td>\n",
       "    </tr>\n",
       "    <tr>\n",
       "        <td style=\"padding-left: 1em; padding-right: 1em; text-align: center; vertical-align: top\">NC</td>\n",
       "        <td style=\"padding-left: 1em; padding-right: 1em; text-align: center; vertical-align: top\">130000000</td>\n",
       "        <td style=\"padding-left: 1em; padding-right: 1em; text-align: center; vertical-align: top\">[]</td>\n",
       "        <td style=\"padding-left: 1em; padding-right: 1em; text-align: center; vertical-align: top\">[Roche]</td>\n",
       "        <td style=\"padding-left: 1em; padding-right: 1em; text-align: center; vertical-align: top\">0.0353260869565</td>\n",
       "        <td style=\"padding-left: 1em; padding-right: 1em; text-align: center; vertical-align: top\">368</td>\n",
       "        <td style=\"padding-left: 1em; padding-right: 1em; text-align: center; vertical-align: top\">13</td>\n",
       "    </tr>\n",
       "    <tr>\n",
       "        <td style=\"padding-left: 1em; padding-right: 1em; text-align: center; vertical-align: top\">FL</td>\n",
       "        <td style=\"padding-left: 1em; padding-right: 1em; text-align: center; vertical-align: top\">644000000</td>\n",
       "        <td style=\"padding-left: 1em; padding-right: 1em; text-align: center; vertical-align: top\">[]</td>\n",
       "        <td style=\"padding-left: 1em; padding-right: 1em; text-align: center; vertical-align: top\">[Roche]</td>\n",
       "        <td style=\"padding-left: 1em; padding-right: 1em; text-align: center; vertical-align: top\">0.0353260869565</td>\n",
       "        <td style=\"padding-left: 1em; padding-right: 1em; text-align: center; vertical-align: top\">368</td>\n",
       "        <td style=\"padding-left: 1em; padding-right: 1em; text-align: center; vertical-align: top\">13</td>\n",
       "    </tr>\n",
       "    <tr>\n",
       "        <td style=\"padding-left: 1em; padding-right: 1em; text-align: center; vertical-align: top\">NY</td>\n",
       "        <td style=\"padding-left: 1em; padding-right: 1em; text-align: center; vertical-align: top\">3555000</td>\n",
       "        <td style=\"padding-left: 1em; padding-right: 1em; text-align: center; vertical-align: top\">[]</td>\n",
       "        <td style=\"padding-left: 1em; padding-right: 1em; text-align: center; vertical-align: top\">[Roche]</td>\n",
       "        <td style=\"padding-left: 1em; padding-right: 1em; text-align: center; vertical-align: top\">0.0353260869565</td>\n",
       "        <td style=\"padding-left: 1em; padding-right: 1em; text-align: center; vertical-align: top\">368</td>\n",
       "        <td style=\"padding-left: 1em; padding-right: 1em; text-align: center; vertical-align: top\">13</td>\n",
       "    </tr>\n",
       "</table>\n",
       "[10 rows x 7 columns]<br/>\n",
       "</div>"
      ],
      "text/plain": [
       "Columns:\n",
       "\tcompany_state_code\tstr\n",
       "\tprice_amount\tint\n",
       "\tprefix\tlist\n",
       "\tprediction\tlist\n",
       "\tconfidence\tfloat\n",
       "\tprefix support\tint\n",
       "\tjoint support\tint\n",
       "\n",
       "Rows: 10\n",
       "\n",
       "Data:\n",
       "+--------------------+--------------+--------+------------+-----------------+\n",
       "| company_state_code | price_amount | prefix | prediction |    confidence   |\n",
       "+--------------------+--------------+--------+------------+-----------------+\n",
       "|         NC         |   8400000    |   []   |  [Roche]   | 0.0353260869565 |\n",
       "|         12         |  170000000   |   []   |  [Roche]   | 0.0353260869565 |\n",
       "|         CA         |  1400000000  |   []   |  [Roche]   | 0.0353260869565 |\n",
       "|         CA         |  1850000000  |   []   |  [Roche]   | 0.0353260869565 |\n",
       "|         IL         |   8000000    |   []   |  [Roche]   | 0.0353260869565 |\n",
       "|         H9         |  1055000000  |   []   |  [Roche]   | 0.0353260869565 |\n",
       "|                    |     1000     |   []   |  [Roche]   | 0.0353260869565 |\n",
       "|         NC         |  130000000   |   []   |  [Roche]   | 0.0353260869565 |\n",
       "|         FL         |  644000000   |   []   |  [Roche]   | 0.0353260869565 |\n",
       "|         NY         |   3555000    |   []   |  [Roche]   | 0.0353260869565 |\n",
       "+--------------------+--------------+--------+------------+-----------------+\n",
       "+----------------+---------------+\n",
       "| prefix support | joint support |\n",
       "+----------------+---------------+\n",
       "|      368       |       13      |\n",
       "|      368       |       13      |\n",
       "|      368       |       13      |\n",
       "|      368       |       13      |\n",
       "|      368       |       13      |\n",
       "|      368       |       13      |\n",
       "|      368       |       13      |\n",
       "|      368       |       13      |\n",
       "|      368       |       13      |\n",
       "|      368       |       13      |\n",
       "+----------------+---------------+\n",
       "[10 rows x 7 columns]"
      ]
     },
     "execution_count": 55,
     "metadata": {},
     "output_type": "execute_result"
    }
   ],
   "source": [
    "predictions.head()"
   ]
  },
  {
   "cell_type": "code",
   "execution_count": 54,
   "metadata": {
    "collapsed": false
   },
   "outputs": [
    {
     "data": {
      "application/javascript": [
       "$(\"head\").append($(\"<link/>\").attr({\n",
       "  rel:  \"stylesheet\",\n",
       "  type: \"text/css\",\n",
       "  href: \"//cdnjs.cloudflare.com/ajax/libs/font-awesome/4.1.0/css/font-awesome.min.css\"\n",
       "}));\n",
       "$(\"head\").append($(\"<link/>\").attr({\n",
       "  rel:  \"stylesheet\",\n",
       "  type: \"text/css\",\n",
       "  href: \"//dato.com/files/canvas/1.10/css/canvas.css\"\n",
       "}));\n",
       "\n",
       "            (function(){\n",
       "\n",
       "                var e = null;\n",
       "                if (typeof element == 'undefined') {\n",
       "                    var scripts = document.getElementsByTagName('script');\n",
       "                    var thisScriptTag = scripts[scripts.length-1];\n",
       "                    var parentDiv = thisScriptTag.parentNode;\n",
       "                    e = document.createElement('div');\n",
       "                    parentDiv.appendChild(e);\n",
       "                } else {\n",
       "                    e = element[0];\n",
       "                }\n",
       "\n",
       "                if (typeof requirejs !== 'undefined') {\n",
       "                    // disable load timeout; ipython_app.js is large and can take a while to load.\n",
       "                    requirejs.config({waitSeconds: 0});\n",
       "                }\n",
       "\n",
       "                require(['//dato.com/files/canvas/1.10/js/ipython_app.js'], function(IPythonApp){\n",
       "                    var app = new IPythonApp();\n",
       "                    app.attachView('model','Evaluation', {\"comparison\": null, \"selected_variable\": {\"comparison\": null, \"name\": [\"frequent_pattern_model\"], \"view_file\": \"model\", \"view_component\": \"Evaluation\", \"view_params\": {\"model_type\": \"base\", \"view\": \"Evaluation\"}, \"view_components\": [\"Summary\", \"Evaluation\", \"Comparison\"], \"model_type\": \"base\", \"attributes\": {\"section_titles\": [\"Model fields\", \"Most frequent patterns\"], \"sections\": [[[\"Min support\", 1], [\"Max patterns\", 100], [\"Min pattern length\", 1]], [[[\"Roche\"], 13], [[\"Shire\"], 8], [[\"Abbott Labs\"], 7], [[\"Valeant Pharmaceuticals International\"], 7], [[\"Bristol-Myers Squibb\"], 6], [[\"Merck & Co.\"], 6], [[\"Perrigo\"], 4], [[\"Pfizer\"], 4], [[\"Thermo Fisher Scientific\"], 4], [[\"C. R. Bard\"], 4]]]}, \"evaluations\": [], \"type\": \"Model\"}, \"ipython\": true, \"view_params\": {\"model_type\": \"base\", \"view\": \"Evaluation\"}, \"model_type\": \"base\", \"attributes\": {\"section_titles\": [\"Model fields\", \"Most frequent patterns\"], \"sections\": [[[\"Min support\", 1], [\"Max patterns\", 100], [\"Min pattern length\", 1]], [[[\"Roche\"], 13], [[\"Shire\"], 8], [[\"Abbott Labs\"], 7], [[\"Valeant Pharmaceuticals International\"], 7], [[\"Bristol-Myers Squibb\"], 6], [[\"Merck & Co.\"], 6], [[\"Perrigo\"], 4], [[\"Pfizer\"], 4], [[\"Thermo Fisher Scientific\"], 4], [[\"C. R. Bard\"], 4]]]}, \"evaluations\": []}, e);\n",
       "                });\n",
       "            })();\n",
       "        "
      ]
     },
     "metadata": {},
     "output_type": "display_data"
    }
   ],
   "source": [
    "frequent_pattern_model.show(view='Evaluation')"
   ]
  },
  {
   "cell_type": "code",
   "execution_count": null,
   "metadata": {
    "collapsed": true
   },
   "outputs": [],
   "source": []
  }
 ],
 "metadata": {
  "kernelspec": {
   "display_name": "Python 2",
   "language": "python",
   "name": "python2"
  },
  "language_info": {
   "codemirror_mode": {
    "name": "ipython",
    "version": 2
   },
   "file_extension": ".py",
   "mimetype": "text/x-python",
   "name": "python",
   "nbconvert_exporter": "python",
   "pygments_lexer": "ipython2",
   "version": "2.7.11"
  }
 },
 "nbformat": 4,
 "nbformat_minor": 0
}
